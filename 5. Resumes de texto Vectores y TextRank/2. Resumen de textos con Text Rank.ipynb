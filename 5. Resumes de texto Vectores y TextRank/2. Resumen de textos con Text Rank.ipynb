{
 "cells": [
  {
   "cell_type": "markdown",
   "id": "3ac0631f-50b0-44b4-81dd-2caa3b5d68e9",
   "metadata": {
    "tags": []
   },
   "source": [
    "¿Qué es TextRank?\n",
    "\n",
    "A diferencia de simplemente tomar el promedio de los valores TF-IDF. TextRank se inspira en cómo las oraciones están relacionadas entre sí en términos de contenido.\n",
    "\n",
    "La idea central de TextRank proviene del algoritmo PageRank de Google. PageRank funciona de la siguiente manera:\n",
    "* Cada página web se considera un-nodo en una red.\n",
    "* Se asigna una puntuación a cada página web basada en la cantidad y calidad de los enlaces entrantes.\n",
    "* El internet se visualiza como una red de páginas web interconectadas.\n",
    "\n",
    "La idea detrás de PageRank es que una página es importante si otras páginas importantes la enlazan. Para adaptar el concepto de PageRank al texto:  \n",
    "**1. Preprocesar el documento**: Tokenizar el documento en oraciones. Se tratan las oraciones como \"páginas web\".  \n",
    "**2. Vectorizar las oraciones o palabras** con el fin de hacer una representación basada en grafos. Esto podría hacerse usando TF-IDF, bolsa de palabras, etc.  \n",
    "**3. Crear una matriz de similitud**: donde cada elemento representen oraciones o palabras. Los \"enlaces\" entre oraciones se determinan mediante la similitud del contenido (cosine similarity de sus vectores TF-IDF).  \n",
    "**4. Normalizar**: asegurarse de que cada fila sume uno.  \n",
    "**5. Construir un grafo**: Usando la matriz de similitud, crear un grafo donde los nodos representen oraciones o palabras y los bordes representen puntos de similitud.  \n",
    "**6. Puntuar cada nodo**: mediante el mecanismo de clasificación TextRank. Las oraciones que son similares a muchas otras oraciones \"importantes\" obtienen una puntuación más alta.  \n",
    "**7. Suavizado y regularización**, que cada nodo tenga aunque sea una pequeñisima probabilidad de apuntar a cualquier otra frase, para evitar sesgo.  \n",
    "**8. Extraer resultados**:Para resumir, seleccionar las oraciones con la mejor clasificación. Para la extracción de palabras clave, elegir las palabras mejor clasificadas."
   ]
  },
  {
   "cell_type": "code",
   "execution_count": 2,
   "id": "45701e17-fff2-4ea1-9f1f-a5c42345eed8",
   "metadata": {},
   "outputs": [],
   "source": [
    "import pandas as pd\n",
    "import numpy as np\n",
    "\n",
    "# Prevenir que no se corten las oraciones entre palabras debido a saltos de línea, sino en palabras completas\n",
    "import textwrap\n",
    "import nltk\n",
    "from nltk.corpus import stopwords\n",
    "from nltk import word_tokenize\n",
    "from nltk.stem import WordNetLemmatizer, PorterStemmer\n",
    "from sklearn.feature_extraction.text import TfidfVectorizer\n",
    "from sklearn.metrics.pairwise import cosine_similarity"
   ]
  },
  {
   "cell_type": "code",
   "execution_count": 3,
   "id": "8f0c09dd-bf64-49c7-a812-04fb1a376894",
   "metadata": {},
   "outputs": [],
   "source": [
    "# nltk.download('punkt')\n",
    "# nltk.download('stopwords')"
   ]
  },
  {
   "cell_type": "code",
   "execution_count": 4,
   "id": "2ac884f3-ebcc-48cb-9470-5b9ae15bb03d",
   "metadata": {},
   "outputs": [
    {
     "data": {
      "text/html": [
       "<div>\n",
       "<style scoped>\n",
       "    .dataframe tbody tr th:only-of-type {\n",
       "        vertical-align: middle;\n",
       "    }\n",
       "\n",
       "    .dataframe tbody tr th {\n",
       "        vertical-align: top;\n",
       "    }\n",
       "\n",
       "    .dataframe thead th {\n",
       "        text-align: right;\n",
       "    }\n",
       "</style>\n",
       "<table border=\"1\" class=\"dataframe\">\n",
       "  <thead>\n",
       "    <tr style=\"text-align: right;\">\n",
       "      <th></th>\n",
       "      <th>url</th>\n",
       "      <th>news</th>\n",
       "      <th>Type</th>\n",
       "    </tr>\n",
       "  </thead>\n",
       "  <tbody>\n",
       "    <tr>\n",
       "      <th>0</th>\n",
       "      <td>https://www.larepublica.co/redirect/post/3201905</td>\n",
       "      <td>Durante el foro La banca articulador empresari...</td>\n",
       "      <td>Otra</td>\n",
       "    </tr>\n",
       "    <tr>\n",
       "      <th>1</th>\n",
       "      <td>https://www.larepublica.co/redirect/post/3210288</td>\n",
       "      <td>El regulador de valores de China dijo el domin...</td>\n",
       "      <td>Regulaciones</td>\n",
       "    </tr>\n",
       "    <tr>\n",
       "      <th>2</th>\n",
       "      <td>https://www.larepublica.co/redirect/post/3240676</td>\n",
       "      <td>En una industria históricamente masculina como...</td>\n",
       "      <td>Alianzas</td>\n",
       "    </tr>\n",
       "    <tr>\n",
       "      <th>3</th>\n",
       "      <td>https://www.larepublica.co/redirect/post/3342889</td>\n",
       "      <td>Con el dato de marzo el IPC interanual encaden...</td>\n",
       "      <td>Macroeconomia</td>\n",
       "    </tr>\n",
       "    <tr>\n",
       "      <th>4</th>\n",
       "      <td>https://www.larepublica.co/redirect/post/3427208</td>\n",
       "      <td>Ayer en Cartagena se dio inicio a la versión n...</td>\n",
       "      <td>Otra</td>\n",
       "    </tr>\n",
       "  </tbody>\n",
       "</table>\n",
       "</div>"
      ],
      "text/plain": [
       "                                                url  \\\n",
       "0  https://www.larepublica.co/redirect/post/3201905   \n",
       "1  https://www.larepublica.co/redirect/post/3210288   \n",
       "2  https://www.larepublica.co/redirect/post/3240676   \n",
       "3  https://www.larepublica.co/redirect/post/3342889   \n",
       "4  https://www.larepublica.co/redirect/post/3427208   \n",
       "\n",
       "                                                news           Type  \n",
       "0  Durante el foro La banca articulador empresari...           Otra  \n",
       "1  El regulador de valores de China dijo el domin...   Regulaciones  \n",
       "2  En una industria históricamente masculina como...       Alianzas  \n",
       "3  Con el dato de marzo el IPC interanual encaden...  Macroeconomia  \n",
       "4  Ayer en Cartagena se dio inicio a la versión n...           Otra  "
      ]
     },
     "execution_count": 4,
     "metadata": {},
     "output_type": "execute_result"
    }
   ],
   "source": [
    "df = pd.read_csv('df_total.csv')\n",
    "df.head()"
   ]
  },
  {
   "cell_type": "code",
   "execution_count": 62,
   "id": "8efa7331-7ed1-4c85-ba29-1437c22a0e75",
   "metadata": {},
   "outputs": [
    {
     "name": "stdout",
     "output_type": "stream",
     "text": [
      "La semana pasada se conoció que el presidente Gustavo Petro intervendría a la Comisión de Regulación de Energía y Gas Creg después de las sorpresivas alzas que tuvieron algunos servicios públicos según el último informe del IPC revelado por el Dane tuvieron un aumento de 259 anual hasta agosto.Las comisiones reguladoras son para regular los mercados en función del derecho universal no para afirmar procesos de especulación financiera como hasta ahora lo han realizado comentó al respecto el mandatario. Sobre lo que se espera que sean las medidas que tome el Presidente frente a la Creg aún no hay una decisión fija. Pero analistas dicen que una de las acciones puede dirigirse por la forma en la que se establecen los precios.Si bien la tarifa es regulada por la comisión y esta define qué y cómo es lo que se puede cobrar por cada uno de los rubros para la prestación del servicio esta no dice a qué se ata dicho aumento como sí se hace en otros casos. Esto es lo que vemos en contratos de cualquier otro negocio. Cuando uno toma un inmueble por cuatro o cinco años se fija el monto de lo que será el pago por el arriendo pero también se pacta cada cuánto se hará un aumento a la tarifa y de qué dependerá este aumento que en estos casos casi siempre es al IPC dijo Alejandro Lucio director Optima Consultores.Alzas basadas en IPC y no IPPEn el caso de la Creg que ya tiene estipulado y posee poder sobre las formas y las tarifas en las que se actualizan los precios según las fórmulas establecidas esta es libre de accionar el indexado a la cifra o índice que desee.Tanto Lucio como Juan Carlos Echeverry ex ministro de Hacienda afirmaron que la comisión suele fijar sus alzas respecto al IPP que llegó a 20 en el último mes. Este es un indicador que está alza y se encuentra por las nubes dijo Lucio mientras que Echeverry agregó que es por dicha razón que los constantes aumentos en el precio tenga sentido.Reformular las ecuaciones de cobroOtra de las posibles formas por las que el Gobierno podría intervenir el precio de la energía eléctrica es reescribiendo las vías por las que se calculan los aumentos. Actualmente para cada rubro que se cobra en el recibo de la electricidad generación distribución etc. existen ecuaciones de las cuales dependen obviamente los cálculos de los aumentos.Allí la Creg es la encargada no solo de definir esas operaciones matemáticas sino también de fijar sobre cuáles se pueden fijar aumentos y cuáles por el contrario no se tocan. De esta manera ya sea por un lado o por el otro el Gobierno Petro podría velar por un cambio en este aspecto.Atacando los problemas sin tocar la CregEcheverry agregó que sí bien es cierto que la energía está carísima esto no es razón para que el Gobierno anuncie reformas a la Creg que puedan llegar a tirársela.En el país sí se puede bajar las tarifas al usuario sin tener que reformar la Creg y para eso se deben atacar tres problemas fundamentales el aumento del IPP echarse al hombro el problema de conectividad en la costa que nos cuesta mucho y el de las restricciones.De esta manera según el ex ministro el Gobierno podría solucionar este problema y salir victorioso en varios puntos aledaños pues terminará con buena gobernabilidad la Creg tendrá continuidad y los consumidores gozarán de precios más bajos.Otras intervenciones posiblesPor otro lado también es posible que la intervención vaya más por el lado del cambio o forma de elección de los seis expertos que conforman su Junta Directiva. Pues si bien el Gobierno cuenta directamente con tres de los nueve miembros totales Min Hacienda Minas y director del DNP dichos expertos son nombrados también por el ejecutivo pero al ser periodos de cuatro años casi siempre al Gobierno actual le toca lidiar con los nombrados por la Administración anterior.Este es el caso actual. A menos de un mes para que se acabara su mandato el expresidente Iván Duque nombró a la mitad de dichos expertos para que cumplieran con su cuatrienio casi a la par con el del presidente Petro.Panorama parecido al vivido con Ecopetrol empresa en la que también se actualizaron los estatutos meses antes del cambio de Gobierno y con lo que se le amplió el periodo a los miembros de la Junta Directiva de manera que la cumplieran en el mismo tiempo que el Presidente entrante.Al respecto Amylkar Acosta ex ministro de Minas y Energía durante el gobierno de Juan Manuel Santos afirmó que fueron sucesos desafortunados con la administración Petro. Allí si bien condenó el tono en el que el mandatario afirmó que no lo reten en el tema de la empresa estatal también rescató que es una reacción esperada cuando se tiene en cuenta que fue un accionar sin buena fe del Gobierno DuqueAlejandro Lucio sentenció que aunque la afirmación del Presidente de intervenir la Creg es buena para la tribuna y suena bien aún toca esperar la decisión final. Pues si bien es cierto que hay un montón de cosas por revisar toca ver si la decisión del mandatario se encamina por las vías en la que se fijan las tarifas o por quiénes son los que reglamentan dichos estatutos.Expertos de la CregActualmente la junta está compuesta por los expertos comisionados Jorge Valencia en el cargo de director José Fernando Prada Luis Julián Zuluaga Sara Vélez Natasha Avendaño y Andrés Barreto.Estos últimos tres nombrados a finales de julio por el entonces presidente Iván Duque. Tanto Avendaño como Barreto dejaron sus cargos en las superintendencias de Servicios Públicos e Industria y Comercio respectivamente para sumarse a la comisión.Sobre el grupo de personas Echeverry agregó que estos tal como los miembros de la Junta del Banco de la República son expertos que dedican su experticie 24 horas al día durante toda la semana a tomar las mejores medidas para el secto.Intervenir en ello sería un craso error pues de facto se está desestimando la opinión de los que más saben del tema y a quienes le debemos un país sin apagones en los últimos 30 años dijo el ex ministro Echeverry en Caracol Radio.Lo que dice la LeyVale aclarar que por constitución Ley 142 de servicios públicos el presidente tiene a cargo las tarifas de energía eléctrica y gas las cuales delega en la Creg cuyos miembros con tinte de independientes se eligen por el ejecutivo.Asimismo la Creg tiene la función de regular los monopolios en la prestación de los servicios públicos cuando la competencia no sea posible. En los demás casos se afirma en el portal también debe promover la competencia entre quienes presten servicios públicos para que las operaciones de los monopolistas o de los competidores sean económicamente eficientes y no impliquen abuso de la posición dominante y produzcan servicios de calidad.Tal como se dijo en LR la semana pasada el tema de la fijación de precios es relativamente sencillo. A lo ya dicho entonces por José Camilo Manzur director de Asocodis Lucio agregó que la forma en la que se fijan las tarifas remunera todo el sistema desde dónde se genera la energía o el gas hasta el lugar en el que se consume.\n"
     ]
    }
   ],
   "source": [
    "doc = df['news'].sample()\n",
    "print(doc.iloc[0])"
   ]
  },
  {
   "cell_type": "code",
   "execution_count": 64,
   "id": "d46ffdfc-6918-469a-839f-fdbd09d23d9c",
   "metadata": {
    "tags": []
   },
   "outputs": [],
   "source": [
    "def wrap(x):\n",
    "    return textwrap.fill(doc.iloc[0], replace_whitespace=False, fix_sentence_endings=True)"
   ]
  },
  {
   "cell_type": "code",
   "execution_count": 65,
   "id": "d0ba2ebc-0914-4737-b726-2a25d570990b",
   "metadata": {
    "tags": []
   },
   "outputs": [],
   "source": [
    "doc2 = wrap(doc.iloc[0])"
   ]
  },
  {
   "cell_type": "code",
   "execution_count": 66,
   "id": "d404b0ea-2005-4f4e-bd40-e3c6855e8577",
   "metadata": {
    "tags": []
   },
   "outputs": [],
   "source": [
    "lineas = doc2.split(\".\")"
   ]
  },
  {
   "cell_type": "code",
   "execution_count": 67,
   "id": "a6b8448d-6c7f-43b9-9973-ed6435fd6b10",
   "metadata": {
    "tags": []
   },
   "outputs": [
    {
     "name": "stdout",
     "output_type": "stream",
     "text": [
      "['La semana pasada se conoció que el presidente Gustavo Petro\\nintervendría a la Comisión de Regulación de Energía y Gas Creg después\\nde las sorpresivas alzas que tuvieron algunos servicios públicos según\\nel último informe del IPC revelado por el Dane tuvieron un aumento de\\n259 anual hasta agosto', 'Las comisiones reguladoras son para regular los\\nmercados en función del derecho universal no para afirmar procesos de\\nespeculación financiera como hasta ahora lo han realizado comentó al\\nrespecto el mandatario', '  Sobre lo que se espera que sean las medidas\\nque tome el Presidente frente a la Creg aún no hay una decisión fija', '\\nPero analistas dicen que una de las acciones puede dirigirse por la\\nforma en la que se establecen los precios', 'Si bien la tarifa es\\nregulada por la comisión y esta define qué y cómo es lo que se puede\\ncobrar por cada uno de los rubros para la prestación del servicio esta\\nno dice a qué se ata dicho aumento como sí se hace en otros casos', '\\nEsto es lo que vemos en contratos de cualquier otro negocio', '  Cuando\\nuno toma un inmueble por cuatro o cinco años se fija el monto de lo\\nque será el pago por el arriendo pero también se pacta cada cuánto se\\nhará un aumento a la tarifa y de qué dependerá este aumento que en\\nestos casos casi siempre es al IPC dijo Alejandro Lucio director\\nOptima Consultores', 'Alzas basadas en IPC y no IPPEn el caso de la Creg\\nque ya tiene estipulado y posee poder sobre las formas y las tarifas\\nen las que se actualizan los precios según las fórmulas establecidas\\nesta es libre de accionar el indexado a la cifra o índice que\\ndesee', 'Tanto Lucio como Juan Carlos Echeverry ex ministro de Hacienda\\nafirmaron que la comisión suele fijar sus alzas respecto al IPP que\\nllegó a 20 en el último mes', '  Este es un indicador que está alza y se\\nencuentra por las nubes dijo Lucio mientras que Echeverry agregó que\\nes por dicha razón que los constantes aumentos en el precio tenga\\nsentido', 'Reformular las ecuaciones de cobroOtra de las posibles formas\\npor las que el Gobierno podría intervenir el precio de la energía\\neléctrica es reescribiendo las vías por las que se calculan los\\naumentos', '  Actualmente para cada rubro que se cobra en el recibo de la\\nelectricidad generación distribución etc', '  existen ecuaciones de las\\ncuales dependen obviamente los cálculos de los aumentos', 'Allí la Creg\\nes la encargada no solo de definir esas operaciones matemáticas sino\\ntambién de fijar sobre cuáles se pueden fijar aumentos y cuáles por el\\ncontrario no se tocan', '  De esta manera ya sea por un lado o por el\\notro el Gobierno Petro podría velar por un cambio en este\\naspecto', 'Atacando los problemas sin tocar la CregEcheverry agregó que\\nsí bien es cierto que la energía está carísima esto no es razón para\\nque el Gobierno anuncie reformas a la Creg que puedan llegar a\\ntirársela', 'En el país sí se puede bajar las tarifas al usuario sin\\ntener que reformar la Creg y para eso se deben atacar tres problemas\\nfundamentales el aumento del IPP echarse al hombro el problema de\\nconectividad en la costa que nos cuesta mucho y el de las\\nrestricciones', 'De esta manera según el ex ministro el Gobierno podría\\nsolucionar este problema y salir victorioso en varios puntos aledaños\\npues terminará con buena gobernabilidad la Creg tendrá continuidad y\\nlos consumidores gozarán de precios más bajos', 'Otras intervenciones\\nposiblesPor otro lado también es posible que la intervención vaya más\\npor el lado del cambio o forma de elección de los seis expertos que\\nconforman su Junta Directiva', '  Pues si bien el Gobierno cuenta\\ndirectamente con tres de los nueve miembros totales Min Hacienda Minas\\ny director del DNP dichos expertos son nombrados también por el\\nejecutivo pero al ser periodos de cuatro años casi siempre al Gobierno\\nactual le toca lidiar con los nombrados por la Administración\\nanterior', 'Este es el caso actual', '  A menos de un mes para que se\\nacabara su mandato el expresidente Iván Duque nombró a la mitad de\\ndichos expertos para que cumplieran con su cuatrienio casi a la par\\ncon el del presidente Petro', 'Panorama parecido al vivido con Ecopetrol\\nempresa en la que también se actualizaron los estatutos meses antes\\ndel cambio de Gobierno y con lo que se le amplió el periodo a los\\nmiembros de la Junta Directiva de manera que la cumplieran en el mismo\\ntiempo que el Presidente entrante', 'Al respecto Amylkar Acosta ex\\nministro de Minas y Energía durante el gobierno de Juan Manuel Santos\\nafirmó que fueron sucesos desafortunados con la administración Petro', '\\nAllí si bien condenó el tono en el que el mandatario afirmó que no lo\\nreten en el tema de la empresa estatal también rescató que es una\\nreacción esperada cuando se tiene en cuenta que fue un accionar sin\\nbuena fe del Gobierno DuqueAlejandro Lucio sentenció que aunque la\\nafirmación del Presidente de intervenir la Creg es buena para la\\ntribuna y suena bien aún toca esperar la decisión final', '  Pues si bien\\nes cierto que hay un montón de cosas por revisar toca ver si la\\ndecisión del mandatario se encamina por las vías en la que se fijan\\nlas tarifas o por quiénes son los que reglamentan dichos\\nestatutos', 'Expertos de la CregActualmente la junta está compuesta por\\nlos expertos comisionados Jorge Valencia en el cargo de director José\\nFernando Prada Luis Julián Zuluaga Sara Vélez Natasha Avendaño y\\nAndrés Barreto', 'Estos últimos tres nombrados a finales de julio por el\\nentonces presidente Iván Duque', '  Tanto Avendaño como Barreto dejaron\\nsus cargos en las superintendencias de Servicios Públicos e Industria\\ny Comercio respectivamente para sumarse a la comisión', 'Sobre el grupo\\nde personas Echeverry agregó que estos tal como los miembros de la\\nJunta del Banco de la República son expertos que dedican su experticie\\n24 horas al día durante toda la semana a tomar las mejores medidas\\npara el secto', 'Intervenir en ello sería un craso error pues de facto se\\nestá desestimando la opinión de los que más saben del tema y a quienes\\nle debemos un país sin apagones en los últimos 30 años dijo el ex\\nministro Echeverry en Caracol Radio', 'Lo que dice la LeyVale aclarar que\\npor constitución Ley 142 de servicios públicos el presidente tiene a\\ncargo las tarifas de energía eléctrica y gas las cuales delega en la\\nCreg cuyos miembros con tinte de independientes se eligen por el\\nejecutivo', 'Asimismo la Creg tiene la función de regular los monopolios\\nen la prestación de los servicios públicos cuando la competencia no\\nsea posible', '  En los demás casos se afirma en el portal también debe\\npromover la competencia entre quienes presten servicios públicos para\\nque las operaciones de los monopolistas o de los competidores sean\\neconómicamente eficientes y no impliquen abuso de la posición\\ndominante y produzcan servicios de calidad', 'Tal como se dijo en LR la\\nsemana pasada el tema de la fijación de precios es relativamente\\nsencillo', '  A lo ya dicho entonces por José Camilo Manzur director de\\nAsocodis Lucio agregó que la forma en la que se fijan las tarifas\\nremunera todo el sistema desde dónde se genera la energía o el gas\\nhasta el lugar en el que se consume', '']\n"
     ]
    }
   ],
   "source": [
    "print(lineas)"
   ]
  },
  {
   "cell_type": "code",
   "execution_count": 68,
   "id": "41ca9349-f032-44d9-aec5-59a6b66aab62",
   "metadata": {
    "tags": []
   },
   "outputs": [],
   "source": [
    "# Eliminar elementos vacíos para prevenir errores\n",
    "lineas = [item for item in lineas if item.strip()]"
   ]
  },
  {
   "cell_type": "code",
   "execution_count": 69,
   "id": "38c1fe4a-7f82-45fa-978f-d381a3fdba92",
   "metadata": {
    "tags": []
   },
   "outputs": [
    {
     "name": "stdout",
     "output_type": "stream",
     "text": [
      "['La semana pasada se conoció que el presidente Gustavo Petro\\nintervendría a la Comisión de Regulación de Energía y Gas Creg después\\nde las sorpresivas alzas que tuvieron algunos servicios públicos según\\nel último informe del IPC revelado por el Dane tuvieron un aumento de\\n259 anual hasta agosto', 'Las comisiones reguladoras son para regular los\\nmercados en función del derecho universal no para afirmar procesos de\\nespeculación financiera como hasta ahora lo han realizado comentó al\\nrespecto el mandatario', '  Sobre lo que se espera que sean las medidas\\nque tome el Presidente frente a la Creg aún no hay una decisión fija', '\\nPero analistas dicen que una de las acciones puede dirigirse por la\\nforma en la que se establecen los precios', 'Si bien la tarifa es\\nregulada por la comisión y esta define qué y cómo es lo que se puede\\ncobrar por cada uno de los rubros para la prestación del servicio esta\\nno dice a qué se ata dicho aumento como sí se hace en otros casos', '\\nEsto es lo que vemos en contratos de cualquier otro negocio', '  Cuando\\nuno toma un inmueble por cuatro o cinco años se fija el monto de lo\\nque será el pago por el arriendo pero también se pacta cada cuánto se\\nhará un aumento a la tarifa y de qué dependerá este aumento que en\\nestos casos casi siempre es al IPC dijo Alejandro Lucio director\\nOptima Consultores', 'Alzas basadas en IPC y no IPPEn el caso de la Creg\\nque ya tiene estipulado y posee poder sobre las formas y las tarifas\\nen las que se actualizan los precios según las fórmulas establecidas\\nesta es libre de accionar el indexado a la cifra o índice que\\ndesee', 'Tanto Lucio como Juan Carlos Echeverry ex ministro de Hacienda\\nafirmaron que la comisión suele fijar sus alzas respecto al IPP que\\nllegó a 20 en el último mes', '  Este es un indicador que está alza y se\\nencuentra por las nubes dijo Lucio mientras que Echeverry agregó que\\nes por dicha razón que los constantes aumentos en el precio tenga\\nsentido', 'Reformular las ecuaciones de cobroOtra de las posibles formas\\npor las que el Gobierno podría intervenir el precio de la energía\\neléctrica es reescribiendo las vías por las que se calculan los\\naumentos', '  Actualmente para cada rubro que se cobra en el recibo de la\\nelectricidad generación distribución etc', '  existen ecuaciones de las\\ncuales dependen obviamente los cálculos de los aumentos', 'Allí la Creg\\nes la encargada no solo de definir esas operaciones matemáticas sino\\ntambién de fijar sobre cuáles se pueden fijar aumentos y cuáles por el\\ncontrario no se tocan', '  De esta manera ya sea por un lado o por el\\notro el Gobierno Petro podría velar por un cambio en este\\naspecto', 'Atacando los problemas sin tocar la CregEcheverry agregó que\\nsí bien es cierto que la energía está carísima esto no es razón para\\nque el Gobierno anuncie reformas a la Creg que puedan llegar a\\ntirársela', 'En el país sí se puede bajar las tarifas al usuario sin\\ntener que reformar la Creg y para eso se deben atacar tres problemas\\nfundamentales el aumento del IPP echarse al hombro el problema de\\nconectividad en la costa que nos cuesta mucho y el de las\\nrestricciones', 'De esta manera según el ex ministro el Gobierno podría\\nsolucionar este problema y salir victorioso en varios puntos aledaños\\npues terminará con buena gobernabilidad la Creg tendrá continuidad y\\nlos consumidores gozarán de precios más bajos', 'Otras intervenciones\\nposiblesPor otro lado también es posible que la intervención vaya más\\npor el lado del cambio o forma de elección de los seis expertos que\\nconforman su Junta Directiva', '  Pues si bien el Gobierno cuenta\\ndirectamente con tres de los nueve miembros totales Min Hacienda Minas\\ny director del DNP dichos expertos son nombrados también por el\\nejecutivo pero al ser periodos de cuatro años casi siempre al Gobierno\\nactual le toca lidiar con los nombrados por la Administración\\nanterior', 'Este es el caso actual', '  A menos de un mes para que se\\nacabara su mandato el expresidente Iván Duque nombró a la mitad de\\ndichos expertos para que cumplieran con su cuatrienio casi a la par\\ncon el del presidente Petro', 'Panorama parecido al vivido con Ecopetrol\\nempresa en la que también se actualizaron los estatutos meses antes\\ndel cambio de Gobierno y con lo que se le amplió el periodo a los\\nmiembros de la Junta Directiva de manera que la cumplieran en el mismo\\ntiempo que el Presidente entrante', 'Al respecto Amylkar Acosta ex\\nministro de Minas y Energía durante el gobierno de Juan Manuel Santos\\nafirmó que fueron sucesos desafortunados con la administración Petro', '\\nAllí si bien condenó el tono en el que el mandatario afirmó que no lo\\nreten en el tema de la empresa estatal también rescató que es una\\nreacción esperada cuando se tiene en cuenta que fue un accionar sin\\nbuena fe del Gobierno DuqueAlejandro Lucio sentenció que aunque la\\nafirmación del Presidente de intervenir la Creg es buena para la\\ntribuna y suena bien aún toca esperar la decisión final', '  Pues si bien\\nes cierto que hay un montón de cosas por revisar toca ver si la\\ndecisión del mandatario se encamina por las vías en la que se fijan\\nlas tarifas o por quiénes son los que reglamentan dichos\\nestatutos', 'Expertos de la CregActualmente la junta está compuesta por\\nlos expertos comisionados Jorge Valencia en el cargo de director José\\nFernando Prada Luis Julián Zuluaga Sara Vélez Natasha Avendaño y\\nAndrés Barreto', 'Estos últimos tres nombrados a finales de julio por el\\nentonces presidente Iván Duque', '  Tanto Avendaño como Barreto dejaron\\nsus cargos en las superintendencias de Servicios Públicos e Industria\\ny Comercio respectivamente para sumarse a la comisión', 'Sobre el grupo\\nde personas Echeverry agregó que estos tal como los miembros de la\\nJunta del Banco de la República son expertos que dedican su experticie\\n24 horas al día durante toda la semana a tomar las mejores medidas\\npara el secto', 'Intervenir en ello sería un craso error pues de facto se\\nestá desestimando la opinión de los que más saben del tema y a quienes\\nle debemos un país sin apagones en los últimos 30 años dijo el ex\\nministro Echeverry en Caracol Radio', 'Lo que dice la LeyVale aclarar que\\npor constitución Ley 142 de servicios públicos el presidente tiene a\\ncargo las tarifas de energía eléctrica y gas las cuales delega en la\\nCreg cuyos miembros con tinte de independientes se eligen por el\\nejecutivo', 'Asimismo la Creg tiene la función de regular los monopolios\\nen la prestación de los servicios públicos cuando la competencia no\\nsea posible', '  En los demás casos se afirma en el portal también debe\\npromover la competencia entre quienes presten servicios públicos para\\nque las operaciones de los monopolistas o de los competidores sean\\neconómicamente eficientes y no impliquen abuso de la posición\\ndominante y produzcan servicios de calidad', 'Tal como se dijo en LR la\\nsemana pasada el tema de la fijación de precios es relativamente\\nsencillo', '  A lo ya dicho entonces por José Camilo Manzur director de\\nAsocodis Lucio agregó que la forma en la que se fijan las tarifas\\nremunera todo el sistema desde dónde se genera la energía o el gas\\nhasta el lugar en el que se consume']\n"
     ]
    }
   ],
   "source": [
    "print(lineas)"
   ]
  },
  {
   "cell_type": "code",
   "execution_count": 70,
   "id": "42f9e229-bdf0-46c0-9024-d2280201b0ba",
   "metadata": {
    "tags": []
   },
   "outputs": [
    {
     "data": {
      "text/plain": [
       "36"
      ]
     },
     "execution_count": 70,
     "metadata": {},
     "output_type": "execute_result"
    }
   ],
   "source": [
    "len(lineas)"
   ]
  },
  {
   "cell_type": "code",
   "execution_count": 71,
   "id": "e45ea071-4a35-414c-8980-3901142be93b",
   "metadata": {
    "tags": []
   },
   "outputs": [],
   "source": [
    "tokenizar = TfidfVectorizer(\n",
    "    stop_words=stopwords.words('spanish'),\n",
    "    norm='l1',\n",
    ")"
   ]
  },
  {
   "cell_type": "code",
   "execution_count": 72,
   "id": "1a6b950c-fa1b-4621-b8af-076a3dd98cea",
   "metadata": {
    "tags": []
   },
   "outputs": [
    {
     "data": {
      "text/plain": [
       "<36x402 sparse matrix of type '<class 'numpy.float64'>'\n",
       "\twith 600 stored elements in Compressed Sparse Row format>"
      ]
     },
     "execution_count": 72,
     "metadata": {},
     "output_type": "execute_result"
    }
   ],
   "source": [
    "X = tokenizar.fit_transform(lineas)\n",
    "X"
   ]
  },
  {
   "cell_type": "code",
   "execution_count": 73,
   "id": "3da2be9a-b8cc-4f2b-9e9a-0c65321b77c6",
   "metadata": {
    "tags": []
   },
   "outputs": [],
   "source": [
    "# Matriz de similitud\n",
    "S = cosine_similarity(X)"
   ]
  },
  {
   "cell_type": "code",
   "execution_count": 74,
   "id": "b7b5f79b-a64e-4432-b058-376372fd8be4",
   "metadata": {
    "tags": []
   },
   "outputs": [
    {
     "data": {
      "text/plain": [
       "(36, 36)"
      ]
     },
     "execution_count": 74,
     "metadata": {},
     "output_type": "execute_result"
    }
   ],
   "source": [
    "S.shape"
   ]
  },
  {
   "cell_type": "code",
   "execution_count": 75,
   "id": "b9b0a09e-cdc3-4383-a076-99cf3aa3914c",
   "metadata": {
    "tags": []
   },
   "outputs": [
    {
     "data": {
      "text/plain": [
       "array([[1.        , 0.        , 0.06153979, ..., 0.07421124, 0.11334038,\n",
       "        0.06175058],\n",
       "       [0.        , 1.        , 0.        , ..., 0.        , 0.        ,\n",
       "        0.        ],\n",
       "       [0.06153979, 0.        , 1.        , ..., 0.        , 0.        ,\n",
       "        0.        ],\n",
       "       ...,\n",
       "       [0.07421124, 0.        , 0.        , ..., 1.        , 0.        ,\n",
       "        0.        ],\n",
       "       [0.11334038, 0.        , 0.        , ..., 0.        , 1.        ,\n",
       "        0.        ],\n",
       "       [0.06175058, 0.        , 0.        , ..., 0.        , 0.        ,\n",
       "        1.        ]])"
      ]
     },
     "execution_count": 75,
     "metadata": {},
     "output_type": "execute_result"
    }
   ],
   "source": [
    "S"
   ]
  },
  {
   "cell_type": "code",
   "execution_count": 76,
   "id": "8774bd77-a223-4f29-8de0-03d6dde6121d",
   "metadata": {
    "tags": []
   },
   "outputs": [
    {
     "data": {
      "text/plain": [
       "array([[0.39211975, 0.        , 0.02413097, ..., 0.02909969, 0.044443  ,\n",
       "        0.02421362],\n",
       "       [0.        , 0.75584118, 0.        , ..., 0.        , 0.        ,\n",
       "        0.        ],\n",
       "       [0.03401323, 0.        , 0.55270302, ..., 0.        , 0.        ,\n",
       "        0.        ],\n",
       "       ...,\n",
       "       [0.04755671, 0.        , 0.        , ..., 0.64082898, 0.        ,\n",
       "        0.        ],\n",
       "       [0.06842608, 0.        , 0.        , ..., 0.        , 0.60372201,\n",
       "        0.        ],\n",
       "       [0.0308693 , 0.        , 0.        , ..., 0.        , 0.        ,\n",
       "        0.49990307]])"
      ]
     },
     "execution_count": 76,
     "metadata": {},
     "output_type": "execute_result"
    }
   ],
   "source": [
    "# Normalize similirity matrix, sumar elemento de la fila por la suma de toda esa fila\n",
    "S = S/S.sum(axis=1, keepdims= True)\n",
    "S"
   ]
  },
  {
   "cell_type": "code",
   "execution_count": 77,
   "id": "954a3ab8-64b8-4aec-adc7-c4f9ae53358b",
   "metadata": {
    "tags": []
   },
   "outputs": [
    {
     "data": {
      "text/plain": [
       "1.0"
      ]
     },
     "execution_count": 77,
     "metadata": {},
     "output_type": "execute_result"
    }
   ],
   "source": [
    "S[1].sum()"
   ]
  },
  {
   "cell_type": "code",
   "execution_count": 78,
   "id": "8ce16055-f28e-495a-89cb-3e7b7901fe57",
   "metadata": {
    "tags": []
   },
   "outputs": [
    {
     "data": {
      "text/plain": [
       "array([[1., 1., 1., ..., 1., 1., 1.],\n",
       "       [1., 1., 1., ..., 1., 1., 1.],\n",
       "       [1., 1., 1., ..., 1., 1., 1.],\n",
       "       ...,\n",
       "       [1., 1., 1., ..., 1., 1., 1.],\n",
       "       [1., 1., 1., ..., 1., 1., 1.],\n",
       "       [1., 1., 1., ..., 1., 1., 1.]])"
      ]
     },
     "execution_count": 78,
     "metadata": {},
     "output_type": "execute_result"
    }
   ],
   "source": [
    "# Puntar nodos como un proceso de Markov, para ello convertir en una matriz de transición\n",
    "# es decir, añadir una pequeña probabilidad de que cualquier frase pueda pasar a otra en el lugar de los 0\n",
    "\n",
    "# Matriz dummy de 1's de las mismas dimensiones que la de similaridad\n",
    "U = np.ones_like(S)\n",
    "U"
   ]
  },
  {
   "cell_type": "code",
   "execution_count": 79,
   "id": "8d3309f2-350a-4d9e-b8fc-8a22f6ccc5f2",
   "metadata": {
    "tags": []
   },
   "outputs": [
    {
     "data": {
      "text/plain": [
       "(36, 36)"
      ]
     },
     "execution_count": 79,
     "metadata": {},
     "output_type": "execute_result"
    }
   ],
   "source": [
    "U.shape"
   ]
  },
  {
   "cell_type": "code",
   "execution_count": 80,
   "id": "e8444270-baf9-4b72-9b2a-3da94e50e86f",
   "metadata": {
    "tags": []
   },
   "outputs": [
    {
     "data": {
      "text/plain": [
       "array([[0.02777778, 0.02777778, 0.02777778, ..., 0.02777778, 0.02777778,\n",
       "        0.02777778],\n",
       "       [0.02777778, 0.02777778, 0.02777778, ..., 0.02777778, 0.02777778,\n",
       "        0.02777778],\n",
       "       [0.02777778, 0.02777778, 0.02777778, ..., 0.02777778, 0.02777778,\n",
       "        0.02777778],\n",
       "       ...,\n",
       "       [0.02777778, 0.02777778, 0.02777778, ..., 0.02777778, 0.02777778,\n",
       "        0.02777778],\n",
       "       [0.02777778, 0.02777778, 0.02777778, ..., 0.02777778, 0.02777778,\n",
       "        0.02777778],\n",
       "       [0.02777778, 0.02777778, 0.02777778, ..., 0.02777778, 0.02777778,\n",
       "        0.02777778]])"
      ]
     },
     "execution_count": 80,
     "metadata": {},
     "output_type": "execute_result"
    }
   ],
   "source": [
    "# Matriz de transición uniforme, donde cada línea sume 1\n",
    "U = np.ones_like(S) / len(S)\n",
    "U"
   ]
  },
  {
   "cell_type": "code",
   "execution_count": 81,
   "id": "3c7d9661-7f6f-4dee-a28e-68a86bd8a6c9",
   "metadata": {
    "tags": []
   },
   "outputs": [],
   "source": [
    "# Conbinar esta segunda matriz dummy con la matriz de similitud para obtenerla suavizada (sin 0's)\n",
    "factor = 0.15 # número pequeño ya que será el porcentaje que la matriz dummy modifique a la matriz de similitud\n",
    "S = (1 - factor)*S + factor * U"
   ]
  },
  {
   "cell_type": "code",
   "execution_count": 82,
   "id": "fadcac97-39a4-4576-a8b9-1cbbbef7bd4d",
   "metadata": {
    "tags": []
   },
   "outputs": [
    {
     "data": {
      "text/plain": [
       "array([[0.33746846, 0.00416667, 0.02467799, ..., 0.0289014 , 0.04194322,\n",
       "        0.02474824],\n",
       "       [0.00416667, 0.64663167, 0.00416667, ..., 0.00416667, 0.00416667,\n",
       "        0.00416667],\n",
       "       [0.03307791, 0.00416667, 0.47396424, ..., 0.00416667, 0.00416667,\n",
       "        0.00416667],\n",
       "       ...,\n",
       "       [0.04458987, 0.00416667, 0.00416667, ..., 0.5488713 , 0.00416667,\n",
       "        0.00416667],\n",
       "       [0.06232884, 0.00416667, 0.00416667, ..., 0.00416667, 0.51733038,\n",
       "        0.00416667],\n",
       "       [0.03040557, 0.00416667, 0.00416667, ..., 0.00416667, 0.00416667,\n",
       "        0.42908427]])"
      ]
     },
     "execution_count": 82,
     "metadata": {},
     "output_type": "execute_result"
    }
   ],
   "source": [
    "S"
   ]
  },
  {
   "cell_type": "code",
   "execution_count": 83,
   "id": "6ab2d36b-78af-4eb6-9641-3b6478e53324",
   "metadata": {
    "tags": []
   },
   "outputs": [],
   "source": [
    "eigenvals, eigenvecs = np.linalg.eig(S.T)"
   ]
  },
  {
   "cell_type": "code",
   "execution_count": 84,
   "id": "640a7c0a-2489-46aa-b73d-188bd66883e8",
   "metadata": {
    "tags": []
   },
   "outputs": [
    {
     "data": {
      "text/plain": [
       "array([1.        , 0.85      , 0.77400565, 0.70346684, 0.22377164,\n",
       "       0.68776778, 0.6772341 , 0.64796637, 0.25558682, 0.63324888,\n",
       "       0.61563713, 0.27283839, 0.28810645, 0.29653337, 0.30424792,\n",
       "       0.58211062, 0.57460644, 0.55233612, 0.53761511, 0.53070168,\n",
       "       0.32670312, 0.49806819, 0.34072537, 0.3485133 , 0.35994276,\n",
       "       0.36678935, 0.37620594, 0.38764601, 0.40065786, 0.41073244,\n",
       "       0.47828096, 0.47139894, 0.43290502, 0.45241596, 0.44925714,\n",
       "       0.44577354])"
      ]
     },
     "execution_count": 84,
     "metadata": {},
     "output_type": "execute_result"
    }
   ],
   "source": [
    "# El valor impportante es el primer 1\n",
    "eigenvals"
   ]
  },
  {
   "cell_type": "code",
   "execution_count": 85,
   "id": "a7771bbe-ae13-44ff-a9b0-89353028c2dc",
   "metadata": {
    "tags": []
   },
   "outputs": [
    {
     "data": {
      "text/plain": [
       "array([0.210356  , 0.13549242, 0.15823548, 0.14098944, 0.17546431,\n",
       "       0.16552526, 0.17187817, 0.16673559, 0.18189314, 0.16246075,\n",
       "       0.17888612, 0.14140944, 0.1377931 , 0.14343739, 0.1745774 ,\n",
       "       0.17018666, 0.15767726, 0.18228709, 0.15965784, 0.21818146,\n",
       "       0.1347882 , 0.16390286, 0.16597653, 0.17302736, 0.19642243,\n",
       "       0.17172316, 0.14804181, 0.15483598, 0.14995677, 0.15901447,\n",
       "       0.16188413, 0.19491153, 0.18057878, 0.14679318, 0.15163311,\n",
       "       0.17229488])"
      ]
     },
     "execution_count": 85,
     "metadata": {},
     "output_type": "execute_result"
    }
   ],
   "source": [
    "# Son las relaciones del 1 con el resto de frases\n",
    "eigenvecs[:,0]"
   ]
  },
  {
   "cell_type": "code",
   "execution_count": 86,
   "id": "356b5c8e-4cdc-4c7d-867f-49ae21c6025f",
   "metadata": {
    "tags": []
   },
   "outputs": [],
   "source": [
    "scores = eigenvecs[:,0]"
   ]
  },
  {
   "cell_type": "code",
   "execution_count": 87,
   "id": "b9135aa8-1498-4c09-85d2-6d870748c7f2",
   "metadata": {
    "tags": []
   },
   "outputs": [],
   "source": [
    "sort_idx = np.argsort(-scores)"
   ]
  },
  {
   "cell_type": "code",
   "execution_count": 88,
   "id": "1c2bab15-1562-4e53-b19c-ebc9405039e5",
   "metadata": {
    "tags": []
   },
   "outputs": [
    {
     "data": {
      "text/plain": [
       "array([19,  0, 24, 31, 17,  8, 32, 10,  4, 14, 23, 35,  6, 25, 15,  7, 22,\n",
       "        5, 21,  9, 30, 18, 29,  2, 16, 27, 34, 28, 26, 33, 13, 11,  3, 12,\n",
       "        1, 20], dtype=int64)"
      ]
     },
     "execution_count": 88,
     "metadata": {},
     "output_type": "execute_result"
    }
   ],
   "source": [
    "# Ordenar las oraciones más importantes, ranqueo de eigenvectores de mayor a menor\n",
    "sort_idx"
   ]
  },
  {
   "cell_type": "code",
   "execution_count": 89,
   "id": "073cffb6-d93d-40f4-8a01-2c9b864d1e0b",
   "metadata": {
    "tags": []
   },
   "outputs": [
    {
     "name": "stdout",
     "output_type": "stream",
     "text": [
      "Crear un resumen:\n",
      "La semana pasada se conoció que el presidente Gustavo Petro\n",
      "intervendría a la Comisión de Regulación de Energía y Gas Creg después\n",
      "de las sorpresivas alzas que tuvieron algunos servicios públicos según\n",
      "el último informe del IPC revelado por el Dane tuvieron un aumento de\n",
      "259 anual hasta agosto.Las comisiones reguladoras son para regular los\n",
      "mercados en función del derecho universal no para afirmar procesos de\n",
      "especulación financiera como hasta ahora lo han realizado comentó al\n",
      "respecto el mandatario.  Sobre lo que se espera que sean las medidas\n",
      "que tome el Presidente frente a la Creg aún no hay una decisión fija.\n",
      "Pero analistas dicen que una de las acciones puede dirigirse por la\n",
      "forma en la que se establecen los precios.Si bien la tarifa es\n",
      "regulada por la comisión y esta define qué y cómo es lo que se puede\n",
      "cobrar por cada uno de los rubros para la prestación del servicio esta\n",
      "no dice a qué se ata dicho aumento como sí se hace en otros casos.\n",
      "Esto es lo que vemos en contratos de cualquier otro negocio.  Cuando\n",
      "uno toma un inmueble por cuatro o cinco años se fija el monto de lo\n",
      "que será el pago por el arriendo pero también se pacta cada cuánto se\n",
      "hará un aumento a la tarifa y de qué dependerá este aumento que en\n",
      "estos casos casi siempre es al IPC dijo Alejandro Lucio director\n",
      "Optima Consultores.Alzas basadas en IPC y no IPPEn el caso de la Creg\n",
      "que ya tiene estipulado y posee poder sobre las formas y las tarifas\n",
      "en las que se actualizan los precios según las fórmulas establecidas\n",
      "esta es libre de accionar el indexado a la cifra o índice que\n",
      "desee.Tanto Lucio como Juan Carlos Echeverry ex ministro de Hacienda\n",
      "afirmaron que la comisión suele fijar sus alzas respecto al IPP que\n",
      "llegó a 20 en el último mes.  Este es un indicador que está alza y se\n",
      "encuentra por las nubes dijo Lucio mientras que Echeverry agregó que\n",
      "es por dicha razón que los constantes aumentos en el precio tenga\n",
      "sentido.Reformular las ecuaciones de cobroOtra de las posibles formas\n",
      "por las que el Gobierno podría intervenir el precio de la energía\n",
      "eléctrica es reescribiendo las vías por las que se calculan los\n",
      "aumentos.  Actualmente para cada rubro que se cobra en el recibo de la\n",
      "electricidad generación distribución etc.  existen ecuaciones de las\n",
      "cuales dependen obviamente los cálculos de los aumentos.Allí la Creg\n",
      "es la encargada no solo de definir esas operaciones matemáticas sino\n",
      "también de fijar sobre cuáles se pueden fijar aumentos y cuáles por el\n",
      "contrario no se tocan.  De esta manera ya sea por un lado o por el\n",
      "otro el Gobierno Petro podría velar por un cambio en este\n",
      "aspecto.Atacando los problemas sin tocar la CregEcheverry agregó que\n",
      "sí bien es cierto que la energía está carísima esto no es razón para\n",
      "que el Gobierno anuncie reformas a la Creg que puedan llegar a\n",
      "tirársela.En el país sí se puede bajar las tarifas al usuario sin\n",
      "tener que reformar la Creg y para eso se deben atacar tres problemas\n",
      "fundamentales el aumento del IPP echarse al hombro el problema de\n",
      "conectividad en la costa que nos cuesta mucho y el de las\n",
      "restricciones.De esta manera según el ex ministro el Gobierno podría\n",
      "solucionar este problema y salir victorioso en varios puntos aledaños\n",
      "pues terminará con buena gobernabilidad la Creg tendrá continuidad y\n",
      "los consumidores gozarán de precios más bajos.Otras intervenciones\n",
      "posiblesPor otro lado también es posible que la intervención vaya más\n",
      "por el lado del cambio o forma de elección de los seis expertos que\n",
      "conforman su Junta Directiva.  Pues si bien el Gobierno cuenta\n",
      "directamente con tres de los nueve miembros totales Min Hacienda Minas\n",
      "y director del DNP dichos expertos son nombrados también por el\n",
      "ejecutivo pero al ser periodos de cuatro años casi siempre al Gobierno\n",
      "actual le toca lidiar con los nombrados por la Administración\n",
      "anterior.Este es el caso actual.  A menos de un mes para que se\n",
      "acabara su mandato el expresidente Iván Duque nombró a la mitad de\n",
      "dichos expertos para que cumplieran con su cuatrienio casi a la par\n",
      "con el del presidente Petro.Panorama parecido al vivido con Ecopetrol\n",
      "empresa en la que también se actualizaron los estatutos meses antes\n",
      "del cambio de Gobierno y con lo que se le amplió el periodo a los\n",
      "miembros de la Junta Directiva de manera que la cumplieran en el mismo\n",
      "tiempo que el Presidente entrante.Al respecto Amylkar Acosta ex\n",
      "ministro de Minas y Energía durante el gobierno de Juan Manuel Santos\n",
      "afirmó que fueron sucesos desafortunados con la administración Petro.\n",
      "Allí si bien condenó el tono en el que el mandatario afirmó que no lo\n",
      "reten en el tema de la empresa estatal también rescató que es una\n",
      "reacción esperada cuando se tiene en cuenta que fue un accionar sin\n",
      "buena fe del Gobierno DuqueAlejandro Lucio sentenció que aunque la\n",
      "afirmación del Presidente de intervenir la Creg es buena para la\n",
      "tribuna y suena bien aún toca esperar la decisión final.  Pues si bien\n",
      "es cierto que hay un montón de cosas por revisar toca ver si la\n",
      "decisión del mandatario se encamina por las vías en la que se fijan\n",
      "las tarifas o por quiénes son los que reglamentan dichos\n",
      "estatutos.Expertos de la CregActualmente la junta está compuesta por\n",
      "los expertos comisionados Jorge Valencia en el cargo de director José\n",
      "Fernando Prada Luis Julián Zuluaga Sara Vélez Natasha Avendaño y\n",
      "Andrés Barreto.Estos últimos tres nombrados a finales de julio por el\n",
      "entonces presidente Iván Duque.  Tanto Avendaño como Barreto dejaron\n",
      "sus cargos en las superintendencias de Servicios Públicos e Industria\n",
      "y Comercio respectivamente para sumarse a la comisión.Sobre el grupo\n",
      "de personas Echeverry agregó que estos tal como los miembros de la\n",
      "Junta del Banco de la República son expertos que dedican su experticie\n",
      "24 horas al día durante toda la semana a tomar las mejores medidas\n",
      "para el secto.Intervenir en ello sería un craso error pues de facto se\n",
      "está desestimando la opinión de los que más saben del tema y a quienes\n",
      "le debemos un país sin apagones en los últimos 30 años dijo el ex\n",
      "ministro Echeverry en Caracol Radio.Lo que dice la LeyVale aclarar que\n",
      "por constitución Ley 142 de servicios públicos el presidente tiene a\n",
      "cargo las tarifas de energía eléctrica y gas las cuales delega en la\n",
      "Creg cuyos miembros con tinte de independientes se eligen por el\n",
      "ejecutivo.Asimismo la Creg tiene la función de regular los monopolios\n",
      "en la prestación de los servicios públicos cuando la competencia no\n",
      "sea posible.  En los demás casos se afirma en el portal también debe\n",
      "promover la competencia entre quienes presten servicios públicos para\n",
      "que las operaciones de los monopolistas o de los competidores sean\n",
      "económicamente eficientes y no impliquen abuso de la posición\n",
      "dominante y produzcan servicios de calidad.Tal como se dijo en LR la\n",
      "semana pasada el tema de la fijación de precios es relativamente\n",
      "sencillo.  A lo ya dicho entonces por José Camilo Manzur director de\n",
      "Asocodis Lucio agregó que la forma en la que se fijan las tarifas\n",
      "remunera todo el sistema desde dónde se genera la energía o el gas\n",
      "hasta el lugar en el que se consume.\n",
      "La semana pasada se conoció que el presidente Gustavo Petro\n",
      "intervendría a la Comisión de Regulación de Energía y Gas Creg después\n",
      "de las sorpresivas alzas que tuvieron algunos servicios públicos según\n",
      "el último informe del IPC revelado por el Dane tuvieron un aumento de\n",
      "259 anual hasta agosto.Las comisiones reguladoras son para regular los\n",
      "mercados en función del derecho universal no para afirmar procesos de\n",
      "especulación financiera como hasta ahora lo han realizado comentó al\n",
      "respecto el mandatario.  Sobre lo que se espera que sean las medidas\n",
      "que tome el Presidente frente a la Creg aún no hay una decisión fija.\n",
      "Pero analistas dicen que una de las acciones puede dirigirse por la\n",
      "forma en la que se establecen los precios.Si bien la tarifa es\n",
      "regulada por la comisión y esta define qué y cómo es lo que se puede\n",
      "cobrar por cada uno de los rubros para la prestación del servicio esta\n",
      "no dice a qué se ata dicho aumento como sí se hace en otros casos.\n",
      "Esto es lo que vemos en contratos de cualquier otro negocio.  Cuando\n",
      "uno toma un inmueble por cuatro o cinco años se fija el monto de lo\n",
      "que será el pago por el arriendo pero también se pacta cada cuánto se\n",
      "hará un aumento a la tarifa y de qué dependerá este aumento que en\n",
      "estos casos casi siempre es al IPC dijo Alejandro Lucio director\n",
      "Optima Consultores.Alzas basadas en IPC y no IPPEn el caso de la Creg\n",
      "que ya tiene estipulado y posee poder sobre las formas y las tarifas\n",
      "en las que se actualizan los precios según las fórmulas establecidas\n",
      "esta es libre de accionar el indexado a la cifra o índice que\n",
      "desee.Tanto Lucio como Juan Carlos Echeverry ex ministro de Hacienda\n",
      "afirmaron que la comisión suele fijar sus alzas respecto al IPP que\n",
      "llegó a 20 en el último mes.  Este es un indicador que está alza y se\n",
      "encuentra por las nubes dijo Lucio mientras que Echeverry agregó que\n",
      "es por dicha razón que los constantes aumentos en el precio tenga\n",
      "sentido.Reformular las ecuaciones de cobroOtra de las posibles formas\n",
      "por las que el Gobierno podría intervenir el precio de la energía\n",
      "eléctrica es reescribiendo las vías por las que se calculan los\n",
      "aumentos.  Actualmente para cada rubro que se cobra en el recibo de la\n",
      "electricidad generación distribución etc.  existen ecuaciones de las\n",
      "cuales dependen obviamente los cálculos de los aumentos.Allí la Creg\n",
      "es la encargada no solo de definir esas operaciones matemáticas sino\n",
      "también de fijar sobre cuáles se pueden fijar aumentos y cuáles por el\n",
      "contrario no se tocan.  De esta manera ya sea por un lado o por el\n",
      "otro el Gobierno Petro podría velar por un cambio en este\n",
      "aspecto.Atacando los problemas sin tocar la CregEcheverry agregó que\n",
      "sí bien es cierto que la energía está carísima esto no es razón para\n",
      "que el Gobierno anuncie reformas a la Creg que puedan llegar a\n",
      "tirársela.En el país sí se puede bajar las tarifas al usuario sin\n",
      "tener que reformar la Creg y para eso se deben atacar tres problemas\n",
      "fundamentales el aumento del IPP echarse al hombro el problema de\n",
      "conectividad en la costa que nos cuesta mucho y el de las\n",
      "restricciones.De esta manera según el ex ministro el Gobierno podría\n",
      "solucionar este problema y salir victorioso en varios puntos aledaños\n",
      "pues terminará con buena gobernabilidad la Creg tendrá continuidad y\n",
      "los consumidores gozarán de precios más bajos.Otras intervenciones\n",
      "posiblesPor otro lado también es posible que la intervención vaya más\n",
      "por el lado del cambio o forma de elección de los seis expertos que\n",
      "conforman su Junta Directiva.  Pues si bien el Gobierno cuenta\n",
      "directamente con tres de los nueve miembros totales Min Hacienda Minas\n",
      "y director del DNP dichos expertos son nombrados también por el\n",
      "ejecutivo pero al ser periodos de cuatro años casi siempre al Gobierno\n",
      "actual le toca lidiar con los nombrados por la Administración\n",
      "anterior.Este es el caso actual.  A menos de un mes para que se\n",
      "acabara su mandato el expresidente Iván Duque nombró a la mitad de\n",
      "dichos expertos para que cumplieran con su cuatrienio casi a la par\n",
      "con el del presidente Petro.Panorama parecido al vivido con Ecopetrol\n",
      "empresa en la que también se actualizaron los estatutos meses antes\n",
      "del cambio de Gobierno y con lo que se le amplió el periodo a los\n",
      "miembros de la Junta Directiva de manera que la cumplieran en el mismo\n",
      "tiempo que el Presidente entrante.Al respecto Amylkar Acosta ex\n",
      "ministro de Minas y Energía durante el gobierno de Juan Manuel Santos\n",
      "afirmó que fueron sucesos desafortunados con la administración Petro.\n",
      "Allí si bien condenó el tono en el que el mandatario afirmó que no lo\n",
      "reten en el tema de la empresa estatal también rescató que es una\n",
      "reacción esperada cuando se tiene en cuenta que fue un accionar sin\n",
      "buena fe del Gobierno DuqueAlejandro Lucio sentenció que aunque la\n",
      "afirmación del Presidente de intervenir la Creg es buena para la\n",
      "tribuna y suena bien aún toca esperar la decisión final.  Pues si bien\n",
      "es cierto que hay un montón de cosas por revisar toca ver si la\n",
      "decisión del mandatario se encamina por las vías en la que se fijan\n",
      "las tarifas o por quiénes son los que reglamentan dichos\n",
      "estatutos.Expertos de la CregActualmente la junta está compuesta por\n",
      "los expertos comisionados Jorge Valencia en el cargo de director José\n",
      "Fernando Prada Luis Julián Zuluaga Sara Vélez Natasha Avendaño y\n",
      "Andrés Barreto.Estos últimos tres nombrados a finales de julio por el\n",
      "entonces presidente Iván Duque.  Tanto Avendaño como Barreto dejaron\n",
      "sus cargos en las superintendencias de Servicios Públicos e Industria\n",
      "y Comercio respectivamente para sumarse a la comisión.Sobre el grupo\n",
      "de personas Echeverry agregó que estos tal como los miembros de la\n",
      "Junta del Banco de la República son expertos que dedican su experticie\n",
      "24 horas al día durante toda la semana a tomar las mejores medidas\n",
      "para el secto.Intervenir en ello sería un craso error pues de facto se\n",
      "está desestimando la opinión de los que más saben del tema y a quienes\n",
      "le debemos un país sin apagones en los últimos 30 años dijo el ex\n",
      "ministro Echeverry en Caracol Radio.Lo que dice la LeyVale aclarar que\n",
      "por constitución Ley 142 de servicios públicos el presidente tiene a\n",
      "cargo las tarifas de energía eléctrica y gas las cuales delega en la\n",
      "Creg cuyos miembros con tinte de independientes se eligen por el\n",
      "ejecutivo.Asimismo la Creg tiene la función de regular los monopolios\n",
      "en la prestación de los servicios públicos cuando la competencia no\n",
      "sea posible.  En los demás casos se afirma en el portal también debe\n",
      "promover la competencia entre quienes presten servicios públicos para\n",
      "que las operaciones de los monopolistas o de los competidores sean\n",
      "económicamente eficientes y no impliquen abuso de la posición\n",
      "dominante y produzcan servicios de calidad.Tal como se dijo en LR la\n",
      "semana pasada el tema de la fijación de precios es relativamente\n",
      "sencillo.  A lo ya dicho entonces por José Camilo Manzur director de\n",
      "Asocodis Lucio agregó que la forma en la que se fijan las tarifas\n",
      "remunera todo el sistema desde dónde se genera la energía o el gas\n",
      "hasta el lugar en el que se consume.\n",
      "La semana pasada se conoció que el presidente Gustavo Petro\n",
      "intervendría a la Comisión de Regulación de Energía y Gas Creg después\n",
      "de las sorpresivas alzas que tuvieron algunos servicios públicos según\n",
      "el último informe del IPC revelado por el Dane tuvieron un aumento de\n",
      "259 anual hasta agosto.Las comisiones reguladoras son para regular los\n",
      "mercados en función del derecho universal no para afirmar procesos de\n",
      "especulación financiera como hasta ahora lo han realizado comentó al\n",
      "respecto el mandatario.  Sobre lo que se espera que sean las medidas\n",
      "que tome el Presidente frente a la Creg aún no hay una decisión fija.\n",
      "Pero analistas dicen que una de las acciones puede dirigirse por la\n",
      "forma en la que se establecen los precios.Si bien la tarifa es\n",
      "regulada por la comisión y esta define qué y cómo es lo que se puede\n",
      "cobrar por cada uno de los rubros para la prestación del servicio esta\n",
      "no dice a qué se ata dicho aumento como sí se hace en otros casos.\n",
      "Esto es lo que vemos en contratos de cualquier otro negocio.  Cuando\n",
      "uno toma un inmueble por cuatro o cinco años se fija el monto de lo\n",
      "que será el pago por el arriendo pero también se pacta cada cuánto se\n",
      "hará un aumento a la tarifa y de qué dependerá este aumento que en\n",
      "estos casos casi siempre es al IPC dijo Alejandro Lucio director\n",
      "Optima Consultores.Alzas basadas en IPC y no IPPEn el caso de la Creg\n",
      "que ya tiene estipulado y posee poder sobre las formas y las tarifas\n",
      "en las que se actualizan los precios según las fórmulas establecidas\n",
      "esta es libre de accionar el indexado a la cifra o índice que\n",
      "desee.Tanto Lucio como Juan Carlos Echeverry ex ministro de Hacienda\n",
      "afirmaron que la comisión suele fijar sus alzas respecto al IPP que\n",
      "llegó a 20 en el último mes.  Este es un indicador que está alza y se\n",
      "encuentra por las nubes dijo Lucio mientras que Echeverry agregó que\n",
      "es por dicha razón que los constantes aumentos en el precio tenga\n",
      "sentido.Reformular las ecuaciones de cobroOtra de las posibles formas\n",
      "por las que el Gobierno podría intervenir el precio de la energía\n",
      "eléctrica es reescribiendo las vías por las que se calculan los\n",
      "aumentos.  Actualmente para cada rubro que se cobra en el recibo de la\n",
      "electricidad generación distribución etc.  existen ecuaciones de las\n",
      "cuales dependen obviamente los cálculos de los aumentos.Allí la Creg\n",
      "es la encargada no solo de definir esas operaciones matemáticas sino\n",
      "también de fijar sobre cuáles se pueden fijar aumentos y cuáles por el\n",
      "contrario no se tocan.  De esta manera ya sea por un lado o por el\n",
      "otro el Gobierno Petro podría velar por un cambio en este\n",
      "aspecto.Atacando los problemas sin tocar la CregEcheverry agregó que\n",
      "sí bien es cierto que la energía está carísima esto no es razón para\n",
      "que el Gobierno anuncie reformas a la Creg que puedan llegar a\n",
      "tirársela.En el país sí se puede bajar las tarifas al usuario sin\n",
      "tener que reformar la Creg y para eso se deben atacar tres problemas\n",
      "fundamentales el aumento del IPP echarse al hombro el problema de\n",
      "conectividad en la costa que nos cuesta mucho y el de las\n",
      "restricciones.De esta manera según el ex ministro el Gobierno podría\n",
      "solucionar este problema y salir victorioso en varios puntos aledaños\n",
      "pues terminará con buena gobernabilidad la Creg tendrá continuidad y\n",
      "los consumidores gozarán de precios más bajos.Otras intervenciones\n",
      "posiblesPor otro lado también es posible que la intervención vaya más\n",
      "por el lado del cambio o forma de elección de los seis expertos que\n",
      "conforman su Junta Directiva.  Pues si bien el Gobierno cuenta\n",
      "directamente con tres de los nueve miembros totales Min Hacienda Minas\n",
      "y director del DNP dichos expertos son nombrados también por el\n",
      "ejecutivo pero al ser periodos de cuatro años casi siempre al Gobierno\n",
      "actual le toca lidiar con los nombrados por la Administración\n",
      "anterior.Este es el caso actual.  A menos de un mes para que se\n",
      "acabara su mandato el expresidente Iván Duque nombró a la mitad de\n",
      "dichos expertos para que cumplieran con su cuatrienio casi a la par\n",
      "con el del presidente Petro.Panorama parecido al vivido con Ecopetrol\n",
      "empresa en la que también se actualizaron los estatutos meses antes\n",
      "del cambio de Gobierno y con lo que se le amplió el periodo a los\n",
      "miembros de la Junta Directiva de manera que la cumplieran en el mismo\n",
      "tiempo que el Presidente entrante.Al respecto Amylkar Acosta ex\n",
      "ministro de Minas y Energía durante el gobierno de Juan Manuel Santos\n",
      "afirmó que fueron sucesos desafortunados con la administración Petro.\n",
      "Allí si bien condenó el tono en el que el mandatario afirmó que no lo\n",
      "reten en el tema de la empresa estatal también rescató que es una\n",
      "reacción esperada cuando se tiene en cuenta que fue un accionar sin\n",
      "buena fe del Gobierno DuqueAlejandro Lucio sentenció que aunque la\n",
      "afirmación del Presidente de intervenir la Creg es buena para la\n",
      "tribuna y suena bien aún toca esperar la decisión final.  Pues si bien\n",
      "es cierto que hay un montón de cosas por revisar toca ver si la\n",
      "decisión del mandatario se encamina por las vías en la que se fijan\n",
      "las tarifas o por quiénes son los que reglamentan dichos\n",
      "estatutos.Expertos de la CregActualmente la junta está compuesta por\n",
      "los expertos comisionados Jorge Valencia en el cargo de director José\n",
      "Fernando Prada Luis Julián Zuluaga Sara Vélez Natasha Avendaño y\n",
      "Andrés Barreto.Estos últimos tres nombrados a finales de julio por el\n",
      "entonces presidente Iván Duque.  Tanto Avendaño como Barreto dejaron\n",
      "sus cargos en las superintendencias de Servicios Públicos e Industria\n",
      "y Comercio respectivamente para sumarse a la comisión.Sobre el grupo\n",
      "de personas Echeverry agregó que estos tal como los miembros de la\n",
      "Junta del Banco de la República son expertos que dedican su experticie\n",
      "24 horas al día durante toda la semana a tomar las mejores medidas\n",
      "para el secto.Intervenir en ello sería un craso error pues de facto se\n",
      "está desestimando la opinión de los que más saben del tema y a quienes\n",
      "le debemos un país sin apagones en los últimos 30 años dijo el ex\n",
      "ministro Echeverry en Caracol Radio.Lo que dice la LeyVale aclarar que\n",
      "por constitución Ley 142 de servicios públicos el presidente tiene a\n",
      "cargo las tarifas de energía eléctrica y gas las cuales delega en la\n",
      "Creg cuyos miembros con tinte de independientes se eligen por el\n",
      "ejecutivo.Asimismo la Creg tiene la función de regular los monopolios\n",
      "en la prestación de los servicios públicos cuando la competencia no\n",
      "sea posible.  En los demás casos se afirma en el portal también debe\n",
      "promover la competencia entre quienes presten servicios públicos para\n",
      "que las operaciones de los monopolistas o de los competidores sean\n",
      "económicamente eficientes y no impliquen abuso de la posición\n",
      "dominante y produzcan servicios de calidad.Tal como se dijo en LR la\n",
      "semana pasada el tema de la fijación de precios es relativamente\n",
      "sencillo.  A lo ya dicho entonces por José Camilo Manzur director de\n",
      "Asocodis Lucio agregó que la forma en la que se fijan las tarifas\n",
      "remunera todo el sistema desde dónde se genera la energía o el gas\n",
      "hasta el lugar en el que se consume.\n",
      "La semana pasada se conoció que el presidente Gustavo Petro\n",
      "intervendría a la Comisión de Regulación de Energía y Gas Creg después\n",
      "de las sorpresivas alzas que tuvieron algunos servicios públicos según\n",
      "el último informe del IPC revelado por el Dane tuvieron un aumento de\n",
      "259 anual hasta agosto.Las comisiones reguladoras son para regular los\n",
      "mercados en función del derecho universal no para afirmar procesos de\n",
      "especulación financiera como hasta ahora lo han realizado comentó al\n",
      "respecto el mandatario.  Sobre lo que se espera que sean las medidas\n",
      "que tome el Presidente frente a la Creg aún no hay una decisión fija.\n",
      "Pero analistas dicen que una de las acciones puede dirigirse por la\n",
      "forma en la que se establecen los precios.Si bien la tarifa es\n",
      "regulada por la comisión y esta define qué y cómo es lo que se puede\n",
      "cobrar por cada uno de los rubros para la prestación del servicio esta\n",
      "no dice a qué se ata dicho aumento como sí se hace en otros casos.\n",
      "Esto es lo que vemos en contratos de cualquier otro negocio.  Cuando\n",
      "uno toma un inmueble por cuatro o cinco años se fija el monto de lo\n",
      "que será el pago por el arriendo pero también se pacta cada cuánto se\n",
      "hará un aumento a la tarifa y de qué dependerá este aumento que en\n",
      "estos casos casi siempre es al IPC dijo Alejandro Lucio director\n",
      "Optima Consultores.Alzas basadas en IPC y no IPPEn el caso de la Creg\n",
      "que ya tiene estipulado y posee poder sobre las formas y las tarifas\n",
      "en las que se actualizan los precios según las fórmulas establecidas\n",
      "esta es libre de accionar el indexado a la cifra o índice que\n",
      "desee.Tanto Lucio como Juan Carlos Echeverry ex ministro de Hacienda\n",
      "afirmaron que la comisión suele fijar sus alzas respecto al IPP que\n",
      "llegó a 20 en el último mes.  Este es un indicador que está alza y se\n",
      "encuentra por las nubes dijo Lucio mientras que Echeverry agregó que\n",
      "es por dicha razón que los constantes aumentos en el precio tenga\n",
      "sentido.Reformular las ecuaciones de cobroOtra de las posibles formas\n",
      "por las que el Gobierno podría intervenir el precio de la energía\n",
      "eléctrica es reescribiendo las vías por las que se calculan los\n",
      "aumentos.  Actualmente para cada rubro que se cobra en el recibo de la\n",
      "electricidad generación distribución etc.  existen ecuaciones de las\n",
      "cuales dependen obviamente los cálculos de los aumentos.Allí la Creg\n",
      "es la encargada no solo de definir esas operaciones matemáticas sino\n",
      "también de fijar sobre cuáles se pueden fijar aumentos y cuáles por el\n",
      "contrario no se tocan.  De esta manera ya sea por un lado o por el\n",
      "otro el Gobierno Petro podría velar por un cambio en este\n",
      "aspecto.Atacando los problemas sin tocar la CregEcheverry agregó que\n",
      "sí bien es cierto que la energía está carísima esto no es razón para\n",
      "que el Gobierno anuncie reformas a la Creg que puedan llegar a\n",
      "tirársela.En el país sí se puede bajar las tarifas al usuario sin\n",
      "tener que reformar la Creg y para eso se deben atacar tres problemas\n",
      "fundamentales el aumento del IPP echarse al hombro el problema de\n",
      "conectividad en la costa que nos cuesta mucho y el de las\n",
      "restricciones.De esta manera según el ex ministro el Gobierno podría\n",
      "solucionar este problema y salir victorioso en varios puntos aledaños\n",
      "pues terminará con buena gobernabilidad la Creg tendrá continuidad y\n",
      "los consumidores gozarán de precios más bajos.Otras intervenciones\n",
      "posiblesPor otro lado también es posible que la intervención vaya más\n",
      "por el lado del cambio o forma de elección de los seis expertos que\n",
      "conforman su Junta Directiva.  Pues si bien el Gobierno cuenta\n",
      "directamente con tres de los nueve miembros totales Min Hacienda Minas\n",
      "y director del DNP dichos expertos son nombrados también por el\n",
      "ejecutivo pero al ser periodos de cuatro años casi siempre al Gobierno\n",
      "actual le toca lidiar con los nombrados por la Administración\n",
      "anterior.Este es el caso actual.  A menos de un mes para que se\n",
      "acabara su mandato el expresidente Iván Duque nombró a la mitad de\n",
      "dichos expertos para que cumplieran con su cuatrienio casi a la par\n",
      "con el del presidente Petro.Panorama parecido al vivido con Ecopetrol\n",
      "empresa en la que también se actualizaron los estatutos meses antes\n",
      "del cambio de Gobierno y con lo que se le amplió el periodo a los\n",
      "miembros de la Junta Directiva de manera que la cumplieran en el mismo\n",
      "tiempo que el Presidente entrante.Al respecto Amylkar Acosta ex\n",
      "ministro de Minas y Energía durante el gobierno de Juan Manuel Santos\n",
      "afirmó que fueron sucesos desafortunados con la administración Petro.\n",
      "Allí si bien condenó el tono en el que el mandatario afirmó que no lo\n",
      "reten en el tema de la empresa estatal también rescató que es una\n",
      "reacción esperada cuando se tiene en cuenta que fue un accionar sin\n",
      "buena fe del Gobierno DuqueAlejandro Lucio sentenció que aunque la\n",
      "afirmación del Presidente de intervenir la Creg es buena para la\n",
      "tribuna y suena bien aún toca esperar la decisión final.  Pues si bien\n",
      "es cierto que hay un montón de cosas por revisar toca ver si la\n",
      "decisión del mandatario se encamina por las vías en la que se fijan\n",
      "las tarifas o por quiénes son los que reglamentan dichos\n",
      "estatutos.Expertos de la CregActualmente la junta está compuesta por\n",
      "los expertos comisionados Jorge Valencia en el cargo de director José\n",
      "Fernando Prada Luis Julián Zuluaga Sara Vélez Natasha Avendaño y\n",
      "Andrés Barreto.Estos últimos tres nombrados a finales de julio por el\n",
      "entonces presidente Iván Duque.  Tanto Avendaño como Barreto dejaron\n",
      "sus cargos en las superintendencias de Servicios Públicos e Industria\n",
      "y Comercio respectivamente para sumarse a la comisión.Sobre el grupo\n",
      "de personas Echeverry agregó que estos tal como los miembros de la\n",
      "Junta del Banco de la República son expertos que dedican su experticie\n",
      "24 horas al día durante toda la semana a tomar las mejores medidas\n",
      "para el secto.Intervenir en ello sería un craso error pues de facto se\n",
      "está desestimando la opinión de los que más saben del tema y a quienes\n",
      "le debemos un país sin apagones en los últimos 30 años dijo el ex\n",
      "ministro Echeverry en Caracol Radio.Lo que dice la LeyVale aclarar que\n",
      "por constitución Ley 142 de servicios públicos el presidente tiene a\n",
      "cargo las tarifas de energía eléctrica y gas las cuales delega en la\n",
      "Creg cuyos miembros con tinte de independientes se eligen por el\n",
      "ejecutivo.Asimismo la Creg tiene la función de regular los monopolios\n",
      "en la prestación de los servicios públicos cuando la competencia no\n",
      "sea posible.  En los demás casos se afirma en el portal también debe\n",
      "promover la competencia entre quienes presten servicios públicos para\n",
      "que las operaciones de los monopolistas o de los competidores sean\n",
      "económicamente eficientes y no impliquen abuso de la posición\n",
      "dominante y produzcan servicios de calidad.Tal como se dijo en LR la\n",
      "semana pasada el tema de la fijación de precios es relativamente\n",
      "sencillo.  A lo ya dicho entonces por José Camilo Manzur director de\n",
      "Asocodis Lucio agregó que la forma en la que se fijan las tarifas\n",
      "remunera todo el sistema desde dónde se genera la energía o el gas\n",
      "hasta el lugar en el que se consume.\n",
      "La semana pasada se conoció que el presidente Gustavo Petro\n",
      "intervendría a la Comisión de Regulación de Energía y Gas Creg después\n",
      "de las sorpresivas alzas que tuvieron algunos servicios públicos según\n",
      "el último informe del IPC revelado por el Dane tuvieron un aumento de\n",
      "259 anual hasta agosto.Las comisiones reguladoras son para regular los\n",
      "mercados en función del derecho universal no para afirmar procesos de\n",
      "especulación financiera como hasta ahora lo han realizado comentó al\n",
      "respecto el mandatario.  Sobre lo que se espera que sean las medidas\n",
      "que tome el Presidente frente a la Creg aún no hay una decisión fija.\n",
      "Pero analistas dicen que una de las acciones puede dirigirse por la\n",
      "forma en la que se establecen los precios.Si bien la tarifa es\n",
      "regulada por la comisión y esta define qué y cómo es lo que se puede\n",
      "cobrar por cada uno de los rubros para la prestación del servicio esta\n",
      "no dice a qué se ata dicho aumento como sí se hace en otros casos.\n",
      "Esto es lo que vemos en contratos de cualquier otro negocio.  Cuando\n",
      "uno toma un inmueble por cuatro o cinco años se fija el monto de lo\n",
      "que será el pago por el arriendo pero también se pacta cada cuánto se\n",
      "hará un aumento a la tarifa y de qué dependerá este aumento que en\n",
      "estos casos casi siempre es al IPC dijo Alejandro Lucio director\n",
      "Optima Consultores.Alzas basadas en IPC y no IPPEn el caso de la Creg\n",
      "que ya tiene estipulado y posee poder sobre las formas y las tarifas\n",
      "en las que se actualizan los precios según las fórmulas establecidas\n",
      "esta es libre de accionar el indexado a la cifra o índice que\n",
      "desee.Tanto Lucio como Juan Carlos Echeverry ex ministro de Hacienda\n",
      "afirmaron que la comisión suele fijar sus alzas respecto al IPP que\n",
      "llegó a 20 en el último mes.  Este es un indicador que está alza y se\n",
      "encuentra por las nubes dijo Lucio mientras que Echeverry agregó que\n",
      "es por dicha razón que los constantes aumentos en el precio tenga\n",
      "sentido.Reformular las ecuaciones de cobroOtra de las posibles formas\n",
      "por las que el Gobierno podría intervenir el precio de la energía\n",
      "eléctrica es reescribiendo las vías por las que se calculan los\n",
      "aumentos.  Actualmente para cada rubro que se cobra en el recibo de la\n",
      "electricidad generación distribución etc.  existen ecuaciones de las\n",
      "cuales dependen obviamente los cálculos de los aumentos.Allí la Creg\n",
      "es la encargada no solo de definir esas operaciones matemáticas sino\n",
      "también de fijar sobre cuáles se pueden fijar aumentos y cuáles por el\n",
      "contrario no se tocan.  De esta manera ya sea por un lado o por el\n",
      "otro el Gobierno Petro podría velar por un cambio en este\n",
      "aspecto.Atacando los problemas sin tocar la CregEcheverry agregó que\n",
      "sí bien es cierto que la energía está carísima esto no es razón para\n",
      "que el Gobierno anuncie reformas a la Creg que puedan llegar a\n",
      "tirársela.En el país sí se puede bajar las tarifas al usuario sin\n",
      "tener que reformar la Creg y para eso se deben atacar tres problemas\n",
      "fundamentales el aumento del IPP echarse al hombro el problema de\n",
      "conectividad en la costa que nos cuesta mucho y el de las\n",
      "restricciones.De esta manera según el ex ministro el Gobierno podría\n",
      "solucionar este problema y salir victorioso en varios puntos aledaños\n",
      "pues terminará con buena gobernabilidad la Creg tendrá continuidad y\n",
      "los consumidores gozarán de precios más bajos.Otras intervenciones\n",
      "posiblesPor otro lado también es posible que la intervención vaya más\n",
      "por el lado del cambio o forma de elección de los seis expertos que\n",
      "conforman su Junta Directiva.  Pues si bien el Gobierno cuenta\n",
      "directamente con tres de los nueve miembros totales Min Hacienda Minas\n",
      "y director del DNP dichos expertos son nombrados también por el\n",
      "ejecutivo pero al ser periodos de cuatro años casi siempre al Gobierno\n",
      "actual le toca lidiar con los nombrados por la Administración\n",
      "anterior.Este es el caso actual.  A menos de un mes para que se\n",
      "acabara su mandato el expresidente Iván Duque nombró a la mitad de\n",
      "dichos expertos para que cumplieran con su cuatrienio casi a la par\n",
      "con el del presidente Petro.Panorama parecido al vivido con Ecopetrol\n",
      "empresa en la que también se actualizaron los estatutos meses antes\n",
      "del cambio de Gobierno y con lo que se le amplió el periodo a los\n",
      "miembros de la Junta Directiva de manera que la cumplieran en el mismo\n",
      "tiempo que el Presidente entrante.Al respecto Amylkar Acosta ex\n",
      "ministro de Minas y Energía durante el gobierno de Juan Manuel Santos\n",
      "afirmó que fueron sucesos desafortunados con la administración Petro.\n",
      "Allí si bien condenó el tono en el que el mandatario afirmó que no lo\n",
      "reten en el tema de la empresa estatal también rescató que es una\n",
      "reacción esperada cuando se tiene en cuenta que fue un accionar sin\n",
      "buena fe del Gobierno DuqueAlejandro Lucio sentenció que aunque la\n",
      "afirmación del Presidente de intervenir la Creg es buena para la\n",
      "tribuna y suena bien aún toca esperar la decisión final.  Pues si bien\n",
      "es cierto que hay un montón de cosas por revisar toca ver si la\n",
      "decisión del mandatario se encamina por las vías en la que se fijan\n",
      "las tarifas o por quiénes son los que reglamentan dichos\n",
      "estatutos.Expertos de la CregActualmente la junta está compuesta por\n",
      "los expertos comisionados Jorge Valencia en el cargo de director José\n",
      "Fernando Prada Luis Julián Zuluaga Sara Vélez Natasha Avendaño y\n",
      "Andrés Barreto.Estos últimos tres nombrados a finales de julio por el\n",
      "entonces presidente Iván Duque.  Tanto Avendaño como Barreto dejaron\n",
      "sus cargos en las superintendencias de Servicios Públicos e Industria\n",
      "y Comercio respectivamente para sumarse a la comisión.Sobre el grupo\n",
      "de personas Echeverry agregó que estos tal como los miembros de la\n",
      "Junta del Banco de la República son expertos que dedican su experticie\n",
      "24 horas al día durante toda la semana a tomar las mejores medidas\n",
      "para el secto.Intervenir en ello sería un craso error pues de facto se\n",
      "está desestimando la opinión de los que más saben del tema y a quienes\n",
      "le debemos un país sin apagones en los últimos 30 años dijo el ex\n",
      "ministro Echeverry en Caracol Radio.Lo que dice la LeyVale aclarar que\n",
      "por constitución Ley 142 de servicios públicos el presidente tiene a\n",
      "cargo las tarifas de energía eléctrica y gas las cuales delega en la\n",
      "Creg cuyos miembros con tinte de independientes se eligen por el\n",
      "ejecutivo.Asimismo la Creg tiene la función de regular los monopolios\n",
      "en la prestación de los servicios públicos cuando la competencia no\n",
      "sea posible.  En los demás casos se afirma en el portal también debe\n",
      "promover la competencia entre quienes presten servicios públicos para\n",
      "que las operaciones de los monopolistas o de los competidores sean\n",
      "económicamente eficientes y no impliquen abuso de la posición\n",
      "dominante y produzcan servicios de calidad.Tal como se dijo en LR la\n",
      "semana pasada el tema de la fijación de precios es relativamente\n",
      "sencillo.  A lo ya dicho entonces por José Camilo Manzur director de\n",
      "Asocodis Lucio agregó que la forma en la que se fijan las tarifas\n",
      "remunera todo el sistema desde dónde se genera la energía o el gas\n",
      "hasta el lugar en el que se consume.\n"
     ]
    }
   ],
   "source": [
    "print(\"Crear un resumen:\")\n",
    "for i in sort_idx[:5]:\n",
    "    print(wrap(\"%.2f: %s\" % (scores[i], lineas[i])))"
   ]
  }
 ],
 "metadata": {
  "kernelspec": {
   "display_name": "Python 3 (ipykernel)",
   "language": "python",
   "name": "python3"
  },
  "language_info": {
   "codemirror_mode": {
    "name": "ipython",
    "version": 3
   },
   "file_extension": ".py",
   "mimetype": "text/x-python",
   "name": "python",
   "nbconvert_exporter": "python",
   "pygments_lexer": "ipython3",
   "version": "3.11.7"
  }
 },
 "nbformat": 4,
 "nbformat_minor": 5
}
