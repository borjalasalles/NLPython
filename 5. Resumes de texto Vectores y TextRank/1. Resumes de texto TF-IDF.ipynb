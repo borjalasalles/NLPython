{
 "cells": [
  {
   "cell_type": "markdown",
   "id": "4bea6d43-cd0f-440a-be26-2eaa4cb95c3c",
   "metadata": {},
   "source": [
    "# [Curso de Procesamiento del Lenguaje Natural (NLP) | Crear un resumen de textos con Python | E35](https://www.youtube.com/watch?v=SiOIrMR6aw8&list=PL7HAy5R0ehQVdPVLV6pIJA9ZE2vVyLRxX&index=35)"
   ]
  },
  {
   "cell_type": "markdown",
   "id": "161415d7-8312-4f04-9cc2-0afde634a5a5",
   "metadata": {
    "tags": []
   },
   "source": [
    "Los resumenes basados en vectores son muy mejorables pero esta es una forma rápida de realizarlos.\n",
    "\n",
    "1. Se divide el documento en oraciones.\n",
    "2. Se computa una matriz TF-IDF para esas oraciones.\n",
    "3. Cada oración se convierte en un vector de valores TF-IDE para cada palabra.\n",
    "4. Se puntúa cada oración tomando el **promedio de los componentes TF-IDF**.\n",
    "5. El resumen consiste en las oraciones con la puntuación más alta."
   ]
  },
  {
   "cell_type": "code",
   "execution_count": 1,
   "id": "4b02509d",
   "metadata": {},
   "outputs": [],
   "source": [
    "import pandas as pd\n",
    "import numpy as np\n",
    "\n",
    "# Prevenir que no se corten las oraciones entre palabras debido a saltos de línea, sino en palabras completas\n",
    "import textwrap\n",
    "import nltk\n",
    "from nltk.corpus import stopwords\n",
    "from nltk import word_tokenize\n",
    "from sklearn.feature_extraction.text import TfidfVectorizer"
   ]
  },
  {
   "cell_type": "code",
   "execution_count": 2,
   "id": "b1eda31e",
   "metadata": {},
   "outputs": [
    {
     "name": "stderr",
     "output_type": "stream",
     "text": [
      "[nltk_data] Downloading package punkt to\n",
      "[nltk_data]     C:\\Users\\Jaime\\AppData\\Roaming\\nltk_data...\n",
      "[nltk_data]   Package punkt is already up-to-date!\n",
      "[nltk_data] Downloading package stopwords to\n",
      "[nltk_data]     C:\\Users\\Jaime\\AppData\\Roaming\\nltk_data...\n",
      "[nltk_data]   Package stopwords is already up-to-date!\n"
     ]
    },
    {
     "data": {
      "text/plain": [
       "True"
      ]
     },
     "execution_count": 2,
     "metadata": {},
     "output_type": "execute_result"
    }
   ],
   "source": [
    "nltk.download('punkt')\n",
    "nltk.download('stopwords')"
   ]
  },
  {
   "cell_type": "code",
   "execution_count": 3,
   "id": "710d6744",
   "metadata": {},
   "outputs": [],
   "source": [
    "df = pd.read_csv('df_total.csv')"
   ]
  },
  {
   "cell_type": "code",
   "execution_count": 4,
   "id": "356cff19",
   "metadata": {},
   "outputs": [
    {
     "data": {
      "text/html": [
       "<div>\n",
       "<style scoped>\n",
       "    .dataframe tbody tr th:only-of-type {\n",
       "        vertical-align: middle;\n",
       "    }\n",
       "\n",
       "    .dataframe tbody tr th {\n",
       "        vertical-align: top;\n",
       "    }\n",
       "\n",
       "    .dataframe thead th {\n",
       "        text-align: right;\n",
       "    }\n",
       "</style>\n",
       "<table border=\"1\" class=\"dataframe\">\n",
       "  <thead>\n",
       "    <tr style=\"text-align: right;\">\n",
       "      <th></th>\n",
       "      <th>url</th>\n",
       "      <th>news</th>\n",
       "      <th>Type</th>\n",
       "    </tr>\n",
       "  </thead>\n",
       "  <tbody>\n",
       "    <tr>\n",
       "      <th>0</th>\n",
       "      <td>https://www.larepublica.co/redirect/post/3201905</td>\n",
       "      <td>Durante el foro La banca articulador empresari...</td>\n",
       "      <td>Otra</td>\n",
       "    </tr>\n",
       "    <tr>\n",
       "      <th>1</th>\n",
       "      <td>https://www.larepublica.co/redirect/post/3210288</td>\n",
       "      <td>El regulador de valores de China dijo el domin...</td>\n",
       "      <td>Regulaciones</td>\n",
       "    </tr>\n",
       "    <tr>\n",
       "      <th>2</th>\n",
       "      <td>https://www.larepublica.co/redirect/post/3240676</td>\n",
       "      <td>En una industria históricamente masculina como...</td>\n",
       "      <td>Alianzas</td>\n",
       "    </tr>\n",
       "    <tr>\n",
       "      <th>3</th>\n",
       "      <td>https://www.larepublica.co/redirect/post/3342889</td>\n",
       "      <td>Con el dato de marzo el IPC interanual encaden...</td>\n",
       "      <td>Macroeconomia</td>\n",
       "    </tr>\n",
       "    <tr>\n",
       "      <th>4</th>\n",
       "      <td>https://www.larepublica.co/redirect/post/3427208</td>\n",
       "      <td>Ayer en Cartagena se dio inicio a la versión n...</td>\n",
       "      <td>Otra</td>\n",
       "    </tr>\n",
       "  </tbody>\n",
       "</table>\n",
       "</div>"
      ],
      "text/plain": [
       "                                                url  \\\n",
       "0  https://www.larepublica.co/redirect/post/3201905   \n",
       "1  https://www.larepublica.co/redirect/post/3210288   \n",
       "2  https://www.larepublica.co/redirect/post/3240676   \n",
       "3  https://www.larepublica.co/redirect/post/3342889   \n",
       "4  https://www.larepublica.co/redirect/post/3427208   \n",
       "\n",
       "                                                news           Type  \n",
       "0  Durante el foro La banca articulador empresari...           Otra  \n",
       "1  El regulador de valores de China dijo el domin...   Regulaciones  \n",
       "2  En una industria históricamente masculina como...       Alianzas  \n",
       "3  Con el dato de marzo el IPC interanual encaden...  Macroeconomia  \n",
       "4  Ayer en Cartagena se dio inicio a la versión n...           Otra  "
      ]
     },
     "execution_count": 4,
     "metadata": {},
     "output_type": "execute_result"
    }
   ],
   "source": [
    "df.head()"
   ]
  },
  {
   "cell_type": "code",
   "execution_count": 5,
   "id": "f7316bae",
   "metadata": {},
   "outputs": [
    {
     "name": "stdout",
     "output_type": "stream",
     "text": [
      "En una industria históricamente masculina como lo es la aviación Viva presentó su avión rosado A320NEO que apuesta por la equidad de género la lucha contra el cáncer de mama la inclusión y la diversidad.Desde Francia llegó Go Pink que tuvo un precio promedio de US50 millones convirtiéndose en la aeronave número 20 de las 21 con las que finalizará el año esta aerolínea.En Viva estamos trabajando muy fuerte para que haya más mujeres. Actualmente el grupo ejecutivo está compuesto por 42 mujeres pero la meta es llegar en 2022 con 50 de ellas en nuestro staff señaló Félix Antelo CEO de Viva.Asimismo agregó que están evaluando traer otro avión con esta propuesta para el próximo año así como proyectan un crecimiento de 60 en sillas para el último trimestre de 2021 en comparación con el mismo periodo de 2019.Vamos a estar moviendo más de dos millones de pasajeros para finalizar el año es un número ambicioso pero estamos contentos por la reacción del mercado y porque muchos pasajeros están eligiendo a Viva por la flota nueva la nueva imagen y los precios bajos dijo.Sobre los planes de expansión internacional de la compañía la aerolínea continuará creciendo pues proyectan abrir 15 rutas en tres años.Tenemos una buena apuesta por Florida Nueva York República Dominicana y Buenos Aires probablemente para el próximo año contó Declan Ryan presidente del Grupo Viva.Del mismo modo reveló que se estudia una alianza con Viva Aerobus la aerolínea mexicana que recientemente empezó a operar en Colombia.Viva Aerobus es como un hijo para mí. Juan Carlos el CEO es un gran amigo y seguramente vamos a trabajar con ellos. Es algo que se contempla.Teniendo en cuenta la entrada de más empresas al modelo de low cost muchos cuestionan si la industria va camino a ser solo de este nicho no obstante es algo que no podrán asumir todas las aerolíneas según Ryan.En promedio las personas ahorran US50 al viajar con modelo de bajo costo es decir US14 billones han sido ahorrados por los colombianos. Sin embargo la historia de la aviación nos ha mostrado que cuando las grandes aerolíneas tratan de trabajar bajo el modelo de low cost no les funciona por sus costos.\n"
     ]
    }
   ],
   "source": [
    "print(df[\"news\"][2])"
   ]
  },
  {
   "cell_type": "code",
   "execution_count": 6,
   "id": "215f55b1",
   "metadata": {},
   "outputs": [],
   "source": [
    "doc = df['news'].sample()"
   ]
  },
  {
   "cell_type": "code",
   "execution_count": 7,
   "id": "8ea772ac",
   "metadata": {},
   "outputs": [
    {
     "name": "stdout",
     "output_type": "stream",
     "text": [
      "BBVA pone al alcance de sus clientes la posibilidad de firmar todas las operaciones bancarias desde la ‘app’ con la biometría de su dispositivo -huella dactilar o reconocimiento facial- almacenada en su dispositivo móvil. Se convierte así en la primera entidad financiera en España en ofrecerlo. De esta forma, gracias a este sistema de autenticación permite al usuario acelerar la gestión de los trámites, así como tener un mayor nivel de seguridad, protegiéndolo ante posibles fraudes. Actualmente, uno de cada dos clientes en España accede a la ‘app’ a través de la biometría.\n",
      "Innovación\n",
      "BBVA New Gen, la cuenta de inversión de la filial del Grupo en Suiza, cumple un año desde su lanzamiento. Para agilizar aún más el proceso de alta, New Gen ha incorporado un registro mejorado que, mediante un ‘selfie’, verifica la identidad de sus clientes en cuestión de segundos. BBVA Suiza pone en valor esta tecnología, capaz de verificar documentos de identidad y pasaportes de más de 190 países, para impulsar su expansión internacional.\n",
      "BBVA ya permite a los clientes en España firmar todas las operaciones bancarias usando la biometría registrada en su dispositivo móvil, en un proceso rápido, seguro y cómodo. Esta forma de autentificación mejora la experiencia de usuario y evita los contratiempos derivados de la falta de cobertura o localización que pueden ocasionar los mensajes cortos.\n",
      "Como novedad, los usuarios podrán utilizar la huella dactilar o su propio rostro para firmar operaciones bancarias que hasta ahora debían de ser realizadas a través de SMS. Por tanto, a partir de ahora las transferencias, la consulta de movimientos más allá de los tres meses o el acceso al banco a través de canales digitales cada 90 días pueden tramitarse con la biometría de cada cliente.\n",
      "Entre las operaciones más comunes que los clientes de BBVA realizan, y que a partir de ahora se podrán hacer de forma más ágil y segura con la firma biométrica, se encuentran el pago en comercios online, apagar o encender las tarjetas o consultar el CVV. Destaca Bizum como la función más utilizada y que permite enviar y recibir dinero desde el móvil de forma instantánea y gratuita.\n",
      "Innovación\n",
      "BBVA New Gen, la cuenta de inversión de la filial del Grupo en Suiza, cumple un año desde su lanzamiento. Para agilizar aún más el proceso de alta, New Gen ha incorporado un registro mejorado que, mediante un ‘selfie’, verifica la identidad de sus clientes en cuestión de segundos. BBVA Suiza pone en valor esta tecnología, capaz de verificar documentos de identidad y pasaportes de más de 190 países, para impulsar su expansión internacional.\n",
      "Desde junio de 2021, BBVA permite a sus clientes en España firmar diferentes operaciones bancarias usando la biometría registrada en su dispositivo móvil. Un proceso que además evita los contratiempos que puede generar la falta de cobertura o intento de fraude que pueden ocasionar los mensajes cortos. Será el propio cliente quien finalice la transacción usando esos valores únicos e intransferibles que tiene cada persona.\n",
      "En este sentido, la ‘app’ del banco integra FIDO -Fast Identity Online-, el último estándar de autenticación ‘online’ del mercado que refuerza la seguridad de los sistemas biométricos. De esta forma, la seguridad ‘online’ se refuerza y el acceso a la ‘app’ se agiliza sin necesidad de tener que incluir dígitos o caracteres. Desde su implementación, más del 50% de los clientes acceden con biometría, mientras que el 10% de ellos ya firman sus operaciones usando esos sistemas biométricos. El objetivo de la entidad para 2022 es que alrededor del 70% de los clientes utilicen esta herramienta para acceder a BBVA.\n",
      "En ningún caso, BBVA almacena, ni hace tratamiento de la información biométrica registrada por los clientes en sus dispositivos. La entidad financiera, únicamente ofrece la posibilidad al cliente de disfrutar de este servicio para realizar operaciones bancarias mediante la validación de su biometría que realiza el propio dispositivo.\n"
     ]
    }
   ],
   "source": [
    "print(doc.iloc[0])"
   ]
  },
  {
   "cell_type": "code",
   "execution_count": 8,
   "id": "371ac67f",
   "metadata": {},
   "outputs": [],
   "source": [
    "doc2 = textwrap.fill(doc.iloc[0], replace_whitespace=False, fix_sentence_endings=True)"
   ]
  },
  {
   "cell_type": "code",
   "execution_count": 9,
   "id": "d8b9dec0",
   "metadata": {},
   "outputs": [
    {
     "name": "stdout",
     "output_type": "stream",
     "text": [
      "BBVA pone al alcance de sus clientes la posibilidad de firmar todas\n",
      "las operaciones bancarias desde la ‘app’ con la biometría de su\n",
      "dispositivo -huella dactilar o reconocimiento facial- almacenada en su\n",
      "dispositivo móvil.  Se convierte así en la primera entidad financiera\n",
      "en España en ofrecerlo.  De esta forma, gracias a este sistema de\n",
      "autenticación permite al usuario acelerar la gestión de los trámites,\n",
      "así como tener un mayor nivel de seguridad, protegiéndolo ante\n",
      "posibles fraudes.  Actualmente, uno de cada dos clientes en España\n",
      "accede a la ‘app’ a través de la biometría.\n",
      "Innovación\n",
      "BBVA New Gen,\n",
      "la cuenta de inversión de la filial del Grupo en Suiza, cumple un año\n",
      "desde su lanzamiento.  Para agilizar aún más el proceso de alta, New\n",
      "Gen ha incorporado un registro mejorado que, mediante un ‘selfie’,\n",
      "verifica la identidad de sus clientes en cuestión de segundos.  BBVA\n",
      "Suiza pone en valor esta tecnología, capaz de verificar documentos de\n",
      "identidad y pasaportes de más de 190 países, para impulsar su\n",
      "expansión internacional.\n",
      "BBVA ya permite a los clientes en España\n",
      "firmar todas las operaciones bancarias usando la biometría registrada\n",
      "en su dispositivo móvil, en un proceso rápido, seguro y cómodo.  Esta\n",
      "forma de autentificación mejora la experiencia de usuario y evita los\n",
      "contratiempos derivados de la falta de cobertura o localización que\n",
      "pueden ocasionar los mensajes cortos.\n",
      "Como novedad, los usuarios\n",
      "podrán utilizar la huella dactilar o su propio rostro para firmar\n",
      "operaciones bancarias que hasta ahora debían de ser realizadas a\n",
      "través de SMS. Por tanto, a partir de ahora las transferencias, la\n",
      "consulta de movimientos más allá de los tres meses o el acceso al\n",
      "banco a través de canales digitales cada 90 días pueden tramitarse con\n",
      "la biometría de cada cliente.\n",
      "Entre las operaciones más comunes que\n",
      "los clientes de BBVA realizan, y que a partir de ahora se podrán hacer\n",
      "de forma más ágil y segura con la firma biométrica, se encuentran el\n",
      "pago en comercios online, apagar o encender las tarjetas o consultar\n",
      "el CVV. Destaca Bizum como la función más utilizada y que permite\n",
      "enviar y recibir dinero desde el móvil de forma instantánea y\n",
      "gratuita.\n",
      "Innovación\n",
      "BBVA New Gen, la cuenta de inversión de la\n",
      "filial del Grupo en Suiza, cumple un año desde su lanzamiento.  Para\n",
      "agilizar aún más el proceso de alta, New Gen ha incorporado un\n",
      "registro mejorado que, mediante un ‘selfie’, verifica la identidad de\n",
      "sus clientes en cuestión de segundos.  BBVA Suiza pone en valor esta\n",
      "tecnología, capaz de verificar documentos de identidad y pasaportes de\n",
      "más de 190 países, para impulsar su expansión internacional.\n",
      "Desde\n",
      "junio de 2021, BBVA permite a sus clientes en España firmar diferentes\n",
      "operaciones bancarias usando la biometría registrada en su dispositivo\n",
      "móvil.  Un proceso que además evita los contratiempos que puede\n",
      "generar la falta de cobertura o intento de fraude que pueden ocasionar\n",
      "los mensajes cortos.  Será el propio cliente quien finalice la\n",
      "transacción usando esos valores únicos e intransferibles que tiene\n",
      "cada persona.\n",
      "En este sentido, la ‘app’ del banco integra FIDO -Fast\n",
      "Identity Online-, el último estándar de autenticación ‘online’ del\n",
      "mercado que refuerza la seguridad de los sistemas biométricos.  De\n",
      "esta forma, la seguridad ‘online’ se refuerza y el acceso a la ‘app’\n",
      "se agiliza sin necesidad de tener que incluir dígitos o caracteres.\n",
      "Desde su implementación, más del 50% de los clientes acceden con\n",
      "biometría, mientras que el 10% de ellos ya firman sus operaciones\n",
      "usando esos sistemas biométricos.  El objetivo de la entidad para 2022\n",
      "es que alrededor del 70% de los clientes utilicen esta herramienta\n",
      "para acceder a BBVA.\n",
      "En ningún caso, BBVA almacena, ni hace\n",
      "tratamiento de la información biométrica registrada por los clientes\n",
      "en sus dispositivos.  La entidad financiera, únicamente ofrece la\n",
      "posibilidad al cliente de disfrutar de este servicio para realizar\n",
      "operaciones bancarias mediante la validación de su biometría que\n",
      "realiza el propio dispositivo.\n"
     ]
    }
   ],
   "source": [
    "print(doc2)"
   ]
  },
  {
   "cell_type": "code",
   "execution_count": 10,
   "id": "acae8736",
   "metadata": {},
   "outputs": [
    {
     "data": {
      "text/plain": [
       "['BBVA pone al alcance de sus clientes la posibilidad de firmar todas\\nlas operaciones bancarias desde la ‘app’ con la biometría de su\\ndispositivo -huella dactilar o reconocimiento facial- almacenada en su\\ndispositivo móvil',\n",
       " '  Se convierte así en la primera entidad financiera\\nen España en ofrecerlo',\n",
       " '  De esta forma, gracias a este sistema de\\nautenticación permite al usuario acelerar la gestión de los trámites,\\nasí como tener un mayor nivel de seguridad, protegiéndolo ante\\nposibles fraudes',\n",
       " '  Actualmente, uno de cada dos clientes en España\\naccede a la ‘app’ a través de la biometría',\n",
       " '\\r\\nInnovación\\r\\nBBVA New Gen,\\nla cuenta de inversión de la filial del Grupo en Suiza, cumple un año\\ndesde su lanzamiento',\n",
       " '  Para agilizar aún más el proceso de alta, New\\nGen ha incorporado un registro mejorado que, mediante un ‘selfie’,\\nverifica la identidad de sus clientes en cuestión de segundos',\n",
       " '  BBVA\\nSuiza pone en valor esta tecnología, capaz de verificar documentos de\\nidentidad y pasaportes de más de 190 países, para impulsar su\\nexpansión internacional',\n",
       " '\\r\\nBBVA ya permite a los clientes en España\\nfirmar todas las operaciones bancarias usando la biometría registrada\\nen su dispositivo móvil, en un proceso rápido, seguro y cómodo',\n",
       " '  Esta\\nforma de autentificación mejora la experiencia de usuario y evita los\\ncontratiempos derivados de la falta de cobertura o localización que\\npueden ocasionar los mensajes cortos',\n",
       " '\\r\\nComo novedad, los usuarios\\npodrán utilizar la huella dactilar o su propio rostro para firmar\\noperaciones bancarias que hasta ahora debían de ser realizadas a\\ntravés de SMS',\n",
       " ' Por tanto, a partir de ahora las transferencias, la\\nconsulta de movimientos más allá de los tres meses o el acceso al\\nbanco a través de canales digitales cada 90 días pueden tramitarse con\\nla biometría de cada cliente',\n",
       " '\\r\\nEntre las operaciones más comunes que\\nlos clientes de BBVA realizan, y que a partir de ahora se podrán hacer\\nde forma más ágil y segura con la firma biométrica, se encuentran el\\npago en comercios online, apagar o encender las tarjetas o consultar\\nel CVV',\n",
       " ' Destaca Bizum como la función más utilizada y que permite\\nenviar y recibir dinero desde el móvil de forma instantánea y\\ngratuita',\n",
       " '\\r\\nInnovación\\r\\nBBVA New Gen, la cuenta de inversión de la\\nfilial del Grupo en Suiza, cumple un año desde su lanzamiento',\n",
       " '  Para\\nagilizar aún más el proceso de alta, New Gen ha incorporado un\\nregistro mejorado que, mediante un ‘selfie’, verifica la identidad de\\nsus clientes en cuestión de segundos',\n",
       " '  BBVA Suiza pone en valor esta\\ntecnología, capaz de verificar documentos de identidad y pasaportes de\\nmás de 190 países, para impulsar su expansión internacional',\n",
       " '\\r\\nDesde\\njunio de 2021, BBVA permite a sus clientes en España firmar diferentes\\noperaciones bancarias usando la biometría registrada en su dispositivo\\nmóvil',\n",
       " '  Un proceso que además evita los contratiempos que puede\\ngenerar la falta de cobertura o intento de fraude que pueden ocasionar\\nlos mensajes cortos',\n",
       " '  Será el propio cliente quien finalice la\\ntransacción usando esos valores únicos e intransferibles que tiene\\ncada persona',\n",
       " '\\r\\nEn este sentido, la ‘app’ del banco integra FIDO -Fast\\nIdentity Online-, el último estándar de autenticación ‘online’ del\\nmercado que refuerza la seguridad de los sistemas biométricos',\n",
       " '  De\\nesta forma, la seguridad ‘online’ se refuerza y el acceso a la ‘app’\\nse agiliza sin necesidad de tener que incluir dígitos o caracteres',\n",
       " '\\nDesde su implementación, más del 50% de los clientes acceden con\\nbiometría, mientras que el 10% de ellos ya firman sus operaciones\\nusando esos sistemas biométricos',\n",
       " '  El objetivo de la entidad para 2022\\nes que alrededor del 70% de los clientes utilicen esta herramienta\\npara acceder a BBVA',\n",
       " '\\r\\nEn ningún caso, BBVA almacena, ni hace\\ntratamiento de la información biométrica registrada por los clientes\\nen sus dispositivos',\n",
       " '  La entidad financiera, únicamente ofrece la\\nposibilidad al cliente de disfrutar de este servicio para realizar\\noperaciones bancarias mediante la validación de su biometría que\\nrealiza el propio dispositivo',\n",
       " '']"
      ]
     },
     "execution_count": 10,
     "metadata": {},
     "output_type": "execute_result"
    }
   ],
   "source": [
    "lineas = doc2.split(\".\")\n",
    "lineas"
   ]
  },
  {
   "cell_type": "code",
   "execution_count": 11,
   "id": "11249814",
   "metadata": {},
   "outputs": [],
   "source": [
    "tokenizar = TfidfVectorizer(\n",
    "    stop_words=stopwords.words('spanish'),\n",
    "    norm='l1',\n",
    ")"
   ]
  },
  {
   "cell_type": "code",
   "execution_count": 12,
   "id": "ba1d2422",
   "metadata": {},
   "outputs": [
    {
     "data": {
      "text/plain": [
       "<26x206 sparse matrix of type '<class 'numpy.float64'>'\n",
       "\twith 357 stored elements in Compressed Sparse Row format>"
      ]
     },
     "execution_count": 12,
     "metadata": {},
     "output_type": "execute_result"
    }
   ],
   "source": [
    "X = tokenizar.fit_transform(lineas)\n",
    "X"
   ]
  },
  {
   "cell_type": "code",
   "execution_count": 13,
   "id": "6f117f24",
   "metadata": {},
   "outputs": [
    {
     "name": "stdout",
     "output_type": "stream",
     "text": [
      "0.0 0.0 0.0 0.0 0.0 0.0 0.0 0.0 0.0 0.0 0.0 0.0 0.0 0.0 0.0 0.0 0.0 0.06637972693080428 0.0 0.0 0.06637972693080428 0.0 0.0 0.0 0.049497027092188894 0.0 0.0 0.0 0.0 0.0 0.0461377438315522 0.0 0.03496966313713672 0.040837188113586824 0.0 0.0 0.0 0.0 0.0 0.0 0.0 0.0 0.0 0.03496966313713672 0.0 0.0 0.0 0.0 0.0 0.0 0.0 0.0 0.0 0.0 0.0 0.0 0.0 0.05890901324016092 0.0 0.0 0.0 0.0 0.0 0.0 0.0 0.09899405418437779 0.0 0.0 0.0 0.0 0.0 0.0 0.0 0.0 0.0 0.0 0.0 0.0 0.0 0.0 0.06637972693080428 0.0 0.0 0.0 0.0 0.0 0.0 0.0 0.0 0.049497027092188894 0.0 0.0 0.0 0.0 0.0 0.0 0.0 0.0 0.0 0.0 0.0 0.0 0.0 0.05890901324016092 0.0 0.0 0.0 0.0 0.0 0.0 0.0 0.0 0.0 0.0 0.0 0.0 0.0 0.0 0.0 0.0 0.0 0.0 0.0 0.0 0.0 0.0 0.0 0.0 0.0 0.0 0.049497027092188894 0.0 0.0 0.0 0.0 0.0 0.0 0.0 0.0 0.0 0.0 0.040837188113586824 0.0 0.0 0.0 0.0 0.0 0.0 0.0 0.053608457522195556 0.05890901324016092 0.0 0.0 0.0 0.0 0.0 0.0 0.0 0.0 0.0 0.0 0.0 0.0 0.06637972693080428 0.0 0.0 0.0 0.0 0.0 0.0 0.0 0.0 0.0 0.0 0.0 0.0 0.0 0.0 0.0 0.0 0.0 0.0 0.0 0.05890901324016092 0.0 0.0 0.0 0.0 0.0 0.0 0.0 0.0 0.0 0.0 0.0 0.0 0.0 0.0 0.0 0.0 0.0 0.0 0.0 0.0 0.0 0.0 \n",
      "0.0 0.0 0.0 0.0 0.0 0.0 0.0 0.0 0.0 0.0 0.0 0.0 0.0 0.0 0.0 0.0 0.0 0.0 0.0 0.0 0.0 0.0 0.0 0.0 0.0 0.14023862241970106 0.0 0.0 0.0 0.0 0.0 0.0 0.0 0.0 0.0 0.0 0.0 0.0 0.0 0.0 0.0 0.0 0.0 0.0 0.0 0.0 0.0 0.0 0.0 0.0 0.15802338130195598 0.0 0.0 0.0 0.0 0.0 0.0 0.0 0.0 0.0 0.0 0.0 0.0 0.0 0.0 0.0 0.0 0.0 0.0 0.0 0.0 0.0 0.0 0.12762013517877807 0.0 0.11783247607595183 0.0 0.0 0.0 0.0 0.0 0.0 0.0 0.0 0.0 0.0 0.14023862241970106 0.0 0.0 0.0 0.0 0.0 0.0 0.0 0.0 0.0 0.0 0.0 0.0 0.0 0.0 0.0 0.0 0.0 0.0 0.0 0.0 0.0 0.0 0.0 0.0 0.0 0.0 0.0 0.0 0.0 0.0 0.0 0.0 0.0 0.0 0.0 0.0 0.0 0.0 0.0 0.0 0.0 0.0 0.0 0.0 0.0 0.0 0.0 0.0 0.0 0.0 0.0 0.0 0.15802338130195598 0.0 0.0 0.0 0.0 0.0 0.0 0.0 0.0 0.0 0.0 0.0 0.0 0.15802338130195598 0.0 0.0 0.0 0.0 0.0 0.0 0.0 0.0 0.0 0.0 0.0 0.0 0.0 0.0 0.0 0.0 0.0 0.0 0.0 0.0 0.0 0.0 0.0 0.0 0.0 0.0 0.0 0.0 0.0 0.0 0.0 0.0 0.0 0.0 0.0 0.0 0.0 0.0 0.0 0.0 0.0 0.0 0.0 0.0 0.0 0.0 0.0 0.0 0.0 0.0 0.0 0.0 0.0 \n",
      "0.0 0.0 0.0 0.0 0.0 0.0 0.0 0.0 0.0 0.0 0.0 0.06329857083728024 0.0 0.0 0.0 0.0 0.0 0.0 0.0 0.0 0.0 0.0 0.0 0.0 0.0 0.05617462619910518 0.05617462619910518 0.0 0.0 0.0 0.0 0.0 0.0 0.0 0.0 0.0 0.0 0.0 0.0 0.0 0.0 0.0 0.0 0.0 0.0 0.0 0.0 0.0 0.0 0.0 0.0 0.0 0.0 0.0 0.0 0.0 0.0 0.0 0.0 0.0 0.0 0.0 0.0 0.0 0.0 0.0 0.0 0.0 0.0 0.0 0.0 0.0 0.0 0.0 0.0 0.0 0.0 0.0 0.0 0.0 0.0 0.0 0.0 0.0 0.0 0.0 0.0 0.0 0.0 0.0 0.04399616240118225 0.0 0.06329857083728024 0.0 0.0 0.0 0.06329857083728024 0.06329857083728024 0.0 0.0 0.0 0.0 0.0 0.0 0.0 0.0 0.0 0.0 0.0 0.0 0.0 0.0 0.0 0.0 0.0 0.0 0.0 0.0 0.0 0.0 0.0 0.06329857083728024 0.0 0.0 0.0 0.0 0.0 0.0 0.0 0.0 0.0 0.0 0.0 0.0 0.06329857083728024 0.0 0.0 0.0 0.0 0.0 0.0 0.0 0.0 0.0 0.0 0.0 0.04719951739023727 0.0 0.0 0.0 0.0 0.06329857083728024 0.0 0.0 0.0 0.06329857083728024 0.0 0.0 0.0 0.0 0.0 0.0 0.0 0.0 0.0 0.0 0.0 0.0 0.0 0.0 0.0 0.051120107039357314 0.0 0.0 0.0 0.0 0.06329857083728024 0.0 0.0 0.0 0.0 0.0 0.05617462619910518 0.0 0.0 0.0 0.0 0.0 0.0 0.0 0.06329857083728024 0.0 0.05617462619910518 0.0 0.0 0.0 0.0 0.0 0.0 0.0 0.0 0.0 0.0 0.0 0.0 0.0 \n",
      "0.0 0.0 0.0 0.0 0.0 0.0 0.0 0.1379585597951065 0.0 0.0 0.0 0.0 0.1379585597951065 0.0 0.0 0.0 0.0 0.0 0.0 0.0 0.0 0.0 0.0 0.0 0.10287084457120424 0.0 0.0 0.0 0.0 0.0 0.0 0.0 0.0 0.08487289596875143 0.0 0.0 0.0 0.11141572788192895 0.0 0.0 0.0 0.0 0.0 0.07267827973966258 0.0 0.0 0.0 0.0 0.0 0.0 0.0 0.0 0.0 0.0 0.0 0.0 0.0 0.0 0.0 0.0 0.0 0.0 0.0 0.0 0.0 0.0 0.0 0.0 0.1379585597951065 0.0 0.0 0.0 0.0 0.0 0.0 0.10287084457120424 0.0 0.0 0.0 0.0 0.0 0.0 0.0 0.0 0.0 0.0 0.0 0.0 0.0 0.0 0.0 0.0 0.0 0.0 0.0 0.0 0.0 0.0 0.0 0.0 0.0 0.0 0.0 0.0 0.0 0.0 0.0 0.0 0.0 0.0 0.0 0.0 0.0 0.0 0.0 0.0 0.0 0.0 0.0 0.0 0.0 0.0 0.0 0.0 0.0 0.0 0.0 0.0 0.0 0.0 0.0 0.0 0.0 0.0 0.0 0.0 0.0 0.0 0.0 0.0 0.0 0.0 0.0 0.0 0.0 0.0 0.0 0.0 0.0 0.0 0.0 0.0 0.0 0.0 0.0 0.0 0.0 0.0 0.0 0.0 0.0 0.0 0.0 0.0 0.0 0.0 0.0 0.0 0.0 0.0 0.0 0.0 0.0 0.0 0.0 0.0 0.0 0.0 0.0 0.0 0.0 0.0 0.0 0.0 0.0 0.0 0.0 0.0 0.11141572788192895 0.0 0.0 0.0 0.0 0.0 0.0 0.0 0.0 0.0 0.0 0.0 0.0 0.0 0.0 0.0 0.0 0.0 \n",
      "0.0 0.0 0.0 0.0 0.0 0.0 0.0 0.0 0.0 0.0 0.0 0.0 0.0 0.0 0.0 0.0 0.0 0.0 0.0 0.0 0.0 0.0 0.0 0.0 0.0 0.0 0.0 0.0 0.08997412182697175 0.0 0.0 0.0 0.05341058283427304 0.0 0.0 0.0 0.0 0.0 0.0 0.0 0.0 0.0 0.0 0.0 0.0 0.0 0.0 0.0 0.0 0.0 0.0 0.0 0.08997412182697175 0.0 0.08997412182697175 0.0 0.0 0.0 0.0 0.0 0.0 0.0 0.0 0.0 0.0 0.0 0.0 0.0 0.0 0.0 0.0 0.0 0.0 0.0 0.0 0.0 0.0 0.0 0.0 0.0 0.0 0.0 0.0 0.0 0.08997412182697175 0.0 0.0 0.0 0.0 0.0 0.0 0.0 0.0 0.0 0.07559881418331765 0.0 0.0 0.0 0.0 0.08997412182697175 0.0 0.0 0.0 0.0 0.0 0.0 0.0 0.0 0.0 0.0 0.0 0.08997412182697175 0.0 0.0 0.0 0.0 0.0 0.08997412182697175 0.0 0.08997412182697175 0.0 0.0 0.0 0.0 0.0 0.0 0.0 0.0 0.0 0.0 0.0 0.0 0.07559881418331765 0.0 0.0 0.0 0.0 0.0 0.0 0.0 0.0 0.0 0.0 0.0 0.0 0.0 0.0 0.0 0.0 0.0 0.0 0.0 0.0 0.0 0.0 0.0 0.0 0.0 0.0 0.0 0.0 0.0 0.0 0.0 0.0 0.0 0.0 0.0 0.0 0.0 0.0 0.0 0.0 0.0 0.0 0.0 0.0 0.0 0.0 0.07559881418331765 0.0 0.0 0.0 0.0 0.0 0.0 0.0 0.0 0.0 0.0 0.0 0.0 0.0 0.0 0.0 0.0 0.0 0.0 0.0 0.0 0.0 0.0 0.0 0.0 0.0 0.0 \n",
      "0.0 0.0 0.0 0.0 0.0 0.0 0.0 0.0 0.0 0.0 0.0 0.0 0.0 0.0 0.0 0.06727412240114297 0.0 0.0 0.0 0.0 0.0 0.0 0.06727412240114297 0.0 0.0 0.0 0.0 0.0 0.0 0.06727412240114297 0.0 0.0 0.0 0.0 0.0 0.0 0.0 0.0 0.0 0.0 0.0 0.0 0.0 0.039935372684372715 0.0 0.0 0.0 0.0 0.0 0.0 0.0 0.0 0.0 0.06727412240114297 0.0 0.0 0.0 0.0 0.0 0.0 0.0 0.0 0.0 0.0 0.0 0.0 0.0 0.0 0.0 0.0 0.0 0.0 0.0 0.0 0.0 0.0 0.0 0.0 0.0 0.0 0.0 0.0 0.0 0.0 0.0 0.0 0.0 0.0 0.0 0.0 0.0 0.0 0.0 0.0 0.05652562954190657 0.0 0.0 0.0 0.0 0.0 0.0 0.0 0.0 0.0 0.05652562954190657 0.0 0.0 0.0 0.0 0.06727412240114297 0.0 0.0 0.0 0.0 0.0 0.0 0.0 0.0 0.0 0.0 0.0 0.0 0.06122088513657143 0.0 0.06727412240114297 0.0 0.0 0.0 0.0 0.0 0.0 0.0 0.05652562954190657 0.0 0.0 0.0 0.0 0.0 0.0 0.0 0.0 0.0 0.0 0.0 0.0 0.0 0.0 0.0 0.0 0.0 0.0 0.0 0.0 0.05652562954190657 0.0 0.0 0.0 0.0 0.0 0.0 0.0 0.0 0.0 0.0 0.0 0.0 0.06727412240114297 0.0 0.0 0.06727412240114297 0.0 0.0 0.0 0.06727412240114297 0.0 0.0 0.0 0.0 0.0 0.0 0.0 0.0 0.0 0.0 0.0 0.0 0.0 0.0 0.0 0.0 0.0 0.0 0.0 0.0 0.0 0.0 0.0 0.0 0.0 0.0 0.06727412240114297 0.0 0.0 0.0 0.0 0.0 \n",
      "0.0 0.0705014782052762 0.0 0.0 0.0 0.0 0.0 0.0 0.0 0.0 0.0 0.0 0.0 0.0 0.0 0.0 0.0 0.0 0.0 0.0 0.0 0.0 0.0 0.0 0.0 0.0 0.0 0.0 0.0 0.0 0.0 0.0 0.041851200824866513 0.0 0.0 0.0 0.0 0.0 0.0 0.0705014782052762 0.0 0.0 0.0 0.0 0.0 0.0 0.0 0.0 0.0 0.0 0.0 0.0 0.0 0.0 0.0 0.0 0.0 0.0 0.0 0.0 0.0 0.0 0.0 0.0 0.0 0.0 0.0 0.0705014782052762 0.0 0.0 0.0 0.0 0.0 0.0 0.0 0.0 0.0 0.0 0.0705014782052762 0.0 0.0 0.0 0.0 0.0 0.0 0.0 0.0 0.0 0.0 0.0 0.0 0.0 0.0 0.0 0.0 0.0 0.0 0.0 0.0 0.0 0.0 0.0 0.0 0.0 0.05923734560854763 0.0 0.0 0.0705014782052762 0.0 0.0 0.0 0.0 0.0 0.0 0.0 0.0705014782052762 0.0 0.0 0.0 0.0 0.0 0.0 0.0 0.0 0.0 0.0 0.0 0.0 0.0 0.0 0.0 0.0 0.0 0.0 0.0 0.0 0.0 0.0 0.0 0.0 0.0 0.0 0.0 0.0 0.0705014782052762 0.0705014782052762 0.0 0.0 0.0 0.06415784770000028 0.0 0.0 0.0 0.0 0.0 0.0 0.0 0.0 0.0 0.0 0.0 0.0 0.0 0.0 0.0 0.0 0.0 0.0 0.0 0.0 0.0 0.0 0.0 0.0 0.0 0.0 0.0 0.0 0.0 0.05923734560854763 0.0 0.0705014782052762 0.0 0.0 0.0 0.0 0.0 0.0 0.0 0.0 0.0 0.0 0.0 0.0 0.0 0.0 0.0 0.0 0.0705014782052762 0.0 0.0 0.0705014782052762 0.0 0.0 0.0 0.0 \n",
      "0.0 0.0 0.0 0.0 0.0 0.0 0.0 0.0 0.0 0.0 0.0 0.0 0.0 0.0 0.0 0.0 0.0 0.0 0.0 0.0 0.0 0.0 0.0 0.0 0.0 0.0 0.0 0.0 0.0 0.0 0.05390633148032168 0.0 0.040857790092816045 0.04771327803137623 0.0 0.0 0.0 0.0 0.0 0.0 0.0 0.0 0.0 0.040857790092816045 0.0 0.0 0.0 0.0 0.0 0.0 0.0 0.0 0.0 0.0 0.0 0.0 0.07755662211332688 0.0 0.0 0.0 0.0 0.0 0.0 0.0 0.0 0.05783124461966636 0.0 0.0 0.0 0.0 0.0 0.0 0.0 0.0 0.0 0.05783124461966636 0.0 0.0 0.0 0.0 0.0 0.0 0.0 0.0 0.0 0.0 0.0 0.0 0.0 0.05783124461966636 0.0 0.0 0.0 0.0 0.0 0.0 0.0 0.0 0.0 0.0 0.0 0.0 0.0 0.0 0.0 0.0 0.0 0.0 0.0 0.0 0.0 0.0 0.0 0.0 0.0 0.0 0.0 0.0 0.0 0.0 0.0 0.0 0.0 0.0 0.0 0.0 0.0 0.0 0.0 0.0 0.05783124461966636 0.0 0.0 0.0 0.0 0.0 0.0 0.0 0.0 0.0 0.0 0.04771327803137623 0.0 0.0 0.0 0.0 0.05783124461966636 0.0 0.0 0.0 0.0 0.0 0.0 0.05783124461966636 0.0 0.0 0.0 0.0 0.0 0.0 0.0 0.0 0.0 0.0 0.0 0.06263495007235156 0.0 0.0 0.07755662211332688 0.0 0.0 0.0 0.07755662211332688 0.0 0.0 0.0 0.0 0.0 0.0 0.0 0.0 0.0 0.0 0.068828003521297 0.0 0.0 0.0 0.0 0.0 0.0 0.0 0.05783124461966636 0.0 0.0 0.0 0.0 0.0 0.0 0.0 0.0 0.0 0.0 0.0 0.0 0.0 0.0 \n",
      "0.0 0.0 0.0 0.0 0.0 0.0 0.0 0.0 0.0 0.0 0.0 0.0 0.0 0.0 0.0 0.0 0.0 0.0 0.0 0.0 0.0 0.0 0.0 0.0 0.0 0.0 0.0 0.07351698018755289 0.0 0.0 0.0 0.0 0.0 0.0 0.0 0.0 0.0 0.0 0.0 0.0 0.0 0.0 0.0 0.0 0.06524300354172499 0.0 0.0 0.0 0.0 0.06524300354172499 0.0 0.06524300354172499 0.0 0.0 0.0 0.0 0.0 0.0 0.0 0.07351698018755289 0.0 0.0 0.0 0.0 0.0 0.0 0.0 0.0 0.0 0.0 0.0 0.0 0.0 0.0 0.0 0.0 0.0 0.06524300354172499 0.0 0.07351698018755289 0.0 0.06524300354172499 0.0 0.0 0.0 0.0 0.0 0.0 0.0 0.0 0.05109854704130395 0.0 0.0 0.0 0.0 0.0 0.0 0.0 0.0 0.0 0.0 0.0 0.0 0.0 0.0 0.0 0.0 0.0 0.0 0.0 0.0 0.0 0.0 0.0 0.0 0.0 0.0 0.0 0.0 0.0 0.07351698018755289 0.0 0.0 0.07351698018755289 0.0 0.06524300354172499 0.0 0.0 0.0 0.0 0.0 0.0 0.0 0.0 0.0 0.0 0.0 0.06524300354172499 0.0 0.0 0.0 0.0 0.0 0.0 0.0 0.0 0.0 0.0 0.0 0.0 0.0 0.0 0.0 0.0 0.0 0.0 0.0 0.05937252368713185 0.0 0.0 0.0 0.0 0.0 0.0 0.0 0.0 0.0 0.0 0.0 0.0 0.0 0.0 0.0 0.0 0.0 0.0 0.0 0.0 0.0 0.0 0.0 0.0 0.0 0.0 0.0 0.0 0.0 0.0 0.0 0.0 0.0 0.0 0.06524300354172499 0.0 0.0 0.0 0.0 0.0 0.0 0.0 0.0 0.0 0.0 0.0 0.0 0.0 \n",
      "0.0 0.0 0.0 0.0 0.0 0.0 0.0 0.0 0.0 0.0 0.0 0.0 0.0 0.0 0.0 0.0 0.053338448334659144 0.0 0.0 0.0 0.0 0.0 0.0 0.0 0.0 0.0 0.0 0.0 0.0 0.0 0.045905362313737354 0.0 0.0 0.0 0.0 0.0 0.0 0.0 0.0 0.0 0.0 0.0 0.0 0.0 0.0 0.0 0.0 0.0 0.0 0.0 0.0 0.0 0.0 0.0 0.0 0.0 0.0 0.05861230679608982 0.06604539281701162 0.0 0.0 0.0 0.0 0.0 0.0 0.0 0.0 0.0 0.0 0.0 0.0 0.0 0.0 0.0 0.0 0.0 0.0 0.0 0.0 0.0 0.0 0.0 0.0 0.0 0.0 0.0 0.0 0.0 0.0 0.049247725905615936 0.0 0.0 0.0 0.0 0.0 0.0 0.0 0.0 0.0 0.0 0.0 0.0 0.0 0.05861230679608982 0.0 0.0 0.0 0.0 0.0 0.0 0.0 0.0 0.0 0.0 0.0 0.0 0.0 0.0 0.0 0.0 0.0 0.0 0.0 0.0 0.0 0.0 0.0 0.0 0.0 0.0 0.0 0.0 0.0 0.0 0.0 0.06604539281701162 0.0 0.0 0.0 0.0 0.0 0.040631503852306676 0.0 0.0 0.0 0.0 0.0 0.0 0.05861230679608982 0.0 0.0 0.0 0.0 0.0 0.053338448334659144 0.0 0.0 0.0 0.0 0.06604539281701162 0.0 0.0 0.0 0.0 0.0 0.0 0.0 0.06604539281701162 0.0 0.0 0.0 0.0 0.0 0.0 0.06604539281701162 0.0 0.0 0.0 0.06604539281701162 0.0 0.0 0.0 0.0 0.0 0.0 0.0 0.0 0.0 0.053338448334659144 0.0 0.0 0.0 0.0 0.06604539281701162 0.0 0.0 0.06604539281701162 0.0 0.0 0.0 0.0 0.0 0.0 0.0 0.0 0.0 \n",
      "0.0 0.0 0.0 0.0 0.0 0.0 0.052292537325818955 0.0 0.0 0.0 0.04640726794341083 0.0 0.0 0.0 0.0 0.0 0.042231602863947254 0.0 0.052292537325818955 0.0 0.0 0.0 0.0 0.0 0.0 0.0 0.0 0.0 0.0 0.0 0.0 0.04640726794341083 0.0 0.03217066840207555 0.0 0.0 0.0 0.08446320572789451 0.052292537325818955 0.0 0.0 0.0 0.042231602863947254 0.0 0.0 0.0 0.0 0.052292537325818955 0.0 0.0 0.0 0.0 0.0 0.0 0.0 0.0 0.0 0.0 0.0 0.0 0.0 0.0 0.052292537325818955 0.0 0.0 0.0 0.0 0.0 0.0 0.052292537325818955 0.0 0.0 0.0 0.0 0.0 0.0 0.0 0.0 0.0 0.0 0.0 0.0 0.0 0.0 0.0 0.0 0.0 0.0 0.0 0.0 0.0 0.0 0.0 0.0 0.0 0.0 0.0 0.0 0.0 0.0 0.0 0.0 0.0 0.0 0.0 0.0 0.0 0.0 0.0 0.0 0.0 0.0 0.0 0.0 0.0 0.0 0.0 0.0 0.0 0.0 0.0 0.0 0.0 0.0 0.0 0.0 0.0 0.052292537325818955 0.0 0.052292537325818955 0.0 0.0 0.0 0.0 0.0 0.0 0.0 0.0 0.0 0.0 0.0 0.0 0.0 0.04640726794341083 0.0 0.0 0.0 0.0 0.0 0.0 0.0 0.0 0.0 0.0 0.0 0.0 0.0 0.042231602863947254 0.0 0.0 0.0 0.0 0.0 0.0 0.0 0.0 0.0 0.0 0.0 0.0 0.0 0.0 0.0 0.0 0.0 0.0 0.0 0.0 0.0 0.0 0.0 0.0 0.0 0.0 0.052292537325818955 0.0 0.052292537325818955 0.0 0.042231602863947254 0.052292537325818955 0.0 0.0 0.0 0.0 0.0 0.0 0.0 0.0 0.0 0.0 0.0 0.0 0.0 0.0 0.0 0.0 \n",
      "0.0 0.0 0.0 0.0 0.0 0.0 0.0 0.0 0.0 0.0 0.0 0.0 0.0 0.0 0.0 0.0 0.03912528063058259 0.0 0.0 0.0 0.0 0.0 0.0 0.048446188612568615 0.0 0.0 0.0 0.0 0.0 0.0 0.0 0.0 0.02552205280726343 0.0 0.04299380697043429 0.0 0.0 0.0 0.0 0.0 0.0 0.0 0.0 0.02552205280726343 0.0 0.048446188612568615 0.048446188612568615 0.0 0.048446188612568615 0.0 0.0 0.0 0.0 0.0 0.0 0.048446188612568615 0.0 0.0 0.0 0.0 0.0 0.0 0.0 0.0 0.0 0.0 0.0 0.0 0.0 0.0 0.0 0.048446188612568615 0.048446188612568615 0.0 0.0 0.0 0.0 0.0 0.0 0.0 0.0 0.0 0.0 0.0 0.0 0.0 0.0 0.048446188612568615 0.0 0.0 0.03367289898844827 0.0 0.0 0.0 0.0 0.0 0.0 0.0 0.0 0.0 0.0 0.048446188612568615 0.0 0.0 0.0 0.0 0.0 0.0 0.0 0.0 0.0 0.0 0.0 0.0 0.0 0.0 0.0 0.0 0.0 0.0 0.0 0.0 0.0 0.0 0.0 0.0 0.0 0.0 0.0 0.0 0.0 0.0 0.0 0.0 0.0 0.0 0.0 0.0 0.0 0.0 0.03912528063058259 0.02980437264859657 0.048446188612568615 0.04299380697043429 0.0 0.0 0.0 0.0 0.04299380697043429 0.0 0.0 0.0 0.0 0.0 0.0 0.0 0.0 0.0 0.0 0.0 0.048446188612568615 0.0 0.0 0.0 0.0 0.0 0.0 0.0 0.0 0.0 0.048446188612568615 0.0 0.0 0.0 0.0 0.0 0.0 0.0 0.0 0.0 0.048446188612568615 0.0 0.0 0.0 0.0 0.0 0.0 0.0 0.0 0.0 0.0 0.0 0.0 0.0 0.0 0.0 0.0 0.0 0.0 0.0 0.0 0.0 0.048446188612568615 0.0 0.0 0.0 \n",
      "0.0 0.0 0.0 0.0 0.0 0.0 0.0 0.0 0.0 0.0 0.0 0.0 0.0 0.0 0.0 0.0 0.0 0.0 0.0 0.0 0.0 0.0 0.0 0.0 0.0 0.0 0.0 0.0 0.0 0.0 0.0 0.0 0.0 0.0 0.0 0.0 0.08939436522246084 0.0 0.0 0.0 0.0 0.0 0.0 0.0 0.0 0.0 0.0 0.0 0.0 0.0 0.0 0.0 0.0 0.0 0.0 0.0 0.0 0.0 0.0 0.0 0.08939436522246084 0.0 0.0 0.08939436522246084 0.0 0.0 0.0 0.0 0.0 0.0 0.0 0.0 0.0 0.0 0.08939436522246084 0.0 0.0 0.0 0.0 0.0 0.0 0.0 0.0 0.0 0.0 0.0 0.0 0.0 0.0 0.0 0.06213424660389972 0.0 0.0 0.08939436522246084 0.0 0.0 0.0 0.0 0.08939436522246084 0.0 0.0 0.0 0.0 0.0 0.0 0.0 0.0 0.0 0.0 0.0 0.0 0.0 0.08939436522246084 0.0 0.0 0.0 0.0 0.0 0.0 0.0 0.0 0.0 0.0 0.0 0.0 0.0 0.0 0.0 0.0 0.0 0.0666582331969765 0.0 0.0 0.0 0.0 0.0 0.0 0.0 0.0 0.0 0.0 0.0 0.0 0.0 0.0 0.0 0.0666582331969765 0.0 0.0 0.0 0.0 0.0 0.0 0.0 0.0 0.0 0.0 0.0 0.0 0.0 0.0 0.0 0.08939436522246084 0.0 0.0 0.0 0.0 0.0 0.0 0.0 0.0 0.0 0.0 0.0 0.0 0.0 0.0 0.0 0.0 0.0 0.0 0.0 0.0 0.0 0.0 0.0 0.0 0.0 0.0 0.0 0.0 0.0 0.0 0.0 0.0 0.08939436522246084 0.0 0.0 0.0 0.0 0.0 0.0 0.0 0.0 0.0 0.0 \n",
      "0.0 0.0 0.0 0.0 0.0 0.0 0.0 0.0 0.0 0.0 0.0 0.0 0.0 0.0 0.0 0.0 0.0 0.0 0.0 0.0 0.0 0.0 0.0 0.0 0.0 0.0 0.0 0.0 0.08997412182697175 0.0 0.0 0.0 0.05341058283427304 0.0 0.0 0.0 0.0 0.0 0.0 0.0 0.0 0.0 0.0 0.0 0.0 0.0 0.0 0.0 0.0 0.0 0.0 0.0 0.08997412182697175 0.0 0.08997412182697175 0.0 0.0 0.0 0.0 0.0 0.0 0.0 0.0 0.0 0.0 0.0 0.0 0.0 0.0 0.0 0.0 0.0 0.0 0.0 0.0 0.0 0.0 0.0 0.0 0.0 0.0 0.0 0.0 0.0 0.08997412182697175 0.0 0.0 0.0 0.0 0.0 0.0 0.0 0.0 0.0 0.07559881418331765 0.0 0.0 0.0 0.0 0.08997412182697175 0.0 0.0 0.0 0.0 0.0 0.0 0.0 0.0 0.0 0.0 0.0 0.08997412182697175 0.0 0.0 0.0 0.0 0.0 0.08997412182697175 0.0 0.08997412182697175 0.0 0.0 0.0 0.0 0.0 0.0 0.0 0.0 0.0 0.0 0.0 0.0 0.07559881418331765 0.0 0.0 0.0 0.0 0.0 0.0 0.0 0.0 0.0 0.0 0.0 0.0 0.0 0.0 0.0 0.0 0.0 0.0 0.0 0.0 0.0 0.0 0.0 0.0 0.0 0.0 0.0 0.0 0.0 0.0 0.0 0.0 0.0 0.0 0.0 0.0 0.0 0.0 0.0 0.0 0.0 0.0 0.0 0.0 0.0 0.0 0.07559881418331765 0.0 0.0 0.0 0.0 0.0 0.0 0.0 0.0 0.0 0.0 0.0 0.0 0.0 0.0 0.0 0.0 0.0 0.0 0.0 0.0 0.0 0.0 0.0 0.0 0.0 0.0 \n",
      "0.0 0.0 0.0 0.0 0.0 0.0 0.0 0.0 0.0 0.0 0.0 0.0 0.0 0.0 0.0 0.06727412240114297 0.0 0.0 0.0 0.0 0.0 0.0 0.06727412240114297 0.0 0.0 0.0 0.0 0.0 0.0 0.06727412240114297 0.0 0.0 0.0 0.0 0.0 0.0 0.0 0.0 0.0 0.0 0.0 0.0 0.0 0.039935372684372715 0.0 0.0 0.0 0.0 0.0 0.0 0.0 0.0 0.0 0.06727412240114297 0.0 0.0 0.0 0.0 0.0 0.0 0.0 0.0 0.0 0.0 0.0 0.0 0.0 0.0 0.0 0.0 0.0 0.0 0.0 0.0 0.0 0.0 0.0 0.0 0.0 0.0 0.0 0.0 0.0 0.0 0.0 0.0 0.0 0.0 0.0 0.0 0.0 0.0 0.0 0.0 0.05652562954190657 0.0 0.0 0.0 0.0 0.0 0.0 0.0 0.0 0.0 0.05652562954190657 0.0 0.0 0.0 0.0 0.06727412240114297 0.0 0.0 0.0 0.0 0.0 0.0 0.0 0.0 0.0 0.0 0.0 0.0 0.06122088513657143 0.0 0.06727412240114297 0.0 0.0 0.0 0.0 0.0 0.0 0.0 0.05652562954190657 0.0 0.0 0.0 0.0 0.0 0.0 0.0 0.0 0.0 0.0 0.0 0.0 0.0 0.0 0.0 0.0 0.0 0.0 0.0 0.0 0.05652562954190657 0.0 0.0 0.0 0.0 0.0 0.0 0.0 0.0 0.0 0.0 0.0 0.0 0.06727412240114297 0.0 0.0 0.06727412240114297 0.0 0.0 0.0 0.06727412240114297 0.0 0.0 0.0 0.0 0.0 0.0 0.0 0.0 0.0 0.0 0.0 0.0 0.0 0.0 0.0 0.0 0.0 0.0 0.0 0.0 0.0 0.0 0.0 0.0 0.0 0.0 0.06727412240114297 0.0 0.0 0.0 0.0 0.0 \n",
      "0.0 0.0705014782052762 0.0 0.0 0.0 0.0 0.0 0.0 0.0 0.0 0.0 0.0 0.0 0.0 0.0 0.0 0.0 0.0 0.0 0.0 0.0 0.0 0.0 0.0 0.0 0.0 0.0 0.0 0.0 0.0 0.0 0.0 0.041851200824866513 0.0 0.0 0.0 0.0 0.0 0.0 0.0705014782052762 0.0 0.0 0.0 0.0 0.0 0.0 0.0 0.0 0.0 0.0 0.0 0.0 0.0 0.0 0.0 0.0 0.0 0.0 0.0 0.0 0.0 0.0 0.0 0.0 0.0 0.0 0.0 0.0705014782052762 0.0 0.0 0.0 0.0 0.0 0.0 0.0 0.0 0.0 0.0 0.0705014782052762 0.0 0.0 0.0 0.0 0.0 0.0 0.0 0.0 0.0 0.0 0.0 0.0 0.0 0.0 0.0 0.0 0.0 0.0 0.0 0.0 0.0 0.0 0.0 0.0 0.0 0.05923734560854763 0.0 0.0 0.0705014782052762 0.0 0.0 0.0 0.0 0.0 0.0 0.0 0.0705014782052762 0.0 0.0 0.0 0.0 0.0 0.0 0.0 0.0 0.0 0.0 0.0 0.0 0.0 0.0 0.0 0.0 0.0 0.0 0.0 0.0 0.0 0.0 0.0 0.0 0.0 0.0 0.0 0.0 0.0705014782052762 0.0705014782052762 0.0 0.0 0.0 0.06415784770000028 0.0 0.0 0.0 0.0 0.0 0.0 0.0 0.0 0.0 0.0 0.0 0.0 0.0 0.0 0.0 0.0 0.0 0.0 0.0 0.0 0.0 0.0 0.0 0.0 0.0 0.0 0.0 0.0 0.0 0.05923734560854763 0.0 0.0705014782052762 0.0 0.0 0.0 0.0 0.0 0.0 0.0 0.0 0.0 0.0 0.0 0.0 0.0 0.0 0.0 0.0 0.0705014782052762 0.0 0.0 0.0705014782052762 0.0 0.0 0.0 0.0 \n",
      "0.0 0.0 0.08880453814646345 0.0 0.0 0.0 0.0 0.0 0.0 0.0 0.0 0.0 0.0 0.0 0.0 0.0 0.0 0.0 0.0 0.0 0.0 0.0 0.0 0.0 0.0 0.0 0.0 0.0 0.0 0.0 0.06172428272192038 0.0 0.04678333171313044 0.05463306038314528 0.0 0.0 0.0 0.0 0.0 0.0 0.0 0.0 0.0 0.04678333171313044 0.0 0.0 0.0 0.0 0.0 0.0 0.0 0.0 0.0 0.0 0.0 0.0 0.0 0.0 0.0 0.0 0.0 0.08880453814646345 0.0 0.0 0.0 0.06621841989688892 0.0 0.0 0.0 0.0 0.0 0.0 0.0 0.0 0.0 0.06621841989688892 0.0 0.0 0.0 0.0 0.0 0.0 0.0 0.0 0.0 0.0 0.0 0.0 0.0 0.06621841989688892 0.0 0.0 0.0 0.0 0.0 0.0 0.0 0.0 0.0 0.0 0.0 0.0 0.0 0.0 0.0 0.0 0.0 0.0 0.0 0.0 0.0 0.0 0.0 0.0 0.0 0.0 0.0 0.0 0.08880453814646345 0.0 0.0 0.0 0.0 0.0 0.0 0.0 0.0 0.0 0.0 0.0 0.06621841989688892 0.0 0.0 0.0 0.0 0.0 0.0 0.0 0.0 0.0 0.0 0.05463306038314528 0.0 0.0 0.0 0.0 0.06621841989688892 0.0 0.0 0.0 0.0 0.0 0.0 0.0 0.0 0.0 0.0 0.0 0.0 0.0 0.0 0.0 0.0 0.0 0.0 0.07171879926480436 0.0 0.0 0.0 0.0 0.0 0.0 0.0 0.0 0.0 0.0 0.0 0.0 0.0 0.0 0.0 0.0 0.0 0.0 0.0 0.0 0.0 0.0 0.0 0.0 0.0 0.06621841989688892 0.0 0.0 0.0 0.0 0.0 0.0 0.0 0.0 0.0 0.0 0.0 0.0 0.0 0.0 \n",
      "0.0 0.0 0.0 0.0 0.0 0.0 0.0 0.0 0.0 0.0 0.0 0.0 0.0 0.07833643548478217 0.0 0.0 0.0 0.0 0.0 0.0 0.0 0.0 0.0 0.0 0.0 0.0 0.0 0.0 0.0 0.0 0.0 0.0 0.0 0.0 0.0 0.0 0.0 0.0 0.0 0.0 0.0 0.0 0.0 0.0 0.06952005271083045 0.0 0.0 0.0 0.0 0.06952005271083045 0.0 0.06952005271083045 0.0 0.0 0.0 0.0 0.0 0.0 0.0 0.0 0.0 0.0 0.0 0.0 0.0 0.0 0.0 0.0 0.0 0.0 0.0 0.0 0.0 0.0 0.0 0.0 0.0 0.06952005271083045 0.0 0.0 0.0 0.06952005271083045 0.0 0.0 0.0 0.0 0.0 0.0 0.0 0.0 0.0 0.07833643548478217 0.0 0.0 0.0 0.07833643548478217 0.0 0.0 0.0 0.0 0.0 0.0 0.0 0.0 0.0 0.0 0.0 0.0 0.0 0.0 0.0 0.0 0.0 0.0 0.07833643548478217 0.0 0.0 0.0 0.0 0.0 0.0 0.0 0.0 0.0 0.0 0.06952005271083045 0.0 0.0 0.0 0.0 0.0 0.0 0.0 0.0 0.0 0.0 0.0 0.06952005271083045 0.0 0.0 0.0 0.0 0.0 0.0 0.0 0.0 0.0 0.0 0.0 0.0 0.0 0.0 0.0 0.05841272401644076 0.0 0.0 0.07833643548478217 0.06326472958383522 0.0 0.0 0.0 0.0 0.0 0.0 0.0 0.0 0.0 0.0 0.0 0.0 0.0 0.0 0.0 0.0 0.0 0.0 0.0 0.0 0.0 0.0 0.0 0.0 0.0 0.0 0.0 0.0 0.0 0.0 0.0 0.0 0.0 0.0 0.0 0.0 0.0 0.0 0.0 0.0 0.0 0.0 0.0 0.0 0.0 0.0 0.0 0.0 \n",
      "0.0 0.0 0.0 0.0 0.0 0.0 0.0 0.0 0.0 0.0 0.0 0.0 0.0 0.0 0.0 0.0 0.0 0.0 0.0 0.0 0.0 0.0 0.0 0.0 0.0 0.0 0.0 0.0 0.0 0.0 0.0 0.0 0.0 0.0 0.0 0.0 0.0 0.08808476909008991 0.0 0.0 0.0 0.0 0.08808476909008991 0.0 0.0 0.0 0.0 0.0 0.0 0.0 0.0 0.0 0.0 0.0 0.0 0.0 0.0 0.0 0.0 0.0 0.0 0.0 0.0 0.0 0.0 0.0 0.0 0.0 0.0 0.0 0.0 0.0 0.0 0.0 0.0 0.0 0.0 0.0 0.0 0.0 0.0 0.0 0.0 0.0 0.0 0.10906941160435855 0.0 0.0 0.0 0.0 0.0 0.0 0.0 0.0 0.0 0.0 0.0 0.0 0.0 0.0 0.0 0.0 0.0 0.0 0.0 0.0 0.0 0.0 0.0 0.0 0.0 0.0 0.0 0.0 0.0 0.0 0.10906941160435855 0.0 0.0 0.0 0.0 0.0 0.0 0.0 0.0 0.0 0.0 0.0 0.0 0.0 0.0 0.0 0.0 0.0 0.0 0.0 0.0 0.0 0.0 0.0 0.0 0.0 0.0 0.0 0.0 0.0 0.0 0.10906941160435855 0.0 0.0 0.0 0.0 0.0 0.0 0.08808476909008991 0.0 0.0 0.0 0.0 0.0 0.0 0.0 0.0 0.0 0.0 0.0 0.0 0.0 0.0 0.0 0.0 0.0 0.0 0.0 0.0 0.0 0.0 0.0 0.0 0.0 0.0 0.0 0.0 0.0 0.0 0.10906941160435855 0.0 0.0 0.0 0.0 0.0 0.08132922310357907 0.0 0.0 0.0 0.0 0.0 0.0 0.0 0.10906941160435855 0.0 0.0 0.0 0.0 0.0 0.10906941160435855 \n",
      "0.0 0.0 0.0 0.0 0.0 0.0 0.0 0.0 0.0 0.0 0.0 0.0 0.0 0.0 0.0 0.0 0.0 0.0 0.0 0.0 0.0 0.0 0.0 0.0 0.05105283390295595 0.0 0.06076066069049987 0.0 0.0 0.0 0.0 0.06076066069049987 0.0 0.0 0.0 0.06076066069049987 0.0 0.0 0.0 0.0 0.0 0.0 0.0 0.0 0.0 0.0 0.0 0.0 0.0 0.0 0.0 0.0 0.0 0.0 0.0 0.0 0.0 0.0 0.0 0.0 0.0 0.0 0.0 0.0 0.0 0.0 0.0 0.0 0.0 0.0 0.0 0.0 0.0 0.0 0.0 0.0 0.06846619630730752 0.0 0.0 0.0 0.0 0.0 0.06846619630730752 0.06846619630730752 0.0 0.0 0.0 0.0 0.0 0.0 0.0 0.0 0.0 0.0 0.0 0.0 0.0 0.0 0.0 0.0 0.0 0.0 0.0 0.0 0.0 0.06846619630730752 0.0 0.0 0.0 0.0 0.0 0.0 0.0 0.06846619630730752 0.0 0.0 0.0 0.0 0.0 0.0 0.0 0.0 0.0 0.0 0.0 0.0 0.06846619630730752 0.0 0.0 0.0 0.0 0.0 0.0 0.0 0.0 0.0 0.0 0.0 0.0 0.0 0.11058699232892807 0.0 0.0 0.0 0.0 0.0 0.0 0.0 0.0 0.0 0.0 0.0 0.0 0.0 0.0 0.0 0.0 0.0 0.0 0.0 0.0 0.0 0.0 0.0 0.06076066069049987 0.0 0.0 0.0 0.0 0.0 0.0 0.05529349616446404 0.0 0.0 0.0 0.0 0.0 0.06076066069049987 0.0 0.0 0.0 0.0 0.0 0.0 0.0 0.0 0.0 0.0 0.0 0.0 0.0 0.0 0.0 0.0 0.0 0.0 0.0 0.0 0.0 0.0 0.0 0.0 0.0 0.06846619630730752 0.0 0.0 \n",
      "0.0 0.0 0.0 0.0 0.0 0.0 0.0 0.0 0.0 0.0 0.08279815567397854 0.0 0.0 0.0 0.0932984387568381 0.0 0.0 0.0 0.0 0.0 0.0 0.0 0.0 0.0 0.06956936348382457 0.0 0.0 0.0 0.0 0.0 0.0 0.0 0.0 0.0 0.0 0.0 0.0 0.0 0.0 0.0 0.0932984387568381 0.0 0.0 0.0 0.0 0.0 0.0 0.0 0.0 0.0 0.0 0.0 0.0 0.0 0.0 0.0 0.0 0.0 0.0 0.0 0.0 0.0 0.0 0.0 0.0 0.0 0.0 0.0 0.0 0.0 0.0932984387568381 0.0 0.0 0.0 0.0 0.0 0.0 0.0 0.0 0.0 0.0 0.0 0.0 0.0 0.0 0.0 0.0 0.0 0.0 0.0 0.06484780318144344 0.0 0.0 0.0 0.0 0.0 0.0 0.0 0.0 0.0 0.0 0.0 0.0 0.0 0.0 0.0 0.0 0.0 0.0932984387568381 0.0 0.0 0.0 0.0 0.0 0.0 0.0 0.0 0.0 0.0 0.0 0.0 0.0 0.0 0.0 0.0 0.0 0.0 0.0 0.0 0.0 0.0 0.0932984387568381 0.0 0.0 0.0 0.0 0.0 0.0 0.0 0.0 0.075348086264303 0.0 0.0 0.0 0.0 0.0 0.0 0.0 0.0 0.0 0.0 0.0 0.0 0.0 0.0 0.0 0.0 0.0 0.0 0.0 0.0 0.0 0.0 0.0 0.08279815567397854 0.0 0.0 0.0 0.0 0.0 0.0 0.075348086264303 0.0 0.0 0.0 0.0 0.0 0.0 0.0 0.0 0.0 0.0 0.08279815567397854 0.0 0.0 0.0 0.0 0.0 0.0 0.0 0.0 0.0 0.0 0.0 0.0 0.0 0.0 0.0 0.0 0.0 0.0 0.0 0.0 0.0 0.0 0.0 \n",
      "0.09729710160423057 0.0 0.0 0.0 0.09729710160423057 0.0 0.0 0.0 0.09729710160423057 0.0 0.0 0.0 0.0 0.0 0.0 0.0 0.0 0.0 0.0 0.0 0.0 0.0 0.0 0.0 0.0 0.0 0.0 0.0 0.0 0.0 0.0 0.0 0.0 0.05985773405275729 0.0 0.0863467885700664 0.0 0.0 0.0 0.0 0.0 0.0 0.0 0.051257319435292256 0.0 0.0 0.0 0.0 0.0 0.0 0.0 0.0 0.0 0.0 0.0 0.0 0.0 0.0 0.0 0.0 0.0 0.0 0.0 0.0 0.0 0.0 0.0 0.0 0.0 0.0 0.0 0.0 0.0 0.0 0.0 0.0 0.0 0.0 0.0 0.0 0.0 0.0 0.0 0.0 0.0 0.0 0.0 0.0 0.09729710160423057 0.0 0.0 0.0 0.0 0.0 0.0 0.0 0.0 0.0 0.0 0.0 0.0 0.0 0.0 0.0 0.0 0.0 0.09729710160423057 0.0 0.0 0.0 0.0 0.0 0.0 0.0 0.0 0.0 0.0 0.0 0.0 0.0 0.0 0.0 0.0 0.0 0.0 0.0 0.0 0.0 0.09729710160423057 0.0 0.0 0.0 0.0 0.0 0.0 0.0 0.0 0.0 0.0 0.0 0.0 0.05985773405275729 0.0 0.0 0.0 0.0 0.0 0.0 0.0 0.0 0.0 0.0 0.0 0.0 0.0 0.0 0.0 0.0 0.0 0.0 0.0 0.0 0.0 0.0 0.0 0.0 0.0 0.0 0.0 0.0 0.0 0.0 0.0 0.0 0.0 0.0 0.0 0.0863467885700664 0.0 0.0 0.0 0.0 0.0 0.0 0.0 0.0 0.0 0.0 0.0 0.0 0.0 0.07255102569367716 0.0 0.0 0.0 0.0 0.0 0.0 0.0 0.0 0.0 0.0 0.0 0.0 0.0 0.0 \n",
      "0.0 0.0 0.0 0.1128511802676862 0.0 0.1128511802676862 0.0 0.0 0.0 0.1128511802676862 0.0 0.0 0.0 0.0 0.0 0.0 0.0 0.0 0.0 0.0 0.0 0.1128511802676862 0.0 0.0 0.0 0.0 0.0 0.0 0.0 0.0 0.0 0.0 0.059451400917979964 0.0 0.0 0.0 0.0 0.0 0.0 0.0 0.0 0.0 0.0 0.059451400917979964 0.0 0.0 0.0 0.0 0.0 0.0 0.0 0.0 0.0 0.0 0.0 0.0 0.0 0.0 0.0 0.0 0.0 0.0 0.0 0.0 0.0 0.0 0.0 0.0 0.0 0.0 0.0 0.0 0.0 0.09113893629023682 0.0 0.0 0.0 0.0 0.0 0.0 0.0 0.0 0.0 0.0 0.0 0.0 0.0 0.0 0.0 0.0 0.0 0.0 0.0 0.0 0.0 0.0 0.0 0.0 0.0 0.0 0.0 0.0 0.1128511802676862 0.0 0.0 0.0 0.0 0.0 0.0 0.0 0.0 0.0 0.0 0.0 0.0 0.0 0.0 0.0 0.0 0.0 0.0 0.0 0.0 0.0 0.0 0.0 0.0 0.0 0.0 0.0 0.0 0.0 0.0 0.0 0.0 0.0 0.1128511802676862 0.0 0.0 0.0 0.0 0.0 0.0 0.0 0.0 0.0 0.0 0.0 0.0 0.0 0.0 0.0 0.0 0.0 0.0 0.0 0.0 0.0 0.0 0.0 0.0 0.0 0.0 0.0 0.0 0.0 0.0 0.0 0.0 0.0 0.0 0.0 0.0 0.0 0.0 0.0 0.0 0.0 0.0 0.0 0.0 0.0 0.0 0.0 0.0 0.0 0.0 0.0 0.0 0.0 0.0 0.0 0.0 0.0 0.1128511802676862 0.0 0.0 0.0 0.0 0.0 0.0 0.0 0.0 0.0 0.0 0.0 \n",
      "0.0 0.0 0.0 0.0 0.0 0.0 0.0 0.0 0.0 0.0 0.0 0.0 0.0 0.0 0.0 0.0 0.0 0.0 0.0 0.10257796322233355 0.0 0.0 0.0 0.0 0.0 0.0 0.0 0.0 0.0 0.0 0.0 0.0 0.05403934280895573 0.0 0.09103331503475907 0.0 0.0 0.0 0.0 0.0 0.0 0.10257796322233355 0.0 0.05403934280895573 0.0 0.0 0.0 0.0 0.0 0.0 0.0 0.0 0.0 0.0 0.0 0.0 0.0 0.0 0.0 0.0 0.0 0.0 0.0 0.0 0.0 0.0 0.10257796322233355 0.0 0.0 0.0 0.0 0.0 0.0 0.0 0.0 0.0 0.0 0.0 0.0 0.0 0.0 0.0 0.0 0.0 0.0 0.0 0.0 0.0 0.0 0.0 0.0 0.0 0.0 0.0 0.0 0.0 0.0 0.0 0.0 0.0 0.10257796322233355 0.0 0.0 0.0 0.0 0.0 0.0 0.0 0.0 0.0 0.10257796322233355 0.0 0.0 0.0 0.0 0.0 0.0 0.0 0.0 0.0 0.0 0.0 0.0 0.0 0.0 0.0 0.0 0.0 0.0 0.0 0.0 0.0 0.0 0.10257796322233355 0.0 0.0 0.0 0.0 0.0 0.0 0.0 0.0 0.0 0.0 0.0 0.0 0.0 0.0 0.0 0.0 0.0 0.0 0.0 0.0 0.0 0.0 0.0 0.0 0.0 0.0 0.0 0.0 0.0 0.0 0.0 0.08284225679099487 0.0 0.0 0.0 0.0 0.0 0.0 0.0 0.0 0.0 0.0 0.0 0.0 0.0 0.0 0.0 0.0 0.0 0.0 0.0 0.0 0.0 0.10257796322233355 0.0 0.0 0.0 0.0 0.0 0.0 0.0 0.0 0.0 0.0 0.0 0.0 0.0 0.0 0.0 0.0 0.0 0.0 \n",
      "0.0 0.0 0.0 0.0 0.0 0.0 0.0 0.0 0.0 0.0 0.0 0.0 0.0 0.0 0.0 0.0 0.0 0.0 0.0 0.0 0.0 0.0 0.0 0.0 0.0 0.0 0.0 0.0 0.0 0.0 0.04735869395217332 0.0 0.0 0.04191786882340111 0.0 0.0 0.0 0.0 0.0 0.0 0.0 0.0 0.05502710627357372 0.0 0.0 0.0 0.0 0.0 0.0 0.0 0.0 0.0 0.0 0.0 0.0 0.0 0.0 0.0 0.0 0.0 0.0 0.0 0.0 0.0 0.06813634372374633 0.05080687443581359 0.0 0.0 0.0 0.0 0.0 0.0 0.0 0.05502710627357372 0.0 0.0 0.0 0.0 0.0 0.0 0.0 0.0 0.0 0.0 0.0 0.0 0.06046793140234593 0.0 0.0 0.0 0.0 0.0 0.0 0.0 0.0 0.0 0.0 0.0 0.0 0.0 0.0 0.0 0.0 0.0 0.0 0.0 0.0 0.0 0.0 0.0 0.0 0.0 0.0 0.0 0.0 0.0 0.0 0.0 0.0 0.0 0.0 0.0 0.05502710627357372 0.0 0.0 0.0 0.0 0.0 0.0 0.0 0.0 0.0 0.0 0.0 0.0 0.0 0.0 0.0 0.06813634372374633 0.0 0.0 0.04191786882340111 0.0 0.0 0.0 0.0 0.0 0.0 0.0 0.0 0.06046793140234593 0.0 0.0 0.0 0.05502710627357372 0.0 0.0 0.0 0.06813634372374633 0.0 0.0 0.06813634372374633 0.0 0.0 0.0 0.0 0.0 0.0 0.0 0.0 0.0 0.0 0.0 0.0 0.0 0.06813634372374633 0.0 0.0 0.0 0.0 0.0 0.0 0.0 0.0 0.0 0.0 0.0 0.0 0.0 0.0 0.0 0.0 0.0 0.0 0.0 0.0 0.0 0.06813634372374633 0.0 0.0 0.0 0.0 0.0 0.0 0.06813634372374633 0.0 \n",
      "0.0 0.0 0.0 0.0 0.0 0.0 0.0 0.0 0.0 0.0 0.0 0.0 0.0 0.0 0.0 0.0 0.0 0.0 0.0 0.0 0.0 0.0 0.0 0.0 0.0 0.0 0.0 0.0 0.0 0.0 0.0 0.0 0.0 0.0 0.0 0.0 0.0 0.0 0.0 0.0 0.0 0.0 0.0 0.0 0.0 0.0 0.0 0.0 0.0 0.0 0.0 0.0 0.0 0.0 0.0 0.0 0.0 0.0 0.0 0.0 0.0 0.0 0.0 0.0 0.0 0.0 0.0 0.0 0.0 0.0 0.0 0.0 0.0 0.0 0.0 0.0 0.0 0.0 0.0 0.0 0.0 0.0 0.0 0.0 0.0 0.0 0.0 0.0 0.0 0.0 0.0 0.0 0.0 0.0 0.0 0.0 0.0 0.0 0.0 0.0 0.0 0.0 0.0 0.0 0.0 0.0 0.0 0.0 0.0 0.0 0.0 0.0 0.0 0.0 0.0 0.0 0.0 0.0 0.0 0.0 0.0 0.0 0.0 0.0 0.0 0.0 0.0 0.0 0.0 0.0 0.0 0.0 0.0 0.0 0.0 0.0 0.0 0.0 0.0 0.0 0.0 0.0 0.0 0.0 0.0 0.0 0.0 0.0 0.0 0.0 0.0 0.0 0.0 0.0 0.0 0.0 0.0 0.0 0.0 0.0 0.0 0.0 0.0 0.0 0.0 0.0 0.0 0.0 0.0 0.0 0.0 0.0 0.0 0.0 0.0 0.0 0.0 0.0 0.0 0.0 0.0 0.0 0.0 0.0 0.0 0.0 0.0 0.0 0.0 0.0 0.0 0.0 0.0 0.0 0.0 0.0 0.0 0.0 0.0 0.0 0.0 0.0 0.0 0.0 0.0 0.0 \n"
     ]
    }
   ],
   "source": [
    "filas, columnas = X.shape\n",
    "\n",
    "for i in range(filas):\n",
    "    for j in range(columnas):\n",
    "        print(X[i, j], end=' ')  # Imprime el elemento y un espacio en blanco\n",
    "    print()"
   ]
  },
  {
   "cell_type": "code",
   "execution_count": 14,
   "id": "6911f4f0",
   "metadata": {},
   "outputs": [],
   "source": [
    "def obtener_score(tfidf_row):\n",
    "    x = tfidf_row[tfidf_row != 0]\n",
    "    return x.mean()"
   ]
  },
  {
   "cell_type": "code",
   "execution_count": 15,
   "id": "d3a08ad1",
   "metadata": {},
   "outputs": [
    {
     "name": "stderr",
     "output_type": "stream",
     "text": [
      "C:\\Users\\Jaime\\AppData\\Roaming\\Python\\Python311\\site-packages\\scipy\\sparse\\_base.py:651: RuntimeWarning: divide by zero encountered in divide\n",
      "  return self.astype(np.float_)._mul_scalar(1./other)\n"
     ]
    }
   ],
   "source": [
    "scores = np.zeros(len(lineas))\n",
    "for i in range(len(lineas)):\n",
    "    score = obtener_score(X[i,:])\n",
    "    scores[i] = score"
   ]
  },
  {
   "cell_type": "code",
   "execution_count": 16,
   "id": "388e8aa5",
   "metadata": {},
   "outputs": [
    {
     "data": {
      "text/plain": [
       "array([0.05555556, 0.14285714, 0.05882353, 0.11111111, 0.08333333,\n",
       "       0.0625    , 0.06666667, 0.05882353, 0.06666667, 0.05882353,\n",
       "       0.05      , 0.04347826, 0.08333333, 0.08333333, 0.0625    ,\n",
       "       0.06666667, 0.06666667, 0.07142857, 0.1       , 0.06666667,\n",
       "       0.08333333, 0.08333333, 0.1       , 0.09090909, 0.05882353,\n",
       "       0.        ])"
      ]
     },
     "execution_count": 16,
     "metadata": {},
     "output_type": "execute_result"
    }
   ],
   "source": [
    "scores"
   ]
  },
  {
   "cell_type": "code",
   "execution_count": 17,
   "id": "f8cce039",
   "metadata": {},
   "outputs": [],
   "source": [
    "sort_idx = np.argsort(-scores)"
   ]
  },
  {
   "cell_type": "code",
   "execution_count": 18,
   "id": "5c104884",
   "metadata": {},
   "outputs": [
    {
     "data": {
      "text/plain": [
       "array([ 1,  3, 18, 22, 23, 20, 12, 21,  4, 13, 17,  8, 15, 16, 19,  6,  5,\n",
       "       14,  7, 24,  2,  9,  0, 10, 11, 25], dtype=int64)"
      ]
     },
     "execution_count": 18,
     "metadata": {},
     "output_type": "execute_result"
    }
   ],
   "source": [
    "sort_idx"
   ]
  },
  {
   "cell_type": "code",
   "execution_count": 19,
   "id": "df7e844f",
   "metadata": {},
   "outputs": [
    {
     "name": "stdout",
     "output_type": "stream",
     "text": [
      "Resumen:\n",
      "0.14285714285714285:   Se convierte así en la primera entidad financiera\n",
      "en España en ofrecerlo\n",
      "0.1111111111111111:   Actualmente, uno de cada dos clientes en España\n",
      "accede a la ‘app’ a través de la biometría\n",
      "0.1:   Será el propio cliente quien finalice la\n",
      "transacción usando esos valores únicos e intransferibles que tiene\n",
      "cada persona\n",
      "0.1:   El objetivo de la entidad para 2022\n",
      "es que alrededor del 70% de los clientes utilicen esta herramienta\n",
      "para acceder a BBVA\n",
      "0.09090909090909093: \n",
      "En ningún caso, BBVA almacena, ni hace\n",
      "tratamiento de la información biométrica registrada por los clientes\n",
      "en sus dispositivos\n"
     ]
    }
   ],
   "source": [
    "print(\"Resumen:\")\n",
    "oraciones = []\n",
    "for i in range(0,5):\n",
    "    oraciones.append([sort_idx[i], scores[sort_idx[i]], lineas[sort_idx[i]]])\n",
    "    print(f\"{scores[sort_idx[i]]}: {lineas[sort_idx[i]]}\")"
   ]
  },
  {
   "cell_type": "code",
   "execution_count": 20,
   "id": "f5ff86c0",
   "metadata": {},
   "outputs": [
    {
     "data": {
      "text/plain": [
       "[[1,\n",
       "  0.14285714285714285,\n",
       "  '  Se convierte así en la primera entidad financiera\\nen España en ofrecerlo'],\n",
       " [3,\n",
       "  0.1111111111111111,\n",
       "  '  Actualmente, uno de cada dos clientes en España\\naccede a la ‘app’ a través de la biometría'],\n",
       " [18,\n",
       "  0.1,\n",
       "  '  Será el propio cliente quien finalice la\\ntransacción usando esos valores únicos e intransferibles que tiene\\ncada persona'],\n",
       " [22,\n",
       "  0.1,\n",
       "  '  El objetivo de la entidad para 2022\\nes que alrededor del 70% de los clientes utilicen esta herramienta\\npara acceder a BBVA'],\n",
       " [23,\n",
       "  0.09090909090909093,\n",
       "  '\\r\\nEn ningún caso, BBVA almacena, ni hace\\ntratamiento de la información biométrica registrada por los clientes\\nen sus dispositivos']]"
      ]
     },
     "execution_count": 20,
     "metadata": {},
     "output_type": "execute_result"
    }
   ],
   "source": [
    "oraciones"
   ]
  },
  {
   "cell_type": "code",
   "execution_count": 21,
   "id": "2b062794",
   "metadata": {},
   "outputs": [
    {
     "name": "stdout",
     "output_type": "stream",
     "text": [
      "  Se convierte así en la primera entidad financiera\n",
      "en España en ofrecerlo\n",
      "  Actualmente, uno de cada dos clientes en España\n",
      "accede a la ‘app’ a través de la biometría\n",
      "  Será el propio cliente quien finalice la\n",
      "transacción usando esos valores únicos e intransferibles que tiene\n",
      "cada persona\n",
      "  El objetivo de la entidad para 2022\n",
      "es que alrededor del 70% de los clientes utilicen esta herramienta\n",
      "para acceder a BBVA\n",
      "\n",
      "En ningún caso, BBVA almacena, ni hace\n",
      "tratamiento de la información biométrica registrada por los clientes\n",
      "en sus dispositivos\n"
     ]
    }
   ],
   "source": [
    "# Ordenar la lista por el primer elemento de cada sublista\n",
    "oraciones_ord = sorted(oraciones, key=lambda x: x[0])\n",
    "\n",
    "# Imprimir la lista ordenada\n",
    "for item in oraciones_ord:\n",
    "    print(item[2])"
   ]
  }
 ],
 "metadata": {
  "kernelspec": {
   "display_name": "Python 3 (ipykernel)",
   "language": "python",
   "name": "python3"
  },
  "language_info": {
   "codemirror_mode": {
    "name": "ipython",
    "version": 3
   },
   "file_extension": ".py",
   "mimetype": "text/x-python",
   "name": "python",
   "nbconvert_exporter": "python",
   "pygments_lexer": "ipython3",
   "version": "3.11.7"
  }
 },
 "nbformat": 4,
 "nbformat_minor": 5
}
