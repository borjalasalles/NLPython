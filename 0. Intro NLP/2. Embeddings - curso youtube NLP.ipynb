{
 "cells": [
  {
   "cell_type": "markdown",
   "metadata": {},
   "source": [
    "# [Word Embeddings](https://www.youtube.com/watch?v=nYJ3B5gyrhc&list=PL7HAy5R0ehQVdPVLV6pIJA9ZE2vVyLRxX&index=13)"
   ]
  },
  {
   "cell_type": "code",
   "execution_count": 1,
   "metadata": {},
   "outputs": [
    {
     "name": "stdout",
     "output_type": "stream",
     "text": [
      "Defaulting to user installation because normal site-packages is not writeable\n",
      "Collecting gensim\n",
      "  Using cached gensim-4.3.2-cp311-cp311-win_amd64.whl.metadata (8.5 kB)\n",
      "Requirement already satisfied: numpy>=1.18.5 in c:\\users\\jaime\\appdata\\roaming\\python\\python311\\site-packages (from gensim) (1.26.3)\n",
      "Requirement already satisfied: scipy>=1.7.0 in c:\\users\\jaime\\appdata\\roaming\\python\\python311\\site-packages (from gensim) (1.11.2)\n",
      "Requirement already satisfied: smart-open>=1.8.1 in c:\\users\\jaime\\appdata\\roaming\\python\\python311\\site-packages (from gensim) (6.4.0)\n",
      "Using cached gensim-4.3.2-cp311-cp311-win_amd64.whl (24.0 MB)\n",
      "Installing collected packages: gensim\n",
      "Successfully installed gensim-4.3.2\n"
     ]
    },
    {
     "name": "stderr",
     "output_type": "stream",
     "text": [
      "DEPRECATION: Loading egg at c:\\program files\\python311\\lib\\site-packages\\vboxapi-1.0-py3.11.egg is deprecated. pip 24.3 will enforce this behaviour change. A possible replacement is to use pip for package installation.. Discussion can be found at https://github.com/pypa/pip/issues/12330\n"
     ]
    }
   ],
   "source": [
    "# !pip install gensim"
   ]
  },
  {
   "cell_type": "code",
   "execution_count": 1,
   "metadata": {},
   "outputs": [],
   "source": [
    "import gensim\n"
   ]
  },
  {
   "cell_type": "code",
   "execution_count": 2,
   "metadata": {},
   "outputs": [],
   "source": [
    "vectores = gensim.models.KeyedVectors.load_word2vec_format('SBWvectors300min5.txt')"
   ]
  },
  {
   "cell_type": "code",
   "execution_count": 9,
   "metadata": {},
   "outputs": [],
   "source": [
    "def analogias(v1, v2, v3):\n",
    "    similitud = vectores.most_similar(positive=[v1, v3], negative=[v2])\n",
    "    print(f\"{v1} es a {v2} como {similitud[0][0]} es a {v3}\")"
   ]
  },
  {
   "cell_type": "code",
   "execution_count": 10,
   "metadata": {},
   "outputs": [
    {
     "name": "stdout",
     "output_type": "stream",
     "text": [
      "hombre es a rey como persona es a mujer\n"
     ]
    }
   ],
   "source": [
    "analogias('hombre', 'rey', 'mujer')"
   ]
  },
  {
   "cell_type": "code",
   "execution_count": 11,
   "metadata": {},
   "outputs": [
    {
     "name": "stdout",
     "output_type": "stream",
     "text": [
      "alemania es a alemán como España es a español\n"
     ]
    }
   ],
   "source": [
    "analogias('alemania', 'alemán', 'español')"
   ]
  },
  {
   "cell_type": "code",
   "execution_count": 12,
   "metadata": {},
   "outputs": [
    {
     "name": "stdout",
     "output_type": "stream",
     "text": [
      "pan es a trigo como yogur es a leche\n"
     ]
    }
   ],
   "source": [
    "analogias('pan', 'trigo', 'leche')"
   ]
  },
  {
   "cell_type": "code",
   "execution_count": 13,
   "metadata": {},
   "outputs": [
    {
     "name": "stdout",
     "output_type": "stream",
     "text": [
      "vaca es a leche como gallina es a huevo\n"
     ]
    }
   ],
   "source": [
    "analogias('vaca', 'leche', 'huevo')"
   ]
  },
  {
   "cell_type": "code",
   "execution_count": 14,
   "metadata": {},
   "outputs": [
    {
     "name": "stdout",
     "output_type": "stream",
     "text": [
      "chimenea es a humo como desagüe es a agua\n"
     ]
    }
   ],
   "source": [
    "analogias('chimenea', 'humo', 'agua')"
   ]
  },
  {
   "cell_type": "code",
   "execution_count": 15,
   "metadata": {},
   "outputs": [
    {
     "name": "stdout",
     "output_type": "stream",
     "text": [
      "carne es a carnívoro como verduras es a vegetal\n"
     ]
    }
   ],
   "source": [
    "analogias('carne', 'carnívoro', 'vegetal')"
   ]
  },
  {
   "cell_type": "code",
   "execution_count": 17,
   "metadata": {},
   "outputs": [],
   "source": [
    "def cercanos(v):\n",
    "    vecinos = vectores.most_similar(positive=[v])\n",
    "    print(f'vecinos de: {v}')\n",
    "    for word, score in vecinos:\n",
    "        print('\\t%s' % word)"
   ]
  },
  {
   "cell_type": "code",
   "execution_count": 18,
   "metadata": {},
   "outputs": [
    {
     "name": "stdout",
     "output_type": "stream",
     "text": [
      "vecinos de: rey\n",
      "\tmonarca\n",
      "\treyes\n",
      "\treino\n",
      "\tpríncipe\n",
      "\treina\n",
      "\tHarthacnut\n",
      "\tRagnald\n",
      "\tSverkersson\n",
      "\tregente\n",
      "\tHardeknut\n"
     ]
    }
   ],
   "source": [
    "cercanos('rey')"
   ]
  },
  {
   "cell_type": "code",
   "execution_count": 19,
   "metadata": {},
   "outputs": [
    {
     "name": "stdout",
     "output_type": "stream",
     "text": [
      "vecinos de: Chile\n",
      "\tchileno\n",
      "\tPerú\n",
      "\tArgentina\n",
      "\tchilena\n",
      "\tValparaíso\n",
      "\tCoquimbo\n",
      "\tBolivia\n",
      "\tEcuador\n",
      "\tAntofagasta\n",
      "\tchilenos\n"
     ]
    }
   ],
   "source": [
    "cercanos('Chile')"
   ]
  },
  {
   "cell_type": "code",
   "execution_count": 20,
   "metadata": {},
   "outputs": [
    {
     "name": "stdout",
     "output_type": "stream",
     "text": [
      "vecinos de: chile\n",
      "\ttomate\n",
      "\tjalapeño\n",
      "\tchiles\n",
      "\tají\n",
      "\tjitomate\n",
      "\tpiquín\n",
      "\tcilantro\n",
      "\taguacate\n",
      "\tcebolla\n",
      "\tfrijol\n"
     ]
    }
   ],
   "source": [
    "cercanos('chile')"
   ]
  }
 ],
 "metadata": {
  "kernelspec": {
   "display_name": "Python 3",
   "language": "python",
   "name": "python3"
  },
  "language_info": {
   "codemirror_mode": {
    "name": "ipython",
    "version": 3
   },
   "file_extension": ".py",
   "mimetype": "text/x-python",
   "name": "python",
   "nbconvert_exporter": "python",
   "pygments_lexer": "ipython3",
   "version": "3.11.5"
  }
 },
 "nbformat": 4,
 "nbformat_minor": 2
}
