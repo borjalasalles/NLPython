{
 "cells": [
  {
   "cell_type": "markdown",
   "id": "1349b82c-4aac-41a1-82d5-a0b306129625",
   "metadata": {},
   "source": [
    "# [Clasificación de texto con Tensorflow](https://www.youtube.com/watch?v=qaBmfCbzOko&list=PL7HAy5R0ehQVdPVLV6pIJA9ZE2vVyLRxX&index=43)"
   ]
  },
  {
   "cell_type": "code",
   "execution_count": 2,
   "id": "2b86fc22-25d5-49c9-8ec2-f5f34e4a0432",
   "metadata": {
    "tags": []
   },
   "outputs": [],
   "source": [
    "import numpy as np\n",
    "import pandas as pd\n",
    "import seaborn as sn\n",
    "import tensorflow as tf\n",
    "import matplotlib.pyplot as plt\n",
    "from sklearn.model_selection import train_test_split\n",
    "from sklearn.feature_extraction.text import TfidfVectorizer\n",
    "from sklearn.metrics import roc_auc_score, f1_score, confusion_matrix\n",
    "\n",
    "from tensorflow.keras. layers import Dense, Input\n",
    "from tensorflow.keras.models import Model\n",
    "from tensorflow.keras.losses import BinaryCrossentropy\n",
    "from tensorflow.keras.optimizers import Adam"
   ]
  },
  {
   "cell_type": "code",
   "execution_count": 3,
   "id": "ad5195c1-24dd-4dc1-8237-15231adef4a4",
   "metadata": {
    "tags": []
   },
   "outputs": [],
   "source": [
    "# Lee el archivo CSV con el separador correcto y el motor 'python'\n",
    "df = pd.read_csv('reviews_filmaffinity.csv', sep='\\|\\|', engine='python')"
   ]
  },
  {
   "cell_type": "code",
   "execution_count": 4,
   "id": "a0f1854d-74f5-497d-ac3f-50f46bc330d1",
   "metadata": {
    "tags": []
   },
   "outputs": [
    {
     "data": {
      "text/html": [
       "<div>\n",
       "<style scoped>\n",
       "    .dataframe tbody tr th:only-of-type {\n",
       "        vertical-align: middle;\n",
       "    }\n",
       "\n",
       "    .dataframe tbody tr th {\n",
       "        vertical-align: top;\n",
       "    }\n",
       "\n",
       "    .dataframe thead th {\n",
       "        text-align: right;\n",
       "    }\n",
       "</style>\n",
       "<table border=\"1\" class=\"dataframe\">\n",
       "  <thead>\n",
       "    <tr style=\"text-align: right;\">\n",
       "      <th></th>\n",
       "      <th>film_name</th>\n",
       "      <th>gender</th>\n",
       "      <th>film_avg_rate</th>\n",
       "      <th>review_rate</th>\n",
       "      <th>review_title</th>\n",
       "      <th>review_text</th>\n",
       "    </tr>\n",
       "  </thead>\n",
       "  <tbody>\n",
       "    <tr>\n",
       "      <th>0</th>\n",
       "      <td>Ocho apellidos vascos</td>\n",
       "      <td>Comedia</td>\n",
       "      <td>6,0</td>\n",
       "      <td>3.0</td>\n",
       "      <td>OCHO APELLIDOS VASCOS...Y NINGÚN NOMBRE PROPIO</td>\n",
       "      <td>La mayor virtud de esta película es su existen...</td>\n",
       "    </tr>\n",
       "    <tr>\n",
       "      <th>1</th>\n",
       "      <td>Ocho apellidos vascos</td>\n",
       "      <td>Comedia</td>\n",
       "      <td>6,0</td>\n",
       "      <td>2.0</td>\n",
       "      <td>El perro verde</td>\n",
       "      <td>No soy un experto cinéfilo, pero pocas veces m...</td>\n",
       "    </tr>\n",
       "    <tr>\n",
       "      <th>2</th>\n",
       "      <td>Ocho apellidos vascos</td>\n",
       "      <td>Comedia</td>\n",
       "      <td>6,0</td>\n",
       "      <td>2.0</td>\n",
       "      <td>Si no eres de comer mierda... no te comas esta...</td>\n",
       "      <td>Si no eres un incondicional del humor estilo T...</td>\n",
       "    </tr>\n",
       "    <tr>\n",
       "      <th>3</th>\n",
       "      <td>Ocho apellidos vascos</td>\n",
       "      <td>Comedia</td>\n",
       "      <td>6,0</td>\n",
       "      <td>2.0</td>\n",
       "      <td>Aida: The movie</td>\n",
       "      <td>No sé qué está pasando, si la gente se deja ll...</td>\n",
       "    </tr>\n",
       "    <tr>\n",
       "      <th>4</th>\n",
       "      <td>Ocho apellidos vascos</td>\n",
       "      <td>Comedia</td>\n",
       "      <td>6,0</td>\n",
       "      <td>2.0</td>\n",
       "      <td>UN HOMBRE SOLO (Julio Iglesias 1987)</td>\n",
       "      <td>\"Pero cuando amanece,y me quedo solo,siento en...</td>\n",
       "    </tr>\n",
       "    <tr>\n",
       "      <th>...</th>\n",
       "      <td>...</td>\n",
       "      <td>...</td>\n",
       "      <td>...</td>\n",
       "      <td>...</td>\n",
       "      <td>...</td>\n",
       "      <td>...</td>\n",
       "    </tr>\n",
       "    <tr>\n",
       "      <th>8598</th>\n",
       "      <td>La isla mínima</td>\n",
       "      <td>Cine negro</td>\n",
       "      <td>7,2</td>\n",
       "      <td>10.0</td>\n",
       "      <td>magnífica</td>\n",
       "      <td>Buena no, lo siguiente. Por fin un film serio ...</td>\n",
       "    </tr>\n",
       "    <tr>\n",
       "      <th>8599</th>\n",
       "      <td>La isla mínima</td>\n",
       "      <td>Cine negro</td>\n",
       "      <td>7,2</td>\n",
       "      <td>3.0</td>\n",
       "      <td>Mucho bombo por ser española, pero es igual qu...</td>\n",
       "      <td>Me esperaba mucho, pero que mucho, más.Guión m...</td>\n",
       "    </tr>\n",
       "    <tr>\n",
       "      <th>8600</th>\n",
       "      <td>La isla mínima</td>\n",
       "      <td>Cine negro</td>\n",
       "      <td>7,2</td>\n",
       "      <td>4.0</td>\n",
       "      <td>¿Quién me quita ahora este mal sabor de boca?</td>\n",
       "      <td>De mal cuerpo como sensación al finalizar, de ...</td>\n",
       "    </tr>\n",
       "    <tr>\n",
       "      <th>8601</th>\n",
       "      <td>La isla mínima</td>\n",
       "      <td>Cine negro</td>\n",
       "      <td>7,2</td>\n",
       "      <td>1.0</td>\n",
       "      <td>La isla española</td>\n",
       "      <td>Los que han añadido comentarios os lo han dich...</td>\n",
       "    </tr>\n",
       "    <tr>\n",
       "      <th>8602</th>\n",
       "      <td>La isla mínima</td>\n",
       "      <td>Cine negro</td>\n",
       "      <td>7,2</td>\n",
       "      <td>2.0</td>\n",
       "      <td>Perdonen, pero no soy tan inteligente....</td>\n",
       "      <td>Fui a ver esta película de cine con entusiasmo...</td>\n",
       "    </tr>\n",
       "  </tbody>\n",
       "</table>\n",
       "<p>8603 rows × 6 columns</p>\n",
       "</div>"
      ],
      "text/plain": [
       "                  film_name      gender film_avg_rate  review_rate  \\\n",
       "0     Ocho apellidos vascos     Comedia           6,0          3.0   \n",
       "1     Ocho apellidos vascos     Comedia           6,0          2.0   \n",
       "2     Ocho apellidos vascos     Comedia           6,0          2.0   \n",
       "3     Ocho apellidos vascos     Comedia           6,0          2.0   \n",
       "4     Ocho apellidos vascos     Comedia           6,0          2.0   \n",
       "...                     ...         ...           ...          ...   \n",
       "8598         La isla mínima  Cine negro           7,2         10.0   \n",
       "8599         La isla mínima  Cine negro           7,2          3.0   \n",
       "8600         La isla mínima  Cine negro           7,2          4.0   \n",
       "8601         La isla mínima  Cine negro           7,2          1.0   \n",
       "8602         La isla mínima  Cine negro           7,2          2.0   \n",
       "\n",
       "                                           review_title  \\\n",
       "0        OCHO APELLIDOS VASCOS...Y NINGÚN NOMBRE PROPIO   \n",
       "1                                        El perro verde   \n",
       "2     Si no eres de comer mierda... no te comas esta...   \n",
       "3                                       Aida: The movie   \n",
       "4                  UN HOMBRE SOLO (Julio Iglesias 1987)   \n",
       "...                                                 ...   \n",
       "8598                                          magnífica   \n",
       "8599  Mucho bombo por ser española, pero es igual qu...   \n",
       "8600      ¿Quién me quita ahora este mal sabor de boca?   \n",
       "8601                                   La isla española   \n",
       "8602          Perdonen, pero no soy tan inteligente....   \n",
       "\n",
       "                                            review_text  \n",
       "0     La mayor virtud de esta película es su existen...  \n",
       "1     No soy un experto cinéfilo, pero pocas veces m...  \n",
       "2     Si no eres un incondicional del humor estilo T...  \n",
       "3     No sé qué está pasando, si la gente se deja ll...  \n",
       "4     \"Pero cuando amanece,y me quedo solo,siento en...  \n",
       "...                                                 ...  \n",
       "8598  Buena no, lo siguiente. Por fin un film serio ...  \n",
       "8599  Me esperaba mucho, pero que mucho, más.Guión m...  \n",
       "8600  De mal cuerpo como sensación al finalizar, de ...  \n",
       "8601  Los que han añadido comentarios os lo han dich...  \n",
       "8602  Fui a ver esta película de cine con entusiasmo...  \n",
       "\n",
       "[8603 rows x 6 columns]"
      ]
     },
     "execution_count": 4,
     "metadata": {},
     "output_type": "execute_result"
    }
   ],
   "source": [
    "df"
   ]
  },
  {
   "cell_type": "code",
   "execution_count": 5,
   "id": "f7b83356-af17-455c-9b13-7a34cc21881a",
   "metadata": {
    "tags": []
   },
   "outputs": [
    {
     "data": {
      "text/html": [
       "<div>\n",
       "<style scoped>\n",
       "    .dataframe tbody tr th:only-of-type {\n",
       "        vertical-align: middle;\n",
       "    }\n",
       "\n",
       "    .dataframe tbody tr th {\n",
       "        vertical-align: top;\n",
       "    }\n",
       "\n",
       "    .dataframe thead th {\n",
       "        text-align: right;\n",
       "    }\n",
       "</style>\n",
       "<table border=\"1\" class=\"dataframe\">\n",
       "  <thead>\n",
       "    <tr style=\"text-align: right;\">\n",
       "      <th></th>\n",
       "      <th>film_name</th>\n",
       "      <th>gender</th>\n",
       "      <th>film_avg_rate</th>\n",
       "      <th>review_rate</th>\n",
       "      <th>review_title</th>\n",
       "      <th>review_text</th>\n",
       "      <th>Comentario</th>\n",
       "    </tr>\n",
       "  </thead>\n",
       "  <tbody>\n",
       "    <tr>\n",
       "      <th>0</th>\n",
       "      <td>Ocho apellidos vascos</td>\n",
       "      <td>Comedia</td>\n",
       "      <td>6,0</td>\n",
       "      <td>3.0</td>\n",
       "      <td>OCHO APELLIDOS VASCOS...Y NINGÚN NOMBRE PROPIO</td>\n",
       "      <td>La mayor virtud de esta película es su existen...</td>\n",
       "      <td>negativo</td>\n",
       "    </tr>\n",
       "    <tr>\n",
       "      <th>1</th>\n",
       "      <td>Ocho apellidos vascos</td>\n",
       "      <td>Comedia</td>\n",
       "      <td>6,0</td>\n",
       "      <td>2.0</td>\n",
       "      <td>El perro verde</td>\n",
       "      <td>No soy un experto cinéfilo, pero pocas veces m...</td>\n",
       "      <td>negativo</td>\n",
       "    </tr>\n",
       "    <tr>\n",
       "      <th>2</th>\n",
       "      <td>Ocho apellidos vascos</td>\n",
       "      <td>Comedia</td>\n",
       "      <td>6,0</td>\n",
       "      <td>2.0</td>\n",
       "      <td>Si no eres de comer mierda... no te comas esta...</td>\n",
       "      <td>Si no eres un incondicional del humor estilo T...</td>\n",
       "      <td>negativo</td>\n",
       "    </tr>\n",
       "    <tr>\n",
       "      <th>3</th>\n",
       "      <td>Ocho apellidos vascos</td>\n",
       "      <td>Comedia</td>\n",
       "      <td>6,0</td>\n",
       "      <td>2.0</td>\n",
       "      <td>Aida: The movie</td>\n",
       "      <td>No sé qué está pasando, si la gente se deja ll...</td>\n",
       "      <td>negativo</td>\n",
       "    </tr>\n",
       "    <tr>\n",
       "      <th>4</th>\n",
       "      <td>Ocho apellidos vascos</td>\n",
       "      <td>Comedia</td>\n",
       "      <td>6,0</td>\n",
       "      <td>2.0</td>\n",
       "      <td>UN HOMBRE SOLO (Julio Iglesias 1987)</td>\n",
       "      <td>\"Pero cuando amanece,y me quedo solo,siento en...</td>\n",
       "      <td>negativo</td>\n",
       "    </tr>\n",
       "    <tr>\n",
       "      <th>...</th>\n",
       "      <td>...</td>\n",
       "      <td>...</td>\n",
       "      <td>...</td>\n",
       "      <td>...</td>\n",
       "      <td>...</td>\n",
       "      <td>...</td>\n",
       "      <td>...</td>\n",
       "    </tr>\n",
       "    <tr>\n",
       "      <th>8598</th>\n",
       "      <td>La isla mínima</td>\n",
       "      <td>Cine negro</td>\n",
       "      <td>7,2</td>\n",
       "      <td>10.0</td>\n",
       "      <td>magnífica</td>\n",
       "      <td>Buena no, lo siguiente. Por fin un film serio ...</td>\n",
       "      <td>positivo</td>\n",
       "    </tr>\n",
       "    <tr>\n",
       "      <th>8599</th>\n",
       "      <td>La isla mínima</td>\n",
       "      <td>Cine negro</td>\n",
       "      <td>7,2</td>\n",
       "      <td>3.0</td>\n",
       "      <td>Mucho bombo por ser española, pero es igual qu...</td>\n",
       "      <td>Me esperaba mucho, pero que mucho, más.Guión m...</td>\n",
       "      <td>negativo</td>\n",
       "    </tr>\n",
       "    <tr>\n",
       "      <th>8600</th>\n",
       "      <td>La isla mínima</td>\n",
       "      <td>Cine negro</td>\n",
       "      <td>7,2</td>\n",
       "      <td>4.0</td>\n",
       "      <td>¿Quién me quita ahora este mal sabor de boca?</td>\n",
       "      <td>De mal cuerpo como sensación al finalizar, de ...</td>\n",
       "      <td>negativo</td>\n",
       "    </tr>\n",
       "    <tr>\n",
       "      <th>8601</th>\n",
       "      <td>La isla mínima</td>\n",
       "      <td>Cine negro</td>\n",
       "      <td>7,2</td>\n",
       "      <td>1.0</td>\n",
       "      <td>La isla española</td>\n",
       "      <td>Los que han añadido comentarios os lo han dich...</td>\n",
       "      <td>negativo</td>\n",
       "    </tr>\n",
       "    <tr>\n",
       "      <th>8602</th>\n",
       "      <td>La isla mínima</td>\n",
       "      <td>Cine negro</td>\n",
       "      <td>7,2</td>\n",
       "      <td>2.0</td>\n",
       "      <td>Perdonen, pero no soy tan inteligente....</td>\n",
       "      <td>Fui a ver esta película de cine con entusiasmo...</td>\n",
       "      <td>negativo</td>\n",
       "    </tr>\n",
       "  </tbody>\n",
       "</table>\n",
       "<p>8603 rows × 7 columns</p>\n",
       "</div>"
      ],
      "text/plain": [
       "                  film_name      gender film_avg_rate  review_rate  \\\n",
       "0     Ocho apellidos vascos     Comedia           6,0          3.0   \n",
       "1     Ocho apellidos vascos     Comedia           6,0          2.0   \n",
       "2     Ocho apellidos vascos     Comedia           6,0          2.0   \n",
       "3     Ocho apellidos vascos     Comedia           6,0          2.0   \n",
       "4     Ocho apellidos vascos     Comedia           6,0          2.0   \n",
       "...                     ...         ...           ...          ...   \n",
       "8598         La isla mínima  Cine negro           7,2         10.0   \n",
       "8599         La isla mínima  Cine negro           7,2          3.0   \n",
       "8600         La isla mínima  Cine negro           7,2          4.0   \n",
       "8601         La isla mínima  Cine negro           7,2          1.0   \n",
       "8602         La isla mínima  Cine negro           7,2          2.0   \n",
       "\n",
       "                                           review_title  \\\n",
       "0        OCHO APELLIDOS VASCOS...Y NINGÚN NOMBRE PROPIO   \n",
       "1                                        El perro verde   \n",
       "2     Si no eres de comer mierda... no te comas esta...   \n",
       "3                                       Aida: The movie   \n",
       "4                  UN HOMBRE SOLO (Julio Iglesias 1987)   \n",
       "...                                                 ...   \n",
       "8598                                          magnífica   \n",
       "8599  Mucho bombo por ser española, pero es igual qu...   \n",
       "8600      ¿Quién me quita ahora este mal sabor de boca?   \n",
       "8601                                   La isla española   \n",
       "8602          Perdonen, pero no soy tan inteligente....   \n",
       "\n",
       "                                            review_text Comentario  \n",
       "0     La mayor virtud de esta película es su existen...   negativo  \n",
       "1     No soy un experto cinéfilo, pero pocas veces m...   negativo  \n",
       "2     Si no eres un incondicional del humor estilo T...   negativo  \n",
       "3     No sé qué está pasando, si la gente se deja ll...   negativo  \n",
       "4     \"Pero cuando amanece,y me quedo solo,siento en...   negativo  \n",
       "...                                                 ...        ...  \n",
       "8598  Buena no, lo siguiente. Por fin un film serio ...   positivo  \n",
       "8599  Me esperaba mucho, pero que mucho, más.Guión m...   negativo  \n",
       "8600  De mal cuerpo como sensación al finalizar, de ...   negativo  \n",
       "8601  Los que han añadido comentarios os lo han dich...   negativo  \n",
       "8602  Fui a ver esta película de cine con entusiasmo...   negativo  \n",
       "\n",
       "[8603 rows x 7 columns]"
      ]
     },
     "execution_count": 5,
     "metadata": {},
     "output_type": "execute_result"
    }
   ],
   "source": [
    "# Definir la función para asignar la categoría según el valor de review_rate\n",
    "def asignar_categoria(valor):\n",
    "    if valor <= 4:\n",
    "        return \"negativo\"\n",
    "    elif valor >= 5 and valor < 7:\n",
    "        return \"neutro\"\n",
    "    else:\n",
    "        return \"positivo\"\n",
    "\n",
    "# Aplicar la función a la columna review_rate para crear la nueva columna Comentario\n",
    "df['Comentario'] = df['review_rate'].apply(asignar_categoria)\n",
    "\n",
    "# Mostrar las primeras líneas del DataFrame con la nueva columna Comentario\n",
    "df"
   ]
  },
  {
   "cell_type": "code",
   "execution_count": 6,
   "id": "b0246211-b4a2-43a0-b920-c92071b4e7fa",
   "metadata": {},
   "outputs": [
    {
     "data": {
      "text/html": [
       "<div>\n",
       "<style scoped>\n",
       "    .dataframe tbody tr th:only-of-type {\n",
       "        vertical-align: middle;\n",
       "    }\n",
       "\n",
       "    .dataframe tbody tr th {\n",
       "        vertical-align: top;\n",
       "    }\n",
       "\n",
       "    .dataframe thead th {\n",
       "        text-align: right;\n",
       "    }\n",
       "</style>\n",
       "<table border=\"1\" class=\"dataframe\">\n",
       "  <thead>\n",
       "    <tr style=\"text-align: right;\">\n",
       "      <th></th>\n",
       "      <th>Comentario</th>\n",
       "      <th>review_text</th>\n",
       "    </tr>\n",
       "  </thead>\n",
       "  <tbody>\n",
       "    <tr>\n",
       "      <th>0</th>\n",
       "      <td>negativo</td>\n",
       "      <td>La mayor virtud de esta película es su existen...</td>\n",
       "    </tr>\n",
       "    <tr>\n",
       "      <th>1</th>\n",
       "      <td>negativo</td>\n",
       "      <td>No soy un experto cinéfilo, pero pocas veces m...</td>\n",
       "    </tr>\n",
       "    <tr>\n",
       "      <th>2</th>\n",
       "      <td>negativo</td>\n",
       "      <td>Si no eres un incondicional del humor estilo T...</td>\n",
       "    </tr>\n",
       "    <tr>\n",
       "      <th>3</th>\n",
       "      <td>negativo</td>\n",
       "      <td>No sé qué está pasando, si la gente se deja ll...</td>\n",
       "    </tr>\n",
       "    <tr>\n",
       "      <th>4</th>\n",
       "      <td>negativo</td>\n",
       "      <td>\"Pero cuando amanece,y me quedo solo,siento en...</td>\n",
       "    </tr>\n",
       "    <tr>\n",
       "      <th>...</th>\n",
       "      <td>...</td>\n",
       "      <td>...</td>\n",
       "    </tr>\n",
       "    <tr>\n",
       "      <th>8598</th>\n",
       "      <td>positivo</td>\n",
       "      <td>Buena no, lo siguiente. Por fin un film serio ...</td>\n",
       "    </tr>\n",
       "    <tr>\n",
       "      <th>8599</th>\n",
       "      <td>negativo</td>\n",
       "      <td>Me esperaba mucho, pero que mucho, más.Guión m...</td>\n",
       "    </tr>\n",
       "    <tr>\n",
       "      <th>8600</th>\n",
       "      <td>negativo</td>\n",
       "      <td>De mal cuerpo como sensación al finalizar, de ...</td>\n",
       "    </tr>\n",
       "    <tr>\n",
       "      <th>8601</th>\n",
       "      <td>negativo</td>\n",
       "      <td>Los que han añadido comentarios os lo han dich...</td>\n",
       "    </tr>\n",
       "    <tr>\n",
       "      <th>8602</th>\n",
       "      <td>negativo</td>\n",
       "      <td>Fui a ver esta película de cine con entusiasmo...</td>\n",
       "    </tr>\n",
       "  </tbody>\n",
       "</table>\n",
       "<p>8603 rows × 2 columns</p>\n",
       "</div>"
      ],
      "text/plain": [
       "     Comentario                                        review_text\n",
       "0      negativo  La mayor virtud de esta película es su existen...\n",
       "1      negativo  No soy un experto cinéfilo, pero pocas veces m...\n",
       "2      negativo  Si no eres un incondicional del humor estilo T...\n",
       "3      negativo  No sé qué está pasando, si la gente se deja ll...\n",
       "4      negativo  \"Pero cuando amanece,y me quedo solo,siento en...\n",
       "...         ...                                                ...\n",
       "8598   positivo  Buena no, lo siguiente. Por fin un film serio ...\n",
       "8599   negativo  Me esperaba mucho, pero que mucho, más.Guión m...\n",
       "8600   negativo  De mal cuerpo como sensación al finalizar, de ...\n",
       "8601   negativo  Los que han añadido comentarios os lo han dich...\n",
       "8602   negativo  Fui a ver esta película de cine con entusiasmo...\n",
       "\n",
       "[8603 rows x 2 columns]"
      ]
     },
     "execution_count": 6,
     "metadata": {},
     "output_type": "execute_result"
    }
   ],
   "source": [
    "df = df[['Comentario', 'review_text']]\n",
    "df"
   ]
  },
  {
   "cell_type": "code",
   "execution_count": 7,
   "id": "4719a9b7-4564-4cfd-a6b6-38af34434805",
   "metadata": {
    "tags": []
   },
   "outputs": [
    {
     "data": {
      "text/plain": [
       "<Axes: >"
      ]
     },
     "execution_count": 7,
     "metadata": {},
     "output_type": "execute_result"
    },
    {
     "data": {
      "image/png": "[encoded data removed]",
      "text/plain": [
       "<Figure size 640x480 with 1 Axes>"
      ]
     },
     "metadata": {},
     "output_type": "display_data"
    }
   ],
   "source": [
    "df['Comentario'].hist()"
   ]
  },
  {
   "cell_type": "code",
   "execution_count": 8,
   "id": "0766243a-81c7-47ba-b0c7-6e3e29ee8614",
   "metadata": {
    "tags": []
   },
   "outputs": [],
   "source": [
    "# Descartamos los neutros para el ejercicio\n",
    "df = df[df['Comentario'] != 'neutro'].copy()"
   ]
  },
  {
   "cell_type": "code",
   "execution_count": 20,
   "id": "d5fdbc85-f95a-437b-bac0-f57630323084",
   "metadata": {
    "tags": []
   },
   "outputs": [],
   "source": [
    "target_map = {'positivo': 1, 'negativo': 0}\n",
    "df['objetivo'] = df['Comentario'].map(target_map)"
   ]
  },
  {
   "cell_type": "code",
   "execution_count": 22,
   "id": "5a3ab341-e42d-40d3-8f33-614e93f51ad2",
   "metadata": {
    "tags": []
   },
   "outputs": [
    {
     "data": {
      "text/html": [
       "<div>\n",
       "<style scoped>\n",
       "    .dataframe tbody tr th:only-of-type {\n",
       "        vertical-align: middle;\n",
       "    }\n",
       "\n",
       "    .dataframe tbody tr th {\n",
       "        vertical-align: top;\n",
       "    }\n",
       "\n",
       "    .dataframe thead th {\n",
       "        text-align: right;\n",
       "    }\n",
       "</style>\n",
       "<table border=\"1\" class=\"dataframe\">\n",
       "  <thead>\n",
       "    <tr style=\"text-align: right;\">\n",
       "      <th></th>\n",
       "      <th>Comentario</th>\n",
       "      <th>review_text</th>\n",
       "      <th>objetivo</th>\n",
       "    </tr>\n",
       "  </thead>\n",
       "  <tbody>\n",
       "    <tr>\n",
       "      <th>0</th>\n",
       "      <td>negativo</td>\n",
       "      <td>La mayor virtud de esta película es su existen...</td>\n",
       "      <td>0</td>\n",
       "    </tr>\n",
       "    <tr>\n",
       "      <th>1</th>\n",
       "      <td>negativo</td>\n",
       "      <td>No soy un experto cinéfilo, pero pocas veces m...</td>\n",
       "      <td>0</td>\n",
       "    </tr>\n",
       "    <tr>\n",
       "      <th>2</th>\n",
       "      <td>negativo</td>\n",
       "      <td>Si no eres un incondicional del humor estilo T...</td>\n",
       "      <td>0</td>\n",
       "    </tr>\n",
       "    <tr>\n",
       "      <th>3</th>\n",
       "      <td>negativo</td>\n",
       "      <td>No sé qué está pasando, si la gente se deja ll...</td>\n",
       "      <td>0</td>\n",
       "    </tr>\n",
       "    <tr>\n",
       "      <th>4</th>\n",
       "      <td>negativo</td>\n",
       "      <td>\"Pero cuando amanece,y me quedo solo,siento en...</td>\n",
       "      <td>0</td>\n",
       "    </tr>\n",
       "    <tr>\n",
       "      <th>5</th>\n",
       "      <td>positivo</td>\n",
       "      <td>La llegada de Rafa a Euskadi es como ponerse a...</td>\n",
       "      <td>1</td>\n",
       "    </tr>\n",
       "    <tr>\n",
       "      <th>6</th>\n",
       "      <td>negativo</td>\n",
       "      <td>El nivel del cine y lo peor la capacidad intel...</td>\n",
       "      <td>0</td>\n",
       "    </tr>\n",
       "    <tr>\n",
       "      <th>7</th>\n",
       "      <td>negativo</td>\n",
       "      <td>Es triste ver una película como ésta y escucha...</td>\n",
       "      <td>0</td>\n",
       "    </tr>\n",
       "    <tr>\n",
       "      <th>8</th>\n",
       "      <td>negativo</td>\n",
       "      <td>Puedo entender que Torrente I y II y Lo imposi...</td>\n",
       "      <td>0</td>\n",
       "    </tr>\n",
       "    <tr>\n",
       "      <th>9</th>\n",
       "      <td>negativo</td>\n",
       "      <td>-Ahivalohostia, Txomin, qué montón de gente ri...</td>\n",
       "      <td>0</td>\n",
       "    </tr>\n",
       "  </tbody>\n",
       "</table>\n",
       "</div>"
      ],
      "text/plain": [
       "  Comentario                                        review_text  objetivo\n",
       "0   negativo  La mayor virtud de esta película es su existen...         0\n",
       "1   negativo  No soy un experto cinéfilo, pero pocas veces m...         0\n",
       "2   negativo  Si no eres un incondicional del humor estilo T...         0\n",
       "3   negativo  No sé qué está pasando, si la gente se deja ll...         0\n",
       "4   negativo  \"Pero cuando amanece,y me quedo solo,siento en...         0\n",
       "5   positivo  La llegada de Rafa a Euskadi es como ponerse a...         1\n",
       "6   negativo  El nivel del cine y lo peor la capacidad intel...         0\n",
       "7   negativo  Es triste ver una película como ésta y escucha...         0\n",
       "8   negativo  Puedo entender que Torrente I y II y Lo imposi...         0\n",
       "9   negativo  -Ahivalohostia, Txomin, qué montón de gente ri...         0"
      ]
     },
     "execution_count": 22,
     "metadata": {},
     "output_type": "execute_result"
    }
   ],
   "source": [
    "df.head(10)"
   ]
  },
  {
   "cell_type": "code",
   "execution_count": 24,
   "id": "dc445056-18aa-491b-9e74-9e8ec74d37c0",
   "metadata": {
    "tags": []
   },
   "outputs": [],
   "source": [
    "df_train, df_test = train_test_split(df, random_state= 42)"
   ]
  },
  {
   "cell_type": "code",
   "execution_count": 26,
   "id": "c1733adf-c73c-450d-b0a8-82568b2b2d6d",
   "metadata": {
    "tags": []
   },
   "outputs": [],
   "source": [
    "vectorizer = TfidfVectorizer(max_features=2000)\n",
    "X_train = vectorizer.fit_transform(df_train['review_text'])\n",
    "X_test = vectorizer.fit_transform(df_test['review_text'])"
   ]
  },
  {
   "cell_type": "code",
   "execution_count": 28,
   "id": "e5739e0f-851d-4e2e-8f54-eff63e618b62",
   "metadata": {
    "tags": []
   },
   "outputs": [],
   "source": [
    "X_train = X_train.toarray()\n",
    "X_test = X_test.toarray()"
   ]
  },
  {
   "cell_type": "code",
   "execution_count": 30,
   "id": "b14ba8d4-a82a-4bc6-8421-b8079d72e491",
   "metadata": {
    "tags": []
   },
   "outputs": [],
   "source": [
    "Y_train = df_train['objetivo']\n",
    "Y_test = df_test['objetivo']"
   ]
  },
  {
   "cell_type": "code",
   "execution_count": 32,
   "id": "1d078b67-b0cd-46d4-84a4-b6a686b2e2a4",
   "metadata": {
    "tags": []
   },
   "outputs": [],
   "source": [
    "D = X_train.shape[1]"
   ]
  },
  {
   "cell_type": "code",
   "execution_count": 34,
   "id": "e2ad7897-cd06-4779-8cda-5f6b8fe2545b",
   "metadata": {
    "tags": []
   },
   "outputs": [
    {
     "data": {
      "text/plain": [
       "2000"
      ]
     },
     "execution_count": 34,
     "metadata": {},
     "output_type": "execute_result"
    }
   ],
   "source": [
    "D"
   ]
  },
  {
   "cell_type": "code",
   "execution_count": 36,
   "id": "93ff0b4b-0faa-46d5-bb8f-ad5bbb794370",
   "metadata": {
    "tags": []
   },
   "outputs": [],
   "source": [
    "i = Input(shape=(D,))\n",
    "x = Dense(1)(i) # sigmoid included in loss\n",
    "\n",
    "model = Model(i, x)"
   ]
  },
  {
   "cell_type": "code",
   "execution_count": 38,
   "id": "164d7a4e-773c-4da8-9477-fdd74addf86b",
   "metadata": {
    "tags": []
   },
   "outputs": [
    {
     "name": "stdout",
     "output_type": "stream",
     "text": [
      "Model: \"model\"\n",
      "_________________________________________________________________\n",
      " Layer (type)                Output Shape              Param #   \n",
      "=================================================================\n",
      " input_1 (InputLayer)        [(None, 2000)]            0         \n",
      "                                                                 \n",
      " dense (Dense)               (None, 1)                 2001      \n",
      "                                                                 \n",
      "=================================================================\n",
      "Total params: 2001 (7.82 KB)\n",
      "Trainable params: 2001 (7.82 KB)\n",
      "Non-trainable params: 0 (0.00 Byte)\n",
      "_________________________________________________________________\n"
     ]
    }
   ],
   "source": [
    "model.summary()"
   ]
  },
  {
   "cell_type": "code",
   "execution_count": 40,
   "id": "b9c42f72-e2ea-43a0-acac-79646fc98a6f",
   "metadata": {
    "tags": []
   },
   "outputs": [],
   "source": [
    "model.compile(\n",
    "    loss = BinaryCrossentropy(from_logits=True),\n",
    "    optimizer = Adam(learning_rate=0.01),\n",
    "    metrics=['accuracy']\n",
    ")"
   ]
  },
  {
   "cell_type": "code",
   "execution_count": 44,
   "id": "d1a6daa9-e3c9-41bb-8ff6-8b4684bc5863",
   "metadata": {
    "tags": []
   },
   "outputs": [
    {
     "name": "stdout",
     "output_type": "stream",
     "text": [
      "Epoch 1/100\n",
      "38/38 [==============================] - 1s 8ms/step - loss: 0.6266 - accuracy: 0.6606 - val_loss: 0.6625 - val_accuracy: 0.4545\n",
      "Epoch 2/100\n",
      "38/38 [==============================] - 0s 4ms/step - loss: 0.5350 - accuracy: 0.7942 - val_loss: 0.6591 - val_accuracy: 0.5355\n",
      "Epoch 3/100\n",
      "38/38 [==============================] - 0s 4ms/step - loss: 0.4761 - accuracy: 0.8375 - val_loss: 0.6598 - val_accuracy: 0.5675\n",
      "Epoch 4/100\n",
      "38/38 [==============================] - 0s 4ms/step - loss: 0.4336 - accuracy: 0.8499 - val_loss: 0.6620 - val_accuracy: 0.5593\n",
      "Epoch 5/100\n",
      "38/38 [==============================] - 0s 4ms/step - loss: 0.4020 - accuracy: 0.8576 - val_loss: 0.6653 - val_accuracy: 0.5631\n",
      "Epoch 6/100\n",
      "38/38 [==============================] - 0s 5ms/step - loss: 0.3765 - accuracy: 0.8685 - val_loss: 0.6702 - val_accuracy: 0.5813\n",
      "Epoch 7/100\n",
      "38/38 [==============================] - 0s 4ms/step - loss: 0.3556 - accuracy: 0.8754 - val_loss: 0.6767 - val_accuracy: 0.5976\n",
      "Epoch 8/100\n",
      "38/38 [==============================] - 0s 4ms/step - loss: 0.3381 - accuracy: 0.8821 - val_loss: 0.6807 - val_accuracy: 0.5838\n",
      "Epoch 9/100\n",
      "38/38 [==============================] - 0s 4ms/step - loss: 0.3236 - accuracy: 0.8842 - val_loss: 0.6864 - val_accuracy: 0.5957\n",
      "Epoch 10/100\n",
      "38/38 [==============================] - 0s 4ms/step - loss: 0.3103 - accuracy: 0.8897 - val_loss: 0.6933 - val_accuracy: 0.5970\n",
      "Epoch 11/100\n",
      "38/38 [==============================] - 0s 4ms/step - loss: 0.2986 - accuracy: 0.8949 - val_loss: 0.6985 - val_accuracy: 0.5926\n",
      "Epoch 12/100\n",
      "38/38 [==============================] - 0s 4ms/step - loss: 0.2884 - accuracy: 0.8999 - val_loss: 0.7060 - val_accuracy: 0.5951\n",
      "Epoch 13/100\n",
      "38/38 [==============================] - 0s 4ms/step - loss: 0.2796 - accuracy: 0.9018 - val_loss: 0.7131 - val_accuracy: 0.5895\n",
      "Epoch 14/100\n",
      "38/38 [==============================] - 0s 4ms/step - loss: 0.2710 - accuracy: 0.9079 - val_loss: 0.7164 - val_accuracy: 0.5907\n",
      "Epoch 15/100\n",
      "38/38 [==============================] - 0s 4ms/step - loss: 0.2634 - accuracy: 0.9093 - val_loss: 0.7254 - val_accuracy: 0.5913\n",
      "Epoch 16/100\n",
      "38/38 [==============================] - 0s 5ms/step - loss: 0.2563 - accuracy: 0.9119 - val_loss: 0.7287 - val_accuracy: 0.5951\n",
      "Epoch 17/100\n",
      "38/38 [==============================] - 0s 5ms/step - loss: 0.2498 - accuracy: 0.9121 - val_loss: 0.7403 - val_accuracy: 0.5951\n",
      "Epoch 18/100\n",
      "38/38 [==============================] - 0s 5ms/step - loss: 0.2440 - accuracy: 0.9169 - val_loss: 0.7472 - val_accuracy: 0.5957\n",
      "Epoch 19/100\n",
      "38/38 [==============================] - 0s 5ms/step - loss: 0.2385 - accuracy: 0.9190 - val_loss: 0.7476 - val_accuracy: 0.5951\n",
      "Epoch 20/100\n",
      "38/38 [==============================] - 0s 4ms/step - loss: 0.2330 - accuracy: 0.9202 - val_loss: 0.7576 - val_accuracy: 0.5964\n",
      "Epoch 21/100\n",
      "38/38 [==============================] - 0s 4ms/step - loss: 0.2282 - accuracy: 0.9209 - val_loss: 0.7676 - val_accuracy: 0.5957\n",
      "Epoch 22/100\n",
      "38/38 [==============================] - 0s 4ms/step - loss: 0.2235 - accuracy: 0.9240 - val_loss: 0.7679 - val_accuracy: 0.5989\n",
      "Epoch 23/100\n",
      "38/38 [==============================] - 0s 4ms/step - loss: 0.2194 - accuracy: 0.9255 - val_loss: 0.7776 - val_accuracy: 0.5945\n",
      "Epoch 24/100\n",
      "38/38 [==============================] - 0s 5ms/step - loss: 0.2151 - accuracy: 0.9263 - val_loss: 0.7837 - val_accuracy: 0.5951\n",
      "Epoch 25/100\n",
      "38/38 [==============================] - 0s 5ms/step - loss: 0.2112 - accuracy: 0.9294 - val_loss: 0.7871 - val_accuracy: 0.5957\n",
      "Epoch 26/100\n",
      "38/38 [==============================] - 0s 5ms/step - loss: 0.2077 - accuracy: 0.9309 - val_loss: 0.7890 - val_accuracy: 0.5976\n",
      "Epoch 27/100\n",
      "38/38 [==============================] - 0s 6ms/step - loss: 0.2045 - accuracy: 0.9278 - val_loss: 0.8064 - val_accuracy: 0.5945\n",
      "Epoch 28/100\n",
      "38/38 [==============================] - 0s 5ms/step - loss: 0.2006 - accuracy: 0.9320 - val_loss: 0.8078 - val_accuracy: 0.5951\n",
      "Epoch 29/100\n",
      "38/38 [==============================] - 0s 5ms/step - loss: 0.1974 - accuracy: 0.9336 - val_loss: 0.8134 - val_accuracy: 0.5951\n",
      "Epoch 30/100\n",
      "38/38 [==============================] - 0s 6ms/step - loss: 0.1947 - accuracy: 0.9351 - val_loss: 0.8211 - val_accuracy: 0.5951\n",
      "Epoch 31/100\n",
      "38/38 [==============================] - 0s 5ms/step - loss: 0.1913 - accuracy: 0.9334 - val_loss: 0.8292 - val_accuracy: 0.5970\n",
      "Epoch 32/100\n",
      "38/38 [==============================] - 0s 5ms/step - loss: 0.1889 - accuracy: 0.9384 - val_loss: 0.8358 - val_accuracy: 0.5995\n",
      "Epoch 33/100\n",
      "38/38 [==============================] - 0s 5ms/step - loss: 0.1858 - accuracy: 0.9372 - val_loss: 0.8397 - val_accuracy: 0.5970\n",
      "Epoch 34/100\n",
      "38/38 [==============================] - 0s 4ms/step - loss: 0.1832 - accuracy: 0.9407 - val_loss: 0.8423 - val_accuracy: 0.5982\n",
      "Epoch 35/100\n",
      "38/38 [==============================] - 0s 4ms/step - loss: 0.1805 - accuracy: 0.9418 - val_loss: 0.8468 - val_accuracy: 0.5989\n",
      "Epoch 36/100\n",
      "38/38 [==============================] - 0s 5ms/step - loss: 0.1781 - accuracy: 0.9435 - val_loss: 0.8569 - val_accuracy: 0.5976\n",
      "Epoch 37/100\n",
      "38/38 [==============================] - 0s 5ms/step - loss: 0.1757 - accuracy: 0.9441 - val_loss: 0.8625 - val_accuracy: 0.5976\n",
      "Epoch 38/100\n",
      "38/38 [==============================] - 0s 4ms/step - loss: 0.1735 - accuracy: 0.9449 - val_loss: 0.8667 - val_accuracy: 0.5964\n",
      "Epoch 39/100\n",
      "38/38 [==============================] - 0s 5ms/step - loss: 0.1713 - accuracy: 0.9479 - val_loss: 0.8737 - val_accuracy: 0.5964\n",
      "Epoch 40/100\n",
      "38/38 [==============================] - 0s 5ms/step - loss: 0.1693 - accuracy: 0.9470 - val_loss: 0.8775 - val_accuracy: 0.5957\n",
      "Epoch 41/100\n",
      "38/38 [==============================] - 0s 4ms/step - loss: 0.1672 - accuracy: 0.9477 - val_loss: 0.8834 - val_accuracy: 0.5970\n",
      "Epoch 42/100\n",
      "38/38 [==============================] - 0s 4ms/step - loss: 0.1650 - accuracy: 0.9470 - val_loss: 0.8993 - val_accuracy: 0.5976\n",
      "Epoch 43/100\n",
      "38/38 [==============================] - 0s 4ms/step - loss: 0.1629 - accuracy: 0.9510 - val_loss: 0.8923 - val_accuracy: 0.5913\n",
      "Epoch 44/100\n",
      "38/38 [==============================] - 0s 4ms/step - loss: 0.1613 - accuracy: 0.9514 - val_loss: 0.9035 - val_accuracy: 0.5970\n",
      "Epoch 45/100\n",
      "38/38 [==============================] - 0s 4ms/step - loss: 0.1594 - accuracy: 0.9504 - val_loss: 0.9096 - val_accuracy: 0.5976\n",
      "Epoch 46/100\n",
      "38/38 [==============================] - 0s 5ms/step - loss: 0.1574 - accuracy: 0.9523 - val_loss: 0.9189 - val_accuracy: 0.5970\n",
      "Epoch 47/100\n",
      "38/38 [==============================] - 0s 4ms/step - loss: 0.1556 - accuracy: 0.9537 - val_loss: 0.9228 - val_accuracy: 0.5951\n",
      "Epoch 48/100\n",
      "38/38 [==============================] - 0s 4ms/step - loss: 0.1538 - accuracy: 0.9529 - val_loss: 0.9336 - val_accuracy: 0.5970\n",
      "Epoch 49/100\n",
      "38/38 [==============================] - 0s 4ms/step - loss: 0.1522 - accuracy: 0.9550 - val_loss: 0.9337 - val_accuracy: 0.5926\n",
      "Epoch 50/100\n",
      "38/38 [==============================] - 0s 4ms/step - loss: 0.1507 - accuracy: 0.9541 - val_loss: 0.9408 - val_accuracy: 0.5920\n",
      "Epoch 51/100\n",
      "38/38 [==============================] - 0s 6ms/step - loss: 0.1491 - accuracy: 0.9562 - val_loss: 0.9466 - val_accuracy: 0.5913\n",
      "Epoch 52/100\n",
      "38/38 [==============================] - 0s 4ms/step - loss: 0.1473 - accuracy: 0.9556 - val_loss: 0.9559 - val_accuracy: 0.5907\n",
      "Epoch 53/100\n",
      "38/38 [==============================] - 0s 4ms/step - loss: 0.1461 - accuracy: 0.9569 - val_loss: 0.9594 - val_accuracy: 0.5888\n",
      "Epoch 54/100\n",
      "38/38 [==============================] - 0s 4ms/step - loss: 0.1447 - accuracy: 0.9564 - val_loss: 0.9672 - val_accuracy: 0.5888\n",
      "Epoch 55/100\n",
      "38/38 [==============================] - 0s 4ms/step - loss: 0.1430 - accuracy: 0.9573 - val_loss: 0.9719 - val_accuracy: 0.5901\n",
      "Epoch 56/100\n",
      "38/38 [==============================] - 0s 4ms/step - loss: 0.1416 - accuracy: 0.9588 - val_loss: 0.9765 - val_accuracy: 0.5895\n",
      "Epoch 57/100\n",
      "38/38 [==============================] - 0s 4ms/step - loss: 0.1402 - accuracy: 0.9583 - val_loss: 0.9807 - val_accuracy: 0.5882\n",
      "Epoch 58/100\n",
      "38/38 [==============================] - 0s 4ms/step - loss: 0.1387 - accuracy: 0.9598 - val_loss: 0.9902 - val_accuracy: 0.5876\n",
      "Epoch 59/100\n",
      "38/38 [==============================] - 0s 4ms/step - loss: 0.1375 - accuracy: 0.9611 - val_loss: 0.9961 - val_accuracy: 0.5888\n",
      "Epoch 60/100\n",
      "38/38 [==============================] - 0s 4ms/step - loss: 0.1361 - accuracy: 0.9602 - val_loss: 1.0007 - val_accuracy: 0.5876\n",
      "Epoch 61/100\n",
      "38/38 [==============================] - 0s 4ms/step - loss: 0.1351 - accuracy: 0.9615 - val_loss: 1.0117 - val_accuracy: 0.5913\n",
      "Epoch 62/100\n",
      "38/38 [==============================] - 0s 4ms/step - loss: 0.1334 - accuracy: 0.9619 - val_loss: 1.0092 - val_accuracy: 0.5876\n",
      "Epoch 63/100\n",
      "38/38 [==============================] - 0s 4ms/step - loss: 0.1325 - accuracy: 0.9621 - val_loss: 1.0137 - val_accuracy: 0.5901\n",
      "Epoch 64/100\n",
      "38/38 [==============================] - 0s 4ms/step - loss: 0.1312 - accuracy: 0.9627 - val_loss: 1.0173 - val_accuracy: 0.5869\n",
      "Epoch 65/100\n",
      "38/38 [==============================] - 0s 4ms/step - loss: 0.1300 - accuracy: 0.9638 - val_loss: 1.0228 - val_accuracy: 0.5895\n",
      "Epoch 66/100\n",
      "38/38 [==============================] - 0s 4ms/step - loss: 0.1287 - accuracy: 0.9640 - val_loss: 1.0322 - val_accuracy: 0.5895\n",
      "Epoch 67/100\n",
      "38/38 [==============================] - 0s 4ms/step - loss: 0.1277 - accuracy: 0.9634 - val_loss: 1.0347 - val_accuracy: 0.5888\n",
      "Epoch 68/100\n",
      "38/38 [==============================] - 0s 4ms/step - loss: 0.1264 - accuracy: 0.9642 - val_loss: 1.0440 - val_accuracy: 0.5888\n",
      "Epoch 69/100\n",
      "38/38 [==============================] - 0s 4ms/step - loss: 0.1253 - accuracy: 0.9669 - val_loss: 1.0463 - val_accuracy: 0.5888\n",
      "Epoch 70/100\n",
      "38/38 [==============================] - 0s 4ms/step - loss: 0.1243 - accuracy: 0.9646 - val_loss: 1.0598 - val_accuracy: 0.5857\n",
      "Epoch 71/100\n",
      "38/38 [==============================] - 0s 5ms/step - loss: 0.1232 - accuracy: 0.9673 - val_loss: 1.0573 - val_accuracy: 0.5901\n",
      "Epoch 72/100\n",
      "38/38 [==============================] - 0s 4ms/step - loss: 0.1221 - accuracy: 0.9665 - val_loss: 1.0639 - val_accuracy: 0.5907\n",
      "Epoch 73/100\n",
      "38/38 [==============================] - 0s 4ms/step - loss: 0.1210 - accuracy: 0.9671 - val_loss: 1.0749 - val_accuracy: 0.5876\n",
      "Epoch 74/100\n",
      "38/38 [==============================] - 0s 4ms/step - loss: 0.1200 - accuracy: 0.9680 - val_loss: 1.0768 - val_accuracy: 0.5888\n",
      "Epoch 75/100\n",
      "38/38 [==============================] - 0s 4ms/step - loss: 0.1191 - accuracy: 0.9686 - val_loss: 1.0812 - val_accuracy: 0.5876\n",
      "Epoch 76/100\n",
      "38/38 [==============================] - 0s 4ms/step - loss: 0.1180 - accuracy: 0.9688 - val_loss: 1.0859 - val_accuracy: 0.5869\n",
      "Epoch 77/100\n",
      "38/38 [==============================] - 0s 4ms/step - loss: 0.1172 - accuracy: 0.9680 - val_loss: 1.0948 - val_accuracy: 0.5888\n",
      "Epoch 78/100\n",
      "38/38 [==============================] - 0s 4ms/step - loss: 0.1160 - accuracy: 0.9692 - val_loss: 1.0985 - val_accuracy: 0.5876\n",
      "Epoch 79/100\n",
      "38/38 [==============================] - 0s 4ms/step - loss: 0.1152 - accuracy: 0.9703 - val_loss: 1.1048 - val_accuracy: 0.5895\n",
      "Epoch 80/100\n",
      "38/38 [==============================] - 0s 4ms/step - loss: 0.1143 - accuracy: 0.9686 - val_loss: 1.1136 - val_accuracy: 0.5901\n",
      "Epoch 81/100\n",
      "38/38 [==============================] - 0s 4ms/step - loss: 0.1133 - accuracy: 0.9707 - val_loss: 1.1178 - val_accuracy: 0.5888\n",
      "Epoch 82/100\n",
      "38/38 [==============================] - 0s 5ms/step - loss: 0.1124 - accuracy: 0.9732 - val_loss: 1.1179 - val_accuracy: 0.5882\n",
      "Epoch 83/100\n",
      "38/38 [==============================] - 0s 4ms/step - loss: 0.1115 - accuracy: 0.9698 - val_loss: 1.1276 - val_accuracy: 0.5869\n",
      "Epoch 84/100\n",
      "38/38 [==============================] - 0s 4ms/step - loss: 0.1107 - accuracy: 0.9719 - val_loss: 1.1361 - val_accuracy: 0.5888\n",
      "Epoch 85/100\n",
      "38/38 [==============================] - 0s 4ms/step - loss: 0.1096 - accuracy: 0.9732 - val_loss: 1.1351 - val_accuracy: 0.5876\n",
      "Epoch 86/100\n",
      "38/38 [==============================] - 0s 4ms/step - loss: 0.1090 - accuracy: 0.9709 - val_loss: 1.1443 - val_accuracy: 0.5876\n",
      "Epoch 87/100\n",
      "38/38 [==============================] - 0s 4ms/step - loss: 0.1080 - accuracy: 0.9728 - val_loss: 1.1492 - val_accuracy: 0.5888\n",
      "Epoch 88/100\n",
      "38/38 [==============================] - 0s 4ms/step - loss: 0.1072 - accuracy: 0.9734 - val_loss: 1.1504 - val_accuracy: 0.5882\n",
      "Epoch 89/100\n",
      "38/38 [==============================] - 0s 4ms/step - loss: 0.1064 - accuracy: 0.9734 - val_loss: 1.1602 - val_accuracy: 0.5882\n",
      "Epoch 90/100\n",
      "38/38 [==============================] - 0s 4ms/step - loss: 0.1056 - accuracy: 0.9732 - val_loss: 1.1683 - val_accuracy: 0.5876\n",
      "Epoch 91/100\n",
      "38/38 [==============================] - 0s 4ms/step - loss: 0.1048 - accuracy: 0.9736 - val_loss: 1.1722 - val_accuracy: 0.5895\n",
      "Epoch 92/100\n",
      "38/38 [==============================] - 0s 4ms/step - loss: 0.1041 - accuracy: 0.9755 - val_loss: 1.1759 - val_accuracy: 0.5888\n",
      "Epoch 93/100\n",
      "38/38 [==============================] - 0s 4ms/step - loss: 0.1031 - accuracy: 0.9738 - val_loss: 1.1822 - val_accuracy: 0.5888\n",
      "Epoch 94/100\n",
      "38/38 [==============================] - 0s 4ms/step - loss: 0.1024 - accuracy: 0.9742 - val_loss: 1.1891 - val_accuracy: 0.5876\n",
      "Epoch 95/100\n",
      "38/38 [==============================] - 0s 4ms/step - loss: 0.1019 - accuracy: 0.9757 - val_loss: 1.1913 - val_accuracy: 0.5888\n",
      "Epoch 96/100\n",
      "38/38 [==============================] - 0s 4ms/step - loss: 0.1010 - accuracy: 0.9759 - val_loss: 1.2011 - val_accuracy: 0.5882\n",
      "Epoch 97/100\n",
      "38/38 [==============================] - 0s 4ms/step - loss: 0.1003 - accuracy: 0.9761 - val_loss: 1.1977 - val_accuracy: 0.5882\n",
      "Epoch 98/100\n",
      "38/38 [==============================] - 0s 4ms/step - loss: 0.0995 - accuracy: 0.9763 - val_loss: 1.2053 - val_accuracy: 0.5888\n",
      "Epoch 99/100\n",
      "38/38 [==============================] - 0s 4ms/step - loss: 0.0988 - accuracy: 0.9753 - val_loss: 1.2158 - val_accuracy: 0.5895\n",
      "Epoch 100/100\n",
      "38/38 [==============================] - 0s 4ms/step - loss: 0.0980 - accuracy: 0.9776 - val_loss: 1.2135 - val_accuracy: 0.5882\n"
     ]
    }
   ],
   "source": [
    "r = model.fit(\n",
    "    X_train, Y_train,\n",
    "    validation_data=(X_test, Y_test),\n",
    "    epochs= 100,\n",
    "    batch_size=128,\n",
    ")"
   ]
  },
  {
   "cell_type": "code",
   "execution_count": 46,
   "id": "036c4b6b-dcc8-496d-a79e-e6f8f5b14ace",
   "metadata": {
    "tags": []
   },
   "outputs": [
    {
     "name": "stdout",
     "output_type": "stream",
     "text": [
      "150/150 [==============================] - 0s 2ms/step\n",
      "50/50 [==============================] - 0s 2ms/step\n"
     ]
    }
   ],
   "source": [
    "P_train = ((model.predict(X_train) > 0) * 1.0).flatten()\n",
    "P_test = ((model.predict(X_test) > 0) * 1.0).flatten()"
   ]
  },
  {
   "cell_type": "code",
   "execution_count": 48,
   "id": "af9de89a-a65d-4e33-9a3f-5011dc49152b",
   "metadata": {
    "tags": []
   },
   "outputs": [
    {
     "data": {
      "text/plain": [
       "array([[0.9776323 , 0.0223677 ],\n",
       "       [0.01427115, 0.98572885]])"
      ]
     },
     "execution_count": 48,
     "metadata": {},
     "output_type": "execute_result"
    }
   ],
   "source": [
    "cm_train = confusion_matrix(Y_train, P_train, normalize = 'true')\n",
    "cm_train"
   ]
  },
  {
   "cell_type": "code",
   "execution_count": 52,
   "id": "b7cab5cb-acea-404c-bea3-28b0cef98e16",
   "metadata": {
    "tags": []
   },
   "outputs": [
    {
     "data": {
      "image/png": "[encoded data removed]",
      "text/plain": [
       "<Figure size 640x480 with 2 Axes>"
      ]
     },
     "metadata": {},
     "output_type": "display_data"
    }
   ],
   "source": [
    "def plot_cm(cm):\n",
    "    classes = ['negativo', 'positivo']\n",
    "    df_cm = pd.DataFrame(cm, index=classes, columns=classes)\n",
    "    ax = sn.heatmap(df_cm, annot=True, fmt='g')\n",
    "    ax.set_xlabel(\"Predicción\")\n",
    "    ax.set_ylabel(\"Objetivo\")\n",
    "\n",
    "plot_cm(cm_train)"
   ]
  },
  {
   "cell_type": "code",
   "execution_count": 54,
   "id": "6782aaa2-1bdc-4a9b-a5c0-bdabb3b6ed8f",
   "metadata": {
    "tags": []
   },
   "outputs": [
    {
     "name": "stdout",
     "output_type": "stream",
     "text": [
      "150/150 [==============================] - 0s 2ms/step\n",
      "50/50 [==============================] - 0s 2ms/step\n",
      "Train AUC: 0.9980502432190896\n",
      "Test AUC: 0.5688530808210199\n"
     ]
    }
   ],
   "source": [
    "Pr_train = model.predict(X_train)\n",
    "Pr_test = model.predict(X_test)\n",
    "print (\"Train AUC:\", roc_auc_score(Y_train, Pr_train))\n",
    "print(\"Test AUC:\", roc_auc_score(Y_test, Pr_test))"
   ]
  },
  {
   "cell_type": "code",
   "execution_count": 60,
   "id": "f52bb286-ff0d-4e7e-b1cc-0cdc2d2eab18",
   "metadata": {
    "tags": []
   },
   "outputs": [
    {
     "name": "stdout",
     "output_type": "stream",
     "text": [
      "Train F1: 0.9858963466440102\n",
      "Test F1: 0.7069124423963133\n"
     ]
    }
   ],
   "source": [
    "print(\"Train F1:\", f1_score(Y_train, P_train))\n",
    "print(\"Test F1:\", f1_score(Y_test, P_test))"
   ]
  }
 ],
 "metadata": {
  "kernelspec": {
   "display_name": "Python 3 (ipykernel)",
   "language": "python",
   "name": "python3"
  },
  "language_info": {
   "codemirror_mode": {
    "name": "ipython",
    "version": 3
   },
   "file_extension": ".py",
   "mimetype": "text/x-python",
   "name": "python",
   "nbconvert_exporter": "python",
   "pygments_lexer": "ipython3",
   "version": "3.11.7"
  }
 },
 "nbformat": 4,
 "nbformat_minor": 5
}
