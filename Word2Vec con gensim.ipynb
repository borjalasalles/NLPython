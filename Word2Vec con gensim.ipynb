{
 "cells": [
  {
   "cell_type": "markdown",
   "id": "42430720-dc33-437b-98c9-b37d31497e0c",
   "metadata": {
    "tags": []
   },
   "source": [
    "**Word2Vec** es un formato que muestra la palabra y a continuación las dimensiones que han sidoentrenadas en base a la similitud con el resto de palabras.\n",
    "\n",
    "Es bueno usar modelos que ya estén entrenados y estos suelen compartise en formato txt o bin.\n",
    "\n",
    "Utiliza dos arquitecturas de redes neuronales:\n",
    "*  **1. Continous Bag of Words (CBOW)**: le ingresamos el contexto para predecir la proxima palabra.\n",
    "*  **2. Skip-Gram**: toma una palabra objetivo y trata de producir las palabras del contexto, siendo lo contrario al CBOW."
   ]
  },
  {
   "cell_type": "markdown",
   "id": "e90eacf4-2c16-407c-bd07-e2d0569fd53e",
   "metadata": {},
   "source": [
    "**Embedding** representación de un documento como una serie de vectores o (embeddings)."
   ]
  },
  {
   "cell_type": "markdown",
   "id": "63b23179-74fc-4c67-ad87-fabc9a625115",
   "metadata": {
    "tags": []
   },
   "source": [
    "## 1. Importar las librerías"
   ]
  },
  {
   "cell_type": "code",
   "execution_count": 1,
   "id": "334d9558-002f-434e-84f3-63240600e7da",
   "metadata": {
    "tags": []
   },
   "outputs": [],
   "source": [
    "# pip install pypdf2 -q\n",
    "# !pip install gensim -q\n",
    "# !pip install paramiko --upgrade"
   ]
  },
  {
   "cell_type": "code",
   "execution_count": 9,
   "id": "f84b7050-01b4-4221-92cb-902d31f42a71",
   "metadata": {
    "tags": []
   },
   "outputs": [],
   "source": [
    "import string\n",
    "import PyPDF2\n",
    "from gensim.models import Word2Vec"
   ]
  },
  {
   "cell_type": "markdown",
   "id": "42e523e9-3a2d-4d83-917d-a314e258d030",
   "metadata": {},
   "source": [
    "# A. Modelo simple"
   ]
  },
  {
   "cell_type": "markdown",
   "id": "e1137275-4eee-4b6f-bb69-31c37cc5f216",
   "metadata": {},
   "source": [
    "## 2. Carga documento pequeño"
   ]
  },
  {
   "cell_type": "code",
   "execution_count": 3,
   "id": "7828a424-bcdb-4eea-a3c2-71e831d6942e",
   "metadata": {
    "tags": []
   },
   "outputs": [],
   "source": [
    "with open('Minecraft.txt', 'r', encoding='utf-8') as file:\n",
    "    documento = file.read()"
   ]
  },
  {
   "cell_type": "code",
   "execution_count": 11,
   "id": "4587e797-26de-4730-9fd0-396b4d0999bb",
   "metadata": {
    "tags": []
   },
   "outputs": [
    {
     "data": {
      "text/plain": [
       "'Minecraft\\n\\nMinecraft es un videojuego de construcción de tipo «mundo abierto» o sandbox creado originalmente por el sueco Markus Persson (conocido comúnmente como «Notch»),19 y posteriormente desarrollado por Mojang Studios (actualmente parte de Microsoft).20 Fue lanzado el 17 de mayo de 2009, y después de numerosos cambios, su primera versión estable «1.0» fue publicada el 18 de noviembre de 2011.\\nMarkus Persson, el creador de Minecraft.\\nUn mes antes del lanzamiento de su versión completa se estrenó una versión para dispositivos móviles llamada Minecraft: Pocket Edition en Android,21 y el 17 de noviembre del mismo año fue lanzada la misma versión para iOS.22 El 9 de mayo de 2012 fue lanzada la versión del juego para Xbox 360 y PS3. Todas las versiones de Minecraft reciben actualizaciones constantes desde su lanzamiento. En octubre de 2014, Minecraft lanzó su edición para PlayStation Vita,23 desarrollada por Mojang y 4J Studios. Esta versión presenta las mismas actualizaciones y similares características que las otras versiones de consola; además, cuenta con el sistema de venta cruzada, es decir que al comprar la versión de PlayStation 3 se obtiene también la de PlayStation Vita. A marzo de 2023 se habían vendido más de 238 millones de copias, siendo actualmente el videojuego más vendido de la historia.2425\\nEl 15 de septiembre de 2014, fue adquirido por la empresa Microsoft por un valor de 2500 millones de dólares estadounidenses. Este suceso provocó el alejamiento de Markus Persson de la compañía.25 En noviembre de 2016, Microsoft anunció el lanzamiento de la versión completa de Minecraft: Education Edition.26\\nJugabilidad\\nClon de Minecraft en dominio público \"Manic Digger\". Minecraft introdujo millones de niños al mundo digital.27\\nMinecraft es un juego de mundo abierto, y no tiene un fin claramente definido. Esto permite una gran libertad en cuanto a la elección de su forma de jugar. A pesar de ello, el juego posee un sistema que otorga logros por completar ciertas acciones.2829 La cámara es en primera persona, aunque los jugadores tienen la posibilidad de cambiarla a una perspectiva de tercera persona en cualquier momento.30\\nEl juego se centra en la colocación y destrucción de bloques, siendo que este se compone de objetos tridimensionales cúbicos, colocados sobre un patrón de rejilla fija. Estos cubos o bloques representan principalmente distintos elementos de la naturaleza, como tierra, piedra, minerales, troncos, entre otros.31\\nLos jugadores son libres de desplazarse por su entorno y modificarlo mediante la creación, recolección y transporte de los bloques que componen al juego, los cuales solo pueden ser colocados respetando la rejilla fija del juego.3132 Los jugadores crean «granjas», que son estructuras y mecanismos para conseguir un determinado material más fácil (por ejemplo una granja que genera oro automáticamente). En el juego se pueden encontrar estructuras especiales como aldeas, galerías mineras, templos marinos, pirámides y templos selváticos.\\nInicio\\nAl inicio del juego, el jugador se encuentra en un mundo generado mediante un algoritmo, lo que permite que este sea teóricamente infinito y nunca se generen dos mundos iguales.33 El jugador es libre de desplazarse por el terreno, conformado por distintos biomas, entre los que se encuentran desiertos, sabanas, selvas, océanos, llanuras, tundras, etcétera.333435 El juego posee su propio ciclo de tiempo de día y noche, siendo que un día en el juego equivale a 20 minutos en la realidad.31\\nMundo\\nEl mundo no se genera por completo al principio, sino que está dividido en chunks («trozos», «pedazos» traducido literalmente al español, pero sin adaptación oficial) de 16 × 16 bloques en horizontal. Los chunks cercanos al jugador se cargan en la memoria. A medida que este se desplaza, se generan y añaden nuevos chunks al mundo.36\\nDificultad\\nIndependientemente de los varios modos de juego también se puede definir la dificultad del juego, siendo el modo más tranquilo el pacífico, que a diferencia de las demás dificultades, no permite que aparezcan monstruos en el juego que puedan herir al jugador.\\nModos de juego\\nSupervivencia\\nEl modo supervivencia (survival en inglés) se basa en la vida real combinada con un poco de fantasía y se trata de la supervivencia al ataque de las múltiples criaturas que surgen en la oscuridad o de noche.37 El máximo aguante que tienen los personajes consta de 10 corazones (20 puntos de salud). En este modo las herramientas, armas y armadura se gastan con el uso.\\nCreativo\\nEn el modo creativo (creative en inglés) se centra enteramente en el aspecto de la construcción libre. Los jugadores poseen un suministro ilimitado de todos los bloques y objetos del juego,38 que pueden colocar y destruir de forma instantánea. Además, no son atacados por los monstruos, son inmunes a todo daño (aunque sí pueden morir cayendo al vacío si están en Java Edition) y pueden volar libremente por el mapa. En este modo no se pueden romper bloques sosteniendo espada, para prevenir la destrucción del entorno cuando el jugador golpea o ataca.\\nExtremo\\nEl modo extremo (hardcore en inglés) es idéntico al modo supervivencia, con la diferencia de que tras la muerte del jugador este ya no puede volver a revivir y la dificultad está fijada en difícil.3940\\nEspectador\\nEl modo espectador permite a los jugadores volar a través de bloques y ver el mundo sin interactuar con él. En este modo, la barra de acceso rápido se convierte en un menú que permite al jugador teletransportarse a los jugadores en la partida. También es posible ver desde el punto de vista de otro jugador o criatura. 41\\nAventura\\nEl modo aventura (adventure en inglés) está destinado a los jugadores que se dedican a crear mapas para usuarios que deseen jugar en línea o solos. Este modo de juego se basa en los siguientes criterios que afectan al jugador en distintos sentidos:37\\n•\\\\tEl jugador solo puede romper un bloque si tiene la herramienta adecuada, y esta programada con comandos para que pueda ser rota.\\n•\\\\tSi el creador del mapa así lo configura, la dificultad no puede ser modificada por los jugadores.\\nMods y modos de juego no oficiales\\nAlgunos usuarios o desarrolladores avanzados optan por crear sus propios modos de juego y aplicarlos en servidores o mapas de aventura para jugar en modo de un jugador. Sin embargo, estos modos de juego suelen verse poco y la mayoría de los servidores modifican algunas extensiones para hacer parecer que tienen un modo de juego personalizado.[cita requerida]\\nEn las primeras versiones preliminares de Minecraft, el único modo de juego disponible era similar al creativo actual. En particular, la versión clásica (que ya no recibe actualizaciones) aún puede jugarse gratuitamente desde navegadores web.19\\nMultijugador\\nVéase también: Servidor de Minecraft\\nEl modo multijugador en Minecraft permite que varios jugadores interactúen y se comuniquen entre sí en un solo mundo. Está disponible a través de multijugador directo de juego a juego, juego LAN, pantalla dividida local (solo consola) y servidores (alojados por jugadores y negocios).42 Los jugadores pueden ejecutar sus propios servidores, usar un proveedor de alojamiento o conectarse directamente al juego de otro jugador a través de Xbox Live. Los mundos de un solo jugador tienen soporte de red de área local, lo que permite a los jugadores unirse a un mundo en computadoras interconectadas localmente sin una configuración de servidor.43 Los servidores multijugador de Minecraft están guiados por operadores de servidores, que tienen acceso a los comandos del servidor, como configurar la hora del día y teletransportar a los jugadores. Los operadores también pueden establecer restricciones con respecto a qué nombres de usuario o direcciones IP pueden o no ingresar al servidor.42 Los servidores multijugador tienen una amplia gama de actividades, y algunos servidores tienen sus propias reglas y costumbres únicas. El servidor más grande y popular es Hypixel, que ha sido visitado por más de 14 millones de jugadores únicos.4445 El combate jugador contra jugador (PvP) se puede habilitar para permitir la lucha entre jugadores.46 Muchos servidores tienen complementos personalizados que permiten acciones que normalmente no son posibles.\\nMinecraft Realms\\nEn 2013, Mojang anunció Minecraft Realms, un servicio de alojamiento de servidor destinado a permitir a los jugadores ejecutar juegos multijugador en servidor de manera fácil y segura sin tener que configurar uno propio.4748 A diferencia de un servidor estándar, solo los jugadores invitados pueden unirse a los servidores de Realms y estos servidores no usan direcciones IP. Los propietarios de servidores de Minecraft: Java Edition Realms pueden invitar hasta veinte personas a jugar en su servidor, con hasta diez jugadores en línea a la vez. Los propietarios de servidores de Minecraft Realms pueden invitar hasta 3000 personas a jugar en su servidor, con hasta diez jugadores en línea a la vez.49 Los servidores de Minecraft: Java Edition Realms no admiten complementos creados por el usuario, pero los jugadores pueden jugar mapas personalizados de Minecraft .50 Los servidores de Minecraft Realms admiten complementos creados por el usuario, paquetes de recursos, paquetes de comportamiento y mapas personalizados de Minecraft .49 En Electronic Entertainment Expo 2016, se agregó soporte para juegos multiplataforma entre las plataformas Windows 10, iOS y Android a través de Realms a partir de junio de 2016,51 con soporte para Xbox One y Nintendo Switch más adelante en 2017,52 y soporte para dispositivos de realidad virtual . El 31 de julio de 2017, Mojang lanzó la versión beta de la actualización que permite el juego multiplataforma.53 El soporte de Nintendo Switch para Realms se lanzó en julio de 2018.54\\nPersonalización\\nLa comunidad de modding está formada por fanes, usuarios y programadores externos. Usando una variedad de interfaces de programas de aplicaciones que han surgido con el tiempo, han producido una amplia variedad de contenido descargable para Minecraft, como modificaciones, paquetes de texturas y mapas personalizados. Las modificaciones del código de Minecraft, llamadas mods, agregan una variedad de cambios en el juego, que van desde nuevos bloques, nuevos elementos, nuevas turbas hasta conjuntos completos de mecanismos para crear.5556 La comunidad de modding es responsable de un suministro sustancial de mods, desde los que mejoran el juego, como minimapas,57 puntos de ruta y contadores de durabilidad,58 hasta los que agregan al juego elementos de otros videojuegos y medios. Si bien una variedad de marcos de mod se desarrollaron de forma independiente mediante la ingeniería inversa del código, Mojang también mejoró Minecraft estándar con marcos oficiales para la modificación, lo que permite la producción de paquetes de recursos creados por la comunidad, que alteran ciertos elementos del juego, incluidas texturas y sonidos.59 Los jugadores también pueden crear sus propios \"mapas\" (archivos guardados personalizados del mundo) que a menudo contienen reglas específicas, desafíos, acertijos y misiones, y compartirlos para que otros jueguen.60 Mojang agregó un modo aventura en agosto de 201261 y \"bloques de comando\" en octubre de 2012,62 que se crearon especialmente para mapas personalizados en Java Edition . Los paquetes de datos, introducidos en la versión 1.13 de Java Edition, permiten una mayor personalización, incluida la capacidad de agregar nuevos avances, dimensiones, funciones, tablas de botín, predicados, recetas, estructuras, etiquetas, configuraciones de generación mundial y biomas.6364\\nLa edición Xbox 360 admite contenido descargable, que está disponible para comprar a través de Xbox Games Store ; estos paquetes de contenido suelen contener máscaras de personajes adicionales.65 Más tarde recibió soporte para paquetes de texturas en su duodécima actualización de título mientras presentaba \"paquetes de mezcla\", que combina paquetes de texturas con paquetes de máscaras y cambios en los sonidos, la música y la interfaz de usuario del juego.66 El primer paquete de mash-up (y, por extensión, el primer paquete de texturas) para Xbox 360 Edition se lanzó el 4 de septiembre de 2013 y tenía como tema la franquicia Mass Effect.67 Sin embargo, a diferencia de la Edición Java, la Edición Xbox 360 no admite modificaciones creadas por jugadores ni mapas personalizados. El 17 de mayo de 2016 se lanzó en todo el mundo un paquete de recursos de promoción cruzada basado en la franquicia Super Mario de Nintendo para la edición de Wii U.68 Se anunció el lanzamiento de un paquete combinado basado en Fallout en Wii U Edition .69 En abril de 2018, se descubrió malware en varias máscaras descargables de Minecraft creadas por usuarios para usar con la edición Java del juego.7071 Avast declaró que casi 50.000 cuentas estaban infectadas y, cuando se activaba, el malware intentaba reformatear el disco duro del usuario.7170 Mojang solucionó rápidamente el problema y emitió una declaración que decía que \"el juego en sí no ejecutaría ni leería el código\",70 y solo se ejecutaría cuando se abriera la imagen que contenía la máscara.72\\nEn junio de 2017, Mojang lanzó una actualización conocida como \"Discovery Update\" para la versión Bedrock del juego.73 La actualización incluye un nuevo mapa, un nuevo modo de juego, el \"Mercado\", un catálogo de contenido generado por los usuarios que brinda a los creadores de Minecraft \"otra forma de ganarse la vida con el juego\", y más.747576\\nMods de juego\\n•\\\\tForge y Fabric, proyectos que modifican una instalación de servidor y de cliente, las cuales implementan una API para desarrollar mods\\n•\\\\tOptifine, mod para el cliente que agrega características para mejorar el rendimiento y estética\\n•\\\\tRed Power 2, mod que agrega características avanzadas a Minecraft en forma de tecnología industrial, como bombas hidráulicas, paneles solares y tubos neumáticos, permitiendo incluso emular un ordenador completo basado en el MOS 6502 a través de las mecánicas del propio juego.777879\\nEdiciones de Minecraft\\nLa edición principal es la versión Java de PC, pero aun así existen otras tres ediciones: Bedrock Edition, Console Edition y Education Edition.\\nBedrock Edition\\nArtículo principal: Minecraft Bedrock\\nEn un principio, esta edición de Minecraft se desarrolló para ser una edición de bolsillo, siendo la edición disponible para teléfonos y tabletas. También hay una edición llamada Windows 10 Edition que se basa en la misma línea de desarrollo y el mismo código de Pocket Edition, aunque sólo está disponible para Windows 10 y está preparada para funcionar también en Holo Lens, dispositivos de realidad virtual de Microsoft y Oculus Rift. También la Pocket Edition normal tenía su soporte para estos dispositivos como con el Samsung Gear VR. Otras variantes de esta edición son Apple TV Edition y Fire TV Edition. Sin embargo, a partir de la versión 1.2, se unificó la jugabilidad de Pocket Edition con las de Windows 10, Xbox One S y los dispositivos de realidad virtual, bajo la llamada \"Bedrock Edition\", permitiendo el juego multijugador entre las plataformas anteriores, tanto en mundos con interconexión como en servidores multijugador. Luego de un tiempo se sumó la Nintendo Switch a esta edición, y finalmente la Playstation 4.\\nLegacy Edition\\nEsta edición del juego, antes conocida como \"Console Edition\", estaba preparada para funcionar en consolas como Xbox 360, Xbox One, Wii U, Nintendo Switch, PS3 y PS4. La edición era muy similar a la edición Java y se podía jugar multijugador en distintas consolas con suscripciones, como es el caso de Xbox, con su servicio Xbox LIVE Gold. Con la llegada de la edición Bedrock a PS4 a fines de 2019 todas las ediciones Legacy fueron retiradas del mercado. Aunque siguen siendo accesibles en algunas plataformas, no recibirán más actualizaciones.\\nEducation Edition\\nArtículo principal: Minecraft Education Edition\\nEsta es una edición especial de Minecraft Bedrock orientada al entorno estudiantil. Incorpora características exclusivas como los mundos tutorial, los PNJ (personajes no jugadores) y el modo de clase, junto con ítemes exclusivos como un pizarrón, además de una mesa de crafteo especial, recipiente y reductor para su uso en clases de química.\\nEdición para la República Popular China\\nExiste una edición localizada de Minecraft en chino simplificado desarrollada por Mojang Studios y publicada por NetEase, destinada al los jugadores de la República Popular China. Esta edición está disponible tanto en Java Edition como en Bedrock y es idéntica a la edición comercializada por Mojang/Microsoft. Sin embargo, cuenta con una serie de diferencias, entre las cuales está su descarga gratuita (pero requiere registro y cumplir con las obligaciones de identidad de la República Popular China), uso de cuenta de NetEase en lugar de una cuenta de Mojang o Microsoft, el uso de un lanzador exclusivo, y su propia tienda, además de incluir unos mods preinstalados. Se han modificado y/o censurado los nombres de algunos elementos del juego, con tal de cumplir con las regulaciones del gobierno chino.[cita requerida]\\nOtros títulos\\nMinecraft: Story Mode\\nArtículo principal: Minecraft: Story Mode\\nMinecraft: Story Mode es un juego point-and-click desarrollado y publicado por Telltale Games, basado en el videojuego sandbox Minecraft. El juego fue lanzado para Microsoft Windows, OS X, PlayStation 3, PlayStation 4, PlayStation Vita, Wii U, Xbox 360, Xbox One, Android y iOS. El juego fue desarrollado en asociación con Mojang, el desarrollador original de Minecraft. El juego sigue el formato episódico que Telltale Games ha utilizado en sus títulos The Walking Dead, The Wolf Among Us, Tales from the Borderlands y Game of Thrones. El juego se centra en torno a un nuevo personaje, llamado Jesse, que puede ser tanto hombre o mujer, esto a elección del jugador. El protagonista y sus aliados intentan salvar su mundo al derrotar al Wither Storm.\\nMinecraft Dungeons\\nEsta sección es un extracto de Minecraft Dungeons.[editar]\\nMinecraft Dungeons (en español Minecraft Mazmorras) es un videojuego perteneciente al género de rol de acción que se lanzó el 26 de mayo de 2020 para Windows, Xbox One, Nintendo Switch y PlayStation 4; más tarde se lanzó para macOS, Xbox Series X|S y PlayStation 5.8081Desarrollado por Mojang y, cuya conversión a las consolas, fue realizada por Double Eleven. Se puede jugar solo o en línea con hasta cuatro jugadores. 82\\nMinecraft Earth\\nEsta sección es un extracto de Minecraft Earth.[editar]\\nMinecraft Earth fue un videojuego perteneciente al género de sandbox de realidad aumentada, desarrollado por Mojang y publicado por Xbox Game Studios. Es una derivación del videojuego Minecraft, se anunció por primera vez en mayo del año 2019 y estuvo disponible para Android, iOS y iPadOS. El juego es gratuito y se lanzó como acceso temprano (Early access) por primera vez a principios de octubre de 2019. El juego recibió su última actualización el 5 de enero de 2021, dejando de estar disponible el 30 de junio del mismo año.83\\nMinecraft Legends\\nEsta sección es un extracto de Minecraft Legends.[editar]\\nMinecraft Legends es un juego derivado de Minecraft con la temática de estrategia desarrollado por Mojang Studios y Blackbird Interactive y publicado por Xbox Game Studios. Lanzado en Microsoft Windows, Nintendo Switch, PlayStation 4, PlayStation 5, Xbox One, y Xbox Series X/S el 18 de abril de 2023.'"
      ]
     },
     "execution_count": 11,
     "metadata": {},
     "output_type": "execute_result"
    }
   ],
   "source": [
    "documento"
   ]
  },
  {
   "cell_type": "code",
   "execution_count": 23,
   "id": "03369ea6-6fc5-4e95-98e4-ba68a51caae9",
   "metadata": {
    "tags": []
   },
   "outputs": [
    {
     "data": {
      "text/plain": [
       "127"
      ]
     },
     "execution_count": 23,
     "metadata": {},
     "output_type": "execute_result"
    }
   ],
   "source": [
    "oraciones = documento.split('.')\n",
    "len(oraciones)"
   ]
  },
  {
   "cell_type": "markdown",
   "id": "a6e37dbe-7557-4875-bf4f-f3a4ff58378f",
   "metadata": {
    "tags": []
   },
   "source": [
    "## 3. Preprocesamiento de datos"
   ]
  },
  {
   "cell_type": "code",
   "execution_count": 44,
   "id": "7c7bb538-1294-4de1-86c2-0e8c58360480",
   "metadata": {
    "tags": []
   },
   "outputs": [
    {
     "data": {
      "text/plain": [
       "'Minecraft\\n\\nMinecraft es un videojuego de construcción de tipo «mundo abierto» o sandbox creado originalmente por el sueco Markus Persson (conocido comúnmente como «Notch»),19 y posteriormente desarrollado por Mojang Studios (actualmente parte de Microsoft)'"
      ]
     },
     "execution_count": 44,
     "metadata": {},
     "output_type": "execute_result"
    }
   ],
   "source": [
    "oraciones[0]"
   ]
  },
  {
   "cell_type": "code",
   "execution_count": 42,
   "id": "02b59f0f-95dc-40a8-b9fe-76be0e1610e6",
   "metadata": {
    "tags": []
   },
   "outputs": [],
   "source": [
    "oraciones_limpias = []\n",
    "for oracion in oraciones:\n",
    "    # Eliminar puntuación con maketrans y dividir por espacios\n",
    "    tokens = oracion.translate(str.maketrans('', '',\n",
    "                                             string.punctuation)).split()\n",
    "    # Convertir palabras en minúsculas\n",
    "    tokens = [word.lower() for word in tokens if word.isalpha()]\n",
    "    if tokens: # Añadir solo si hay tokens\n",
    "        oraciones_limpias.append(tokens)"
   ]
  },
  {
   "cell_type": "code",
   "execution_count": 46,
   "id": "d94e6d08-a715-40d9-953a-dc07e2062d21",
   "metadata": {
    "tags": []
   },
   "outputs": [
    {
     "data": {
      "text/plain": [
       "['minecraft',\n",
       " 'minecraft',\n",
       " 'es',\n",
       " 'un',\n",
       " 'videojuego',\n",
       " 'de',\n",
       " 'construcción',\n",
       " 'de',\n",
       " 'tipo',\n",
       " 'o',\n",
       " 'sandbox',\n",
       " 'creado',\n",
       " 'originalmente',\n",
       " 'por',\n",
       " 'el',\n",
       " 'sueco',\n",
       " 'markus',\n",
       " 'persson',\n",
       " 'conocido',\n",
       " 'comúnmente',\n",
       " 'como',\n",
       " 'y',\n",
       " 'posteriormente',\n",
       " 'desarrollado',\n",
       " 'por',\n",
       " 'mojang',\n",
       " 'studios',\n",
       " 'actualmente',\n",
       " 'parte',\n",
       " 'de',\n",
       " 'microsoft']"
      ]
     },
     "execution_count": 46,
     "metadata": {},
     "output_type": "execute_result"
    }
   ],
   "source": [
    "oraciones_limpias[0]"
   ]
  },
  {
   "cell_type": "markdown",
   "id": "3e1eab63-2463-41ac-9c0f-e3c1f7e1ae38",
   "metadata": {},
   "source": [
    "## 4. Entrenamiento del modelo Word2Vec"
   ]
  },
  {
   "cell_type": "code",
   "execution_count": 64,
   "id": "b13a4423-004e-438c-b9eb-5bc67aab68b1",
   "metadata": {
    "tags": []
   },
   "outputs": [],
   "source": [
    "# Entrenar el modelo Word2Vec\n",
    "model = Word2Vec(sentences=oraciones_limpias,\n",
    "                 vector_size=500, window=5, min_count=1, workers=8)\n",
    "\n",
    "# Es un modelo que recibe como input listas de oraciones,\n",
    "# Consdiera 500 tokens en el embedding, analizando las palabras previas y posteriores a cada elemento,\n",
    "# la palabra tiene que aparecer mínimo 1 vez para ser considerada en el modelo y cuantos núcleos del ordenador\n",
    "# van a trabajar a la vez."
   ]
  },
  {
   "cell_type": "code",
   "execution_count": 68,
   "id": "ca2fb6e0-c100-484f-bdb1-883415892301",
   "metadata": {
    "tags": []
   },
   "outputs": [
    {
     "data": {
      "text/plain": [
       "array([ 5.00054855e-04,  1.93846750e-03,  2.06744461e-03,  2.60203891e-03,\n",
       "       -2.02402007e-03, -1.77548360e-03,  2.27620848e-03,  2.23536813e-03,\n",
       "        6.04523753e-04,  1.05972029e-03, -5.77983854e-04, -1.28226448e-03,\n",
       "        4.41503304e-04, -1.67218049e-03, -3.24010703e-04, -3.48889641e-03,\n",
       "       -1.68160710e-03, -2.36706831e-03,  7.49515020e-04, -1.12480693e-03,\n",
       "        2.04395433e-03, -2.59933923e-03, -8.46223702e-05,  1.87634447e-04,\n",
       "       -6.76451891e-04,  9.68601322e-04, -3.48711299e-04, -8.66748960e-05,\n",
       "       -3.28912400e-03, -2.18876777e-03,  1.69340346e-03,  2.54444400e-04,\n",
       "        1.31648302e-03, -1.71776034e-03,  1.74258254e-03, -1.01134705e-03,\n",
       "        2.63451203e-03,  2.30210673e-04, -1.87144766e-03, -2.93803168e-04,\n",
       "       -1.68839097e-03, -2.53500044e-03, -1.65786396e-03,  1.31461339e-03,\n",
       "       -2.77619669e-03, -3.08953482e-03,  1.27523474e-03,  1.06380868e-03,\n",
       "       -8.13581719e-05,  4.47694445e-04, -1.11048692e-03,  4.67279751e-05,\n",
       "        4.49442654e-04,  4.08682361e-04, -6.58172823e-04, -5.24114992e-04,\n",
       "        2.32231617e-03, -1.68852205e-03, -2.03735870e-03,  2.32033012e-03,\n",
       "        2.25241482e-03, -6.38727448e-04,  1.07096636e-03, -3.12012649e-04,\n",
       "       -1.95972621e-03,  9.11409326e-04, -1.46280543e-03,  1.73540658e-03,\n",
       "        7.34447094e-04, -1.63781957e-03, -9.12413641e-04,  7.04825288e-05,\n",
       "        1.59278011e-03, -5.70573029e-04,  3.05262441e-03,  2.61021499e-03,\n",
       "       -9.30602197e-04,  1.75269321e-03,  1.03869452e-03, -4.66410944e-04,\n",
       "       -9.30630660e-04,  1.99993432e-04, -1.35382148e-03,  2.04952760e-03,\n",
       "       -4.20527719e-03, -2.52708473e-04,  7.06016901e-04,  8.40986904e-04,\n",
       "        2.29659630e-03,  9.46169253e-04,  4.74271248e-04,  5.53466205e-04,\n",
       "       -1.40296732e-04,  8.95704899e-04,  3.00321705e-03,  8.84174253e-04,\n",
       "       -1.09053904e-03, -8.99861741e-04, -7.01892248e-04, -6.84769126e-04,\n",
       "       -1.38675212e-03, -1.60743704e-03,  1.13485928e-03,  1.30663533e-03,\n",
       "        1.14605515e-04, -1.00396015e-03, -1.89699524e-03, -3.60368780e-04,\n",
       "        1.21817831e-03,  1.75370646e-04,  3.63711006e-04, -1.34809595e-03,\n",
       "        1.94662414e-03,  1.97598850e-03, -7.26142025e-04,  1.34278613e-04,\n",
       "        8.61061795e-04, -1.58273906e-03,  1.73520297e-03, -4.27357067e-04,\n",
       "        4.11881454e-04,  5.88097377e-04,  2.41690828e-03, -1.89595064e-03,\n",
       "        2.38066888e-03,  6.56070071e-04, -3.10446066e-03,  2.29628873e-03,\n",
       "       -8.24091199e-04,  2.06558802e-03,  1.65925245e-03,  1.61437911e-03,\n",
       "        4.29786305e-04, -1.21649331e-03, -6.89922832e-04,  3.07636056e-03,\n",
       "        5.87552713e-05, -1.59762951e-03, -1.35481975e-03, -2.50337599e-03,\n",
       "        1.40677940e-03, -3.23220971e-03,  1.38808589e-03,  2.14135114e-04,\n",
       "        2.59395852e-03,  1.79703115e-03, -2.19446913e-04, -3.19802493e-04,\n",
       "        8.84017558e-04, -1.28051045e-03,  3.06876958e-03,  1.57814077e-03,\n",
       "        1.71638164e-03,  1.25436648e-03, -4.07159049e-03,  1.19854975e-03,\n",
       "       -3.21575295e-04,  1.08649721e-03, -4.92068240e-04,  1.32975355e-03,\n",
       "        1.38599076e-03,  2.03079413e-04, -1.65175390e-03, -8.05702002e-04,\n",
       "        1.04050245e-03, -6.87548192e-04,  1.32352940e-03, -2.38652807e-04,\n",
       "        1.60022161e-03,  2.12953659e-03, -7.67289894e-04,  2.20056553e-03,\n",
       "       -1.06691639e-03,  1.40116201e-03,  1.37282512e-03, -8.85720965e-06,\n",
       "       -7.54468841e-04, -5.68355783e-04,  1.32417900e-03,  2.98505905e-03,\n",
       "        6.39391481e-04, -7.48694074e-05,  1.83970275e-04, -1.00489182e-03,\n",
       "       -1.42409524e-03,  1.88943290e-04, -2.72802287e-03, -7.05687504e-04,\n",
       "        1.35488797e-03,  2.11149338e-03,  3.21236369e-03, -5.78560517e-04,\n",
       "       -1.18918938e-03, -2.00698012e-03,  6.58924051e-04, -2.03722343e-03,\n",
       "       -1.33826386e-03,  4.35792936e-05, -5.10387123e-04, -9.43895022e-04,\n",
       "        1.25522108e-03, -1.69052533e-03, -6.15316036e-04, -2.79133092e-04,\n",
       "        1.22706778e-03,  3.61635830e-05, -7.42741453e-04,  1.23204954e-03,\n",
       "        1.25933089e-04, -1.68904196e-03,  1.99378957e-03,  2.45377829e-04,\n",
       "       -2.28360062e-03, -9.68892185e-04,  8.87802453e-04, -8.57219100e-04,\n",
       "       -1.18752604e-03, -1.36096403e-03,  1.70989559e-04, -2.61631934e-03,\n",
       "       -8.02539173e-04,  9.42752638e-04,  1.01492030e-03, -6.84918370e-04,\n",
       "        1.35619333e-03, -4.47008730e-04,  1.43978326e-03,  6.66731503e-04,\n",
       "        3.57432291e-04,  1.78062555e-03,  2.40285135e-06, -1.87406002e-03,\n",
       "        1.13222178e-03, -1.36922381e-03,  5.88811177e-04, -1.13844348e-03,\n",
       "       -2.31066439e-03, -3.14614736e-03,  2.04694550e-03, -3.16992489e-04,\n",
       "        3.07672221e-04, -3.08355573e-03, -2.99138506e-03,  2.27830620e-04,\n",
       "        1.20138063e-03, -2.40185298e-03,  7.12782086e-04, -4.18723997e-04,\n",
       "        8.14011088e-04,  2.47886707e-03, -2.12078492e-04, -3.24640539e-03,\n",
       "        5.79236890e-04,  2.81634886e-04,  1.64492708e-03,  1.83077165e-04,\n",
       "        9.84859769e-04,  2.76471372e-03, -2.87933019e-03,  2.15285155e-03,\n",
       "       -1.97642599e-03,  7.40890973e-04, -4.45563754e-04,  8.18037312e-04,\n",
       "       -6.89667882e-04,  1.07415975e-03,  6.52751769e-04,  4.03698487e-03,\n",
       "       -3.14996624e-03,  9.55674623e-04,  3.05642287e-04, -2.25114374e-04,\n",
       "        3.09909857e-03, -1.26750080e-03, -8.63367575e-04, -9.69955232e-04,\n",
       "       -1.15773675e-03, -1.35066698e-03, -1.60596031e-03, -2.98983854e-04,\n",
       "        1.24131399e-03, -6.15511264e-04, -2.96928897e-03,  6.94294227e-04,\n",
       "        4.02170606e-03, -3.11779790e-04,  2.15790526e-04, -2.22272094e-04,\n",
       "        9.11050243e-04,  1.34182849e-03, -1.71649654e-03,  2.46032723e-03,\n",
       "        9.56157513e-04, -6.57442666e-04,  1.20011694e-03,  1.62218336e-03,\n",
       "        3.31391208e-03, -1.27359200e-03,  3.22971423e-03, -1.70869392e-03,\n",
       "       -6.85713312e-04,  1.21733246e-04, -3.53406736e-04,  2.93730773e-05,\n",
       "       -4.69299557e-04, -1.94332434e-03,  5.35837607e-04,  2.26391782e-03,\n",
       "       -1.27781217e-03, -2.54232995e-03, -1.13476801e-03,  4.46368300e-04,\n",
       "       -9.61090031e-04,  2.19902326e-03,  1.01231679e-03,  3.32571944e-04,\n",
       "        4.26218583e-04, -2.52152630e-03,  1.04525313e-03,  9.89584951e-04,\n",
       "       -2.01807372e-04, -3.52469826e-04,  1.16201118e-03, -2.81030923e-04,\n",
       "        6.58438716e-04, -1.44144089e-03,  1.06178829e-03, -2.25527049e-03,\n",
       "        3.86719068e-04,  1.34030334e-03,  2.06606044e-03, -1.40595320e-03,\n",
       "        6.22027801e-05, -1.35670975e-03, -7.82729476e-04,  1.37306733e-06,\n",
       "       -1.65088079e-03,  2.47453572e-03,  6.87068445e-04, -1.35399424e-03,\n",
       "       -2.69836886e-03,  1.52710036e-05,  1.14867301e-03, -6.14923134e-04,\n",
       "        1.92489591e-03,  2.28213990e-04, -2.81938422e-03,  1.07449864e-03,\n",
       "       -1.40441651e-03,  3.40326151e-05, -2.26895776e-04,  1.74763787e-03,\n",
       "       -2.68099736e-03, -1.81575408e-04, -2.90893222e-04,  1.56844140e-03,\n",
       "       -1.95856695e-03, -1.18038093e-03, -1.12892514e-04, -9.40886617e-04,\n",
       "       -1.91499863e-03,  2.15564665e-04, -1.74801433e-04,  2.04619649e-03,\n",
       "       -1.84922203e-04, -4.73947439e-04,  7.53845728e-04, -9.32295748e-04,\n",
       "       -8.53477162e-04,  4.61085059e-04,  1.15682941e-03, -9.63315368e-04,\n",
       "       -1.88719796e-03, -2.50819896e-04,  1.60304119e-03, -2.52230535e-03,\n",
       "       -1.17461721e-03,  4.15396062e-04,  1.05066306e-03, -4.58621624e-04,\n",
       "        2.53898441e-03, -1.82928646e-03,  3.17424396e-03, -9.71184694e-04,\n",
       "        1.86918082e-03,  7.08260282e-04,  1.03443163e-03, -2.68720672e-04,\n",
       "        2.07296270e-03,  7.00216042e-04, -1.57503819e-03, -2.12316657e-03,\n",
       "        8.75043450e-04, -6.76246244e-04, -6.19047554e-04,  1.80140347e-03,\n",
       "       -6.49137015e-04, -1.97403878e-03,  2.03954964e-03,  9.91804875e-04,\n",
       "       -1.47759228e-03, -7.41089985e-04, -1.83736265e-03, -2.45186011e-03,\n",
       "       -1.32073858e-03, -2.16861675e-03, -1.97477196e-03,  3.26877134e-03,\n",
       "        1.64300215e-03, -3.68299079e-04, -3.07720824e-04, -2.81300512e-03,\n",
       "        7.66663754e-04,  7.34142610e-04,  2.96558457e-04, -8.88939656e-04,\n",
       "        7.38962612e-04,  3.39118444e-04,  3.51152354e-04, -7.30353524e-04,\n",
       "        1.45445694e-03,  1.38019212e-03, -1.74639281e-03,  2.14117626e-03,\n",
       "       -1.62679970e-03, -1.00554083e-03,  8.93726014e-04, -1.60287123e-03,\n",
       "       -1.14842609e-03, -9.54235555e-04, -2.11274158e-03,  3.00911313e-04,\n",
       "        1.24106649e-03, -1.14066619e-03, -2.12306366e-03,  1.68272399e-03,\n",
       "       -8.60779954e-04, -1.82891020e-03, -3.80377605e-04,  2.51235499e-04,\n",
       "        1.64387317e-03, -3.13385040e-04,  2.38993042e-03, -2.17851414e-03,\n",
       "        2.91278004e-03,  1.51956175e-03,  8.66247574e-04, -2.72720848e-04,\n",
       "       -1.26724291e-04, -4.81628318e-04, -1.48484798e-03, -6.91140071e-04,\n",
       "        5.96116530e-04, -1.54665729e-03,  2.62291916e-03, -1.01607433e-03,\n",
       "        2.04503792e-03,  3.58271573e-05,  1.83034828e-03, -1.88726233e-03,\n",
       "        1.13378395e-03, -7.28920684e-04,  5.35075902e-04,  2.37876942e-04,\n",
       "       -2.50653317e-03,  2.08311249e-03, -8.68177158e-04, -1.54254911e-03,\n",
       "       -2.34553870e-03,  1.89198309e-03,  9.27372021e-04,  9.74586292e-05,\n",
       "        1.79917098e-03, -1.48034713e-03,  2.79698148e-03,  3.19404062e-03,\n",
       "        1.14806602e-03,  2.85381073e-04, -2.89020874e-03,  5.02902200e-04,\n",
       "       -1.05753075e-03, -1.06713688e-03, -7.96460954e-04,  2.86477385e-03,\n",
       "        1.83304353e-03,  1.01914362e-03, -2.36061578e-06,  2.70009949e-03,\n",
       "        1.50472648e-03,  5.56140090e-04,  6.44112588e-04, -9.36998695e-04,\n",
       "        2.73972354e-03, -9.59295940e-05,  8.58410713e-05,  1.79792999e-03,\n",
       "       -1.83258939e-03, -1.60137971e-03, -1.31328707e-03,  4.15687624e-04],\n",
       "      dtype=float32)"
      ]
     },
     "execution_count": 68,
     "metadata": {},
     "output_type": "execute_result"
    }
   ],
   "source": [
    "# Vector de la palabras Mincraft con 500 dimensiones a considerar\n",
    "model.wv['minecraft']"
   ]
  },
  {
   "cell_type": "code",
   "execution_count": 74,
   "id": "5df9dc0f-0623-436e-99d7-6f5e80afb64f",
   "metadata": {
    "tags": []
   },
   "outputs": [
    {
     "data": {
      "text/plain": [
       "[('de', 0.5546152591705322),\n",
       " ('en', 0.48238158226013184),\n",
       " ('y', 0.4800969660282135),\n",
       " ('la', 0.47456181049346924),\n",
       " ('como', 0.4523174464702606),\n",
       " ('que', 0.4438616931438446),\n",
       " ('un', 0.42607060074806213),\n",
       " ('el', 0.425818532705307),\n",
       " ('al', 0.4189743101596832),\n",
       " ('para', 0.4187222719192505)]"
      ]
     },
     "execution_count": 74,
     "metadata": {},
     "output_type": "execute_result"
    }
   ],
   "source": [
    "# Palabras más similares según el modelo para una palabra concreta\n",
    "model.wv.most_similar('minecraft', topn=10)"
   ]
  },
  {
   "cell_type": "code",
   "execution_count": 76,
   "id": "04fc21ae-17df-4ac3-ada7-955e5db03e8a",
   "metadata": {
    "tags": []
   },
   "outputs": [
    {
     "data": {
      "text/plain": [
       "[('intentan', 0.158614844083786),\n",
       " ('etiquetas', 0.12485635280609131),\n",
       " ('desde', 0.11679808050394058),\n",
       " ('solos', 0.11359740793704987),\n",
       " ('studios', 0.11276081204414368),\n",
       " ('incluye', 0.10949662327766418),\n",
       " ('usuarios', 0.10917133837938309),\n",
       " ('store', 0.10660940408706665),\n",
       " ('neumáticos', 0.10570629686117172),\n",
       " ('x', 0.10535000264644623)]"
      ]
     },
     "execution_count": 76,
     "metadata": {},
     "output_type": "execute_result"
    }
   ],
   "source": [
    "# Palabras más similares según el modelo para una palabra concreta\n",
    "model.wv.most_similar('hombre', topn=10)"
   ]
  },
  {
   "cell_type": "markdown",
   "id": "f91d7971-2ab5-43f9-af5a-d2c853f472f6",
   "metadata": {},
   "source": [
    "Los resultados son malos porque los embeddings han sido entrenados con pocos inputs."
   ]
  },
  {
   "cell_type": "markdown",
   "id": "730d1f15-b428-4916-bb9d-ffa3acd9e0cc",
   "metadata": {},
   "source": [
    "## 5. Guardar el modelo"
   ]
  },
  {
   "cell_type": "code",
   "execution_count": 81,
   "id": "9e1d0e24-fa0a-475e-91be-506defce4913",
   "metadata": {
    "tags": []
   },
   "outputs": [],
   "source": [
    "model.save('minecraft_word2vec.model')\n",
    "modelo_cargado = Word2Vec.load('minecraft_word2vec.model')"
   ]
  },
  {
   "cell_type": "code",
   "execution_count": 85,
   "id": "0364eee2-ead2-498c-803b-a47169623890",
   "metadata": {
    "tags": []
   },
   "outputs": [
    {
     "data": {
      "text/plain": [
       "[('de', 0.5546152591705322),\n",
       " ('en', 0.48238158226013184),\n",
       " ('y', 0.4800969660282135),\n",
       " ('la', 0.47456181049346924),\n",
       " ('como', 0.4523174464702606),\n",
       " ('que', 0.4438616931438446),\n",
       " ('un', 0.42607060074806213),\n",
       " ('el', 0.425818532705307),\n",
       " ('al', 0.4189743101596832),\n",
       " ('para', 0.4187222719192505)]"
      ]
     },
     "execution_count": 85,
     "metadata": {},
     "output_type": "execute_result"
    }
   ],
   "source": [
    "# Usar modelo cargado\n",
    "modelo_cargado.wv.most_similar('minecraft', topn=10)"
   ]
  },
  {
   "cell_type": "code",
   "execution_count": 87,
   "id": "084898f0-53fa-45c7-9531-9b5272f7e233",
   "metadata": {
    "tags": []
   },
   "outputs": [],
   "source": [
    "# Guardar los embedding\n",
    "model.wv.save_word2vec_format('mine_emb.txt', binary=False)\n",
    "model.wv.save_word2vec_format('mine_emb.bin', binary=True)"
   ]
  },
  {
   "cell_type": "code",
   "execution_count": 94,
   "id": "b25603bb-5ec3-4d98-ab4d-5ae9d8467ec2",
   "metadata": {
    "tags": []
   },
   "outputs": [
    {
     "data": {
      "text/plain": [
       "<gensim.models.keyedvectors.KeyedVectors at 0x155c6c600d0>"
      ]
     },
     "execution_count": 94,
     "metadata": {},
     "output_type": "execute_result"
    }
   ],
   "source": [
    "# Cargar un embedding\n",
    "from gensim.models import KeyedVectors\n",
    "\n",
    "embeddings_cargados = KeyedVectors.load_word2vec_format('mine_emb.txt', binary=False)\n",
    "# O si fue guardado en formato binario:\n",
    "# embeddings_cargados = KeyedVectors.load_word2vec_format('mine_emb.bin', binary=True)\n",
    "embeddings_cargados"
   ]
  },
  {
   "cell_type": "code",
   "execution_count": 109,
   "id": "8ae33a9b-35e5-4d93-801c-ac307aa87c1b",
   "metadata": {
    "tags": []
   },
   "outputs": [],
   "source": [
    "def analogias(v1,v2,v3):\n",
    "    similitud = embeddings_cargados.most_similar(positive=[v1,v3], negative=[v2])\n",
    "    print(f'{v1} es a {v2} como {similitud[0][0]} es a {v3}')"
   ]
  },
  {
   "cell_type": "code",
   "execution_count": 111,
   "id": "09b3ca57-3430-4dda-86d7-7c9dae148346",
   "metadata": {
    "tags": []
   },
   "outputs": [
    {
     "name": "stdout",
     "output_type": "stream",
     "text": [
      "jugador es a hombre como de es a mujer\n"
     ]
    }
   ],
   "source": [
    "analogias('jugador', 'hombre', 'mujer')"
   ]
  },
  {
   "cell_type": "markdown",
   "id": "f4c27cbf-dfd1-4201-9c58-755daa36dd9b",
   "metadata": {},
   "source": [
    "Se puede ver que el resultado de entrenar con un texto tan pequeño es malo."
   ]
  },
  {
   "cell_type": "markdown",
   "id": "74f25479-141a-4665-b880-13ab28b36204",
   "metadata": {
    "tags": []
   },
   "source": [
    "# B. Modelo grande con un libro"
   ]
  },
  {
   "cell_type": "markdown",
   "id": "2f5296ea-1374-4410-a585-3a03ebce3fa4",
   "metadata": {
    "tags": []
   },
   "source": [
    "## 2. Cargar texto"
   ]
  },
  {
   "cell_type": "code",
   "execution_count": 122,
   "id": "135dd528-d893-4e2d-bbb8-d0c887e5afd8",
   "metadata": {
    "tags": []
   },
   "outputs": [],
   "source": [
    "def extraer_texto_desde_pdf(ruta_archivo):\n",
    "    with open(ruta_archivo, 'rb') as archivo:\n",
    "        lector = PyPDF2.PdfReader(archivo)\n",
    "        texto = \"\"\n",
    "        for pagina in range(len(lector.pages)):\n",
    "            texto += lector.pages[pagina].extract_text()\n",
    "    return texto\n",
    "\n",
    "documento = extraer_texto_desde_pdf('100as.pdf')"
   ]
  },
  {
   "cell_type": "code",
   "execution_count": 142,
   "id": "35856708-650c-45bd-96b6-8b6e6140d169",
   "metadata": {
    "tags": []
   },
   "outputs": [
    {
     "data": {
      "text/plain": [
       "'Gabriel García Márquez  \\nCien años de soledad  \\n \\nPara Jomi García Ascot  \\ny María Luisa Elio  \\nCien años de soledad Gabriel García Márquez  \\nI  \\nMuchos años después, frente al pe lotón de fusilamiento, el coronel \\nAureliano Buendía había de recordar  aquella tarde remota en que su \\npadre lo llevó a conocer el hielo. Macondo era entonces una aldea de \\nveinte casas de barro y cañabrava co nstruidas a la orilla de un río de \\naguas diáfanas que se precipitaban  por un lecho de piedras pulidas, \\nblancas y enormes como huevos pr ehistóricos. El mundo era tan \\nreciente, que muchas cosas carecían de nombre, y para mencionarlas \\nhabía que señalarías con el dedo. Todos los años, por el mes de marzo, una familia de gitanos desarrapados pl antaba su carpa cerca de la aldea, \\ny con un grande alboroto de pito s y timbales daban a conocer los \\nnuevos inventos. Primero llevaron el imán. Un gitano corpulento, de \\nbarba montaraz y manos de gorrión, qu e se presentó con el nombre de \\nMelquiades, hizo una truculenta de mostración pública de lo que él \\nmismo llamaba la octava maravilla  de los sabios alquimistas de \\nMacedonia. Fue de casa en casa arrastrando dos lingotes metálicos, y \\ntodo el mundo se espantó al ver que los calderos, las pailas, las tenazas \\ny los anafes se caían de su siti o, y las'"
      ]
     },
     "execution_count": 142,
     "metadata": {},
     "output_type": "execute_result"
    }
   ],
   "source": [
    "documento[0:1300]"
   ]
  },
  {
   "cell_type": "code",
   "execution_count": 126,
   "id": "87fe32e7-9d7b-44b1-99a1-70684656e93d",
   "metadata": {
    "tags": []
   },
   "outputs": [
    {
     "data": {
      "text/plain": [
       "824201"
      ]
     },
     "execution_count": 126,
     "metadata": {},
     "output_type": "execute_result"
    }
   ],
   "source": [
    "len(documento)"
   ]
  },
  {
   "cell_type": "code",
   "execution_count": 134,
   "id": "f6e7a260-ab9f-41d8-983b-d7b8e1e7a00c",
   "metadata": {
    "tags": []
   },
   "outputs": [
    {
     "data": {
      "text/plain": [
       "8854"
      ]
     },
     "execution_count": 134,
     "metadata": {},
     "output_type": "execute_result"
    }
   ],
   "source": [
    "# Dividir el documento en frases usando la coma como separador\n",
    "oraciones = documento.split(',')\n",
    "len(oraciones)"
   ]
  },
  {
   "cell_type": "code",
   "execution_count": 144,
   "id": "3991fcbf-4cc7-41e7-995b-0202fed7b77d",
   "metadata": {
    "tags": []
   },
   "outputs": [
    {
     "data": {
      "text/plain": [
       "'  para impartir una orden más'"
      ]
     },
     "execution_count": 144,
     "metadata": {},
     "output_type": "execute_result"
    }
   ],
   "source": [
    "oraciones[5400]"
   ]
  },
  {
   "cell_type": "markdown",
   "id": "ce56cc0b-2637-4cbb-b6c3-22d3943b7855",
   "metadata": {},
   "source": [
    "##  3. Preprocesamiento de datos"
   ]
  },
  {
   "cell_type": "code",
   "execution_count": 146,
   "id": "7a581a9f-e8ff-421f-81be-420b79fdba50",
   "metadata": {
    "tags": []
   },
   "outputs": [],
   "source": [
    "oraciones_limpias = []\n",
    "for oracion in oraciones:\n",
    "    # Eliminar puntuación con maketrans y dividir por espacios\n",
    "    tokens = oracion.translate(str.maketrans('', '',\n",
    "                                             string.punctuation)).split()\n",
    "    # Convertir palabras en minúsculas\n",
    "    tokens = [word.lower() for word in tokens if word.isalpha()]\n",
    "    if tokens: # Añadir solo si hay tokens\n",
    "        oraciones_limpias.append(tokens)"
   ]
  },
  {
   "cell_type": "markdown",
   "id": "582a6d1c-38b4-4edf-935d-b6daa9bc831b",
   "metadata": {},
   "source": [
    "## 4. Entrenamiento del modelo Word2Vec"
   ]
  },
  {
   "cell_type": "code",
   "execution_count": 152,
   "id": "17b96713-a36f-4d54-9ac0-df3ae643cfc1",
   "metadata": {
    "tags": []
   },
   "outputs": [],
   "source": [
    "# Entrenar el modelo Word2Vec\n",
    "model = Word2Vec(sentences=oraciones_limpias,\n",
    "                 vector_size=500, window=5, min_count=1, workers=8)"
   ]
  },
  {
   "cell_type": "code",
   "execution_count": 154,
   "id": "31cee39b-024f-4228-8d90-f0137a4a4c49",
   "metadata": {
    "tags": []
   },
   "outputs": [
    {
     "data": {
      "text/plain": [
       "[('coronel', 0.9950869679450989),\n",
       " ('segundo', 0.993059515953064),\n",
       " ('josé', 0.9907564520835876),\n",
       " ('opuso', 0.9856799244880676),\n",
       " ('endía', 0.9831088781356812),\n",
       " ('jasé', 0.9791728258132935),\n",
       " ('importa', 0.9789041876792908),\n",
       " ('arcadio', 0.978217363357544),\n",
       " ('confió', 0.9781445264816284),\n",
       " ('arca', 0.978023886680603)]"
      ]
     },
     "execution_count": 154,
     "metadata": {},
     "output_type": "execute_result"
    }
   ],
   "source": [
    "model.wv.most_similar('buendía', topn=10)"
   ]
  },
  {
   "cell_type": "code",
   "execution_count": 162,
   "id": "d0710ea2-ab42-41b9-9bb6-37794061eb98",
   "metadata": {
    "tags": []
   },
   "outputs": [
    {
     "data": {
      "text/plain": [
       "[('otra', 0.999878466129303),\n",
       " ('misma', 0.9998680949211121),\n",
       " ('pasaba', 0.9998465180397034),\n",
       " ('patio', 0.9998343586921692),\n",
       " ('lugar', 0.9998325705528259),\n",
       " ('mañana', 0.999823272228241),\n",
       " ('con', 0.9998161196708679),\n",
       " ('hija', 0.99981290102005),\n",
       " ('tal', 0.9998108744621277),\n",
       " ('cama', 0.9998055696487427)]"
      ]
     },
     "execution_count": 162,
     "metadata": {},
     "output_type": "execute_result"
    }
   ],
   "source": [
    "model.wv.most_similar('noche', topn=10)"
   ]
  },
  {
   "cell_type": "markdown",
   "id": "1cae003d-3707-4cda-bf2b-c260aeccff98",
   "metadata": {},
   "source": [
    "Parece que el modelo mejora pero está muy sesgado hacía el contexto del libro. Por ello, como mejor funcionan estos modelos es cuando son entrenados con muchos inputs cuanto más grandes y de temas más dispares mejor."
   ]
  },
  {
   "cell_type": "markdown",
   "id": "086efe1d-3ae7-430b-96c5-8ad6b8afdca5",
   "metadata": {},
   "source": [
    "## 5. Guardar el modelo"
   ]
  },
  {
   "cell_type": "code",
   "execution_count": 170,
   "id": "e93d50e2-4c01-4af8-afa2-75e9388190f7",
   "metadata": {
    "tags": []
   },
   "outputs": [],
   "source": [
    "model.wv.save_word2vec_format('100as_emb.txt', binary=False)"
   ]
  },
  {
   "cell_type": "markdown",
   "id": "cd8fe097-1b40-4633-9858-bcdb4765c0c1",
   "metadata": {},
   "source": [
    "Si se observa el peso del primer modelo y de este segundo pasó de 6.100kb a 114.000kb"
   ]
  },
  {
   "cell_type": "code",
   "execution_count": 172,
   "id": "4423b98e-05a6-4f8c-8b25-551eb8178737",
   "metadata": {
    "tags": []
   },
   "outputs": [
    {
     "data": {
      "text/plain": [
       "<gensim.models.keyedvectors.KeyedVectors at 0x155c7deb710>"
      ]
     },
     "execution_count": 172,
     "metadata": {},
     "output_type": "execute_result"
    }
   ],
   "source": [
    "embeddings_cargados = KeyedVectors.load_word2vec_format('100as_emb.txt', binary=False)\n",
    "# O si fue guardado en formato binario:\n",
    "# embeddings_cargados = KeyedVectors.load_word2vec_format('mine_emb.bin', binary=True)\n",
    "embeddings_cargados"
   ]
  },
  {
   "cell_type": "code",
   "execution_count": 176,
   "id": "e9c163a4-4b9a-4d7d-a175-f53b53f6a5aa",
   "metadata": {
    "tags": []
   },
   "outputs": [
    {
     "name": "stdout",
     "output_type": "stream",
     "text": [
      "rey es a hombre como nada es a mujer\n"
     ]
    }
   ],
   "source": [
    "def analogias(v1,v2,v3):\n",
    "    similitud = embeddings_cargados.most_similar(positive=[v1,v3], negative=[v2])\n",
    "    print(f'{v1} es a {v2} como {similitud[0][0]} es a {v3}')\n",
    "    \n",
    "analogias('rey', 'hombre', 'mujer')"
   ]
  },
  {
   "cell_type": "markdown",
   "id": "eb24ed49-3a30-4bb8-b7fc-f17393f8d547",
   "metadata": {},
   "source": [
    "Requiere de más inputs para mejorar sus predicciones"
   ]
  }
 ],
 "metadata": {
  "kernelspec": {
   "display_name": "Python 3 (ipykernel)",
   "language": "python",
   "name": "python3"
  },
  "language_info": {
   "codemirror_mode": {
    "name": "ipython",
    "version": 3
   },
   "file_extension": ".py",
   "mimetype": "text/x-python",
   "name": "python",
   "nbconvert_exporter": "python",
   "pygments_lexer": "ipython3",
   "version": "3.11.7"
  }
 },
 "nbformat": 4,
 "nbformat_minor": 5
}
